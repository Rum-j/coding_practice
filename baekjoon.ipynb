{
  "nbformat": 4,
  "nbformat_minor": 0,
  "metadata": {
    "colab": {
      "name": "baekjoon.ipynb",
      "provenance": [],
      "collapsed_sections": [],
      "authorship_tag": "ABX9TyPKOA+4bC7+KUUJY+S2RgTR",
      "include_colab_link": true
    },
    "kernelspec": {
      "name": "python3",
      "display_name": "Python 3"
    },
    "language_info": {
      "name": "python"
    }
  },
  "cells": [
    {
      "cell_type": "markdown",
      "metadata": {
        "id": "view-in-github",
        "colab_type": "text"
      },
      "source": [
        "<a href=\"https://colab.research.google.com/github/yeardream-off-4/practice/blob/main/baekjoon.ipynb\" target=\"_parent\"><img src=\"https://colab.research.google.com/assets/colab-badge.svg\" alt=\"Open In Colab\"/></a>"
      ]
    },
    {
      "cell_type": "code",
      "execution_count": null,
      "metadata": {
        "colab": {
          "base_uri": "https://localhost:8080/"
        },
        "id": "bfx8hyX_CWop",
        "outputId": "d192d587-e2d2-4228-d88a-03eaae9441c9"
      },
      "outputs": [
        {
          "output_type": "stream",
          "name": "stdout",
          "text": [
            "1000 70 170 111\n",
            "11\n"
          ]
        }
      ],
      "source": [
        "#1712\n",
        "\n",
        "# A + B = 1070\n",
        "# A + 10*B = 1700\n",
        "# C*n >= A + B*n        (C-B)n = A  \n",
        "\n",
        "n = [int(x) for x in input().split()]       # 무한 입력\n",
        "\n",
        "#A, B, C = input().split()\n",
        "#n = [int(A), int(B), int(C)]\n",
        "if n[1] >= n[2] :\n",
        "    print(-1)\n",
        "else :\n",
        "    print(n[0]//(n[2]-n[1])+1)\n",
        "\n",
        "#A, B, C = map(int, input().split())        # 유한 입력\n",
        "#\n",
        "#if B >= C :\n",
        "#    print(-1)\n",
        "#else :\n",
        "#    print(A//(C-B)+1)"
      ]
    },
    {
      "cell_type": "code",
      "source": [
        "#2292\n",
        "\n",
        "# 1, 6, 12, 18,......\n",
        "# 1, 2*1*3, 2*2*3, 2*3*3, 2*4*3\n",
        "\n",
        "# 1, 7, 19, 37, 61,.....\n",
        "# 1, 1+6, 1+6+12, 1+6+12+18,.....\n",
        "# 1+6*0, 1+6*(0+1), 1+6*(0+1+2), 1+6*(0+1+2+3),.....\n",
        "# 1+6*(n*(n+1)/2) = c       n*(n+1)=(c-1)/3\n",
        "\n",
        "# 13  1+6*3-5           \n",
        "# 58  1+6*10-2\n",
        "\n",
        "n = int(input())\n",
        "trip_room = 1\n",
        "init_room = 1\n",
        "while trip_room < n:\n",
        "    trip_room += 6*init_room\n",
        "    init_room += 1\n",
        "print(init_room)"
      ],
      "metadata": {
        "id": "nJJ5U07pbuHz"
      },
      "execution_count": null,
      "outputs": []
    },
    {
      "cell_type": "code",
      "source": [
        "#1193\n",
        "\n",
        "# 줄    1       2           3               4                   5                       6                           7       \n",
        "# 입력  1       2   3       4   5   6       7   8   9   10      11  12  13  14  15      16  17  18  19  20  21      22  23  24....\n",
        "# 분자  1       1   2       3   2   1       1   2   3   4       5   4   3   2   1       1   2   3   4   5   6       7   6   5....\n",
        "# 분모  1       2   1       1   2   3       4   3   2   1       1   2   3   4   5       6   5   4   3   2   1       1   2   3....\n",
        "\n",
        "x = int(input())\n",
        "\n",
        "n = 1       # n번째 줄, 첫 줄부터\n",
        "\n",
        "while x > n :       # n 줄 찾기\n",
        "    x -= n\n",
        "    n += 1 \n",
        "\n",
        "if n % 2 == 0 :     # 짝수 n, 분자는 줄어들고 분모는 늘어나고 \n",
        "    dn = x\n",
        "    nu = n-x+1\n",
        "\n",
        "else :              # 반대\n",
        "    dn = n-x+1\n",
        "    nu = x\n",
        "\n",
        "print(dn,\"/\", nu, sep=\"\")"
      ],
      "metadata": {
        "colab": {
          "base_uri": "https://localhost:8080/"
        },
        "id": "kwo_ddNTc1zp",
        "outputId": "f7990bba-088e-4cf4-9a72-5624c003fabc"
      },
      "execution_count": null,
      "outputs": [
        {
          "output_type": "stream",
          "name": "stdout",
          "text": [
            "24\n",
            "5/3\n"
          ]
        }
      ]
    },
    {
      "cell_type": "code",
      "source": [
        "from fractions import Fraction\n",
        "Fraction(1, 2)"
      ],
      "metadata": {
        "id": "uc13dRVqowkO"
      },
      "execution_count": null,
      "outputs": []
    },
    {
      "cell_type": "code",
      "source": [
        "#2869\n",
        "import math\n",
        "\n",
        "# a, b, v = map(int,input().split())\n",
        "# t = 1\n",
        "# p = 0\n",
        "# while v > p :\n",
        "#     p += a\n",
        "#     t += 1\n",
        "\n",
        "#     if v > p :\n",
        "#         p -= b\n",
        "#         t += 1\n",
        "#     else :\n",
        "#         pass\n",
        "\n",
        "# print(t//2)\n",
        "\n",
        "\n",
        "a, b, v = map(int,input().split())\n",
        "print(math.ceil((v-b)/(a-b)))      # 이 생각을 해내야하는데 (v-b)/(a-b)"
      ],
      "metadata": {
        "colab": {
          "base_uri": "https://localhost:8080/"
        },
        "id": "hUq5OoHfvk8c",
        "outputId": "2de549c8-6498-4a4b-a821-2474472788ce"
      },
      "execution_count": null,
      "outputs": [
        {
          "output_type": "stream",
          "name": "stdout",
          "text": [
            "5 1 6\n",
            "2\n"
          ]
        }
      ]
    },
    {
      "cell_type": "code",
      "source": [
        "#10250\n",
        "\n",
        "t = int(input())\n",
        "\n",
        "for t in range(t):\n",
        "    h, w, n = map(int,input().split())\n",
        "    fl = n % h          # 층\n",
        "    rm = n // h + 1     # 방번호\n",
        "    \n",
        "    if fl == 0:         # bottom\n",
        "        fl = h\n",
        "        rm -= 1\n",
        "    print(fl*100 + rm)"
      ],
      "metadata": {
        "colab": {
          "base_uri": "https://localhost:8080/"
        },
        "id": "NsYu0s5Fw7yp",
        "outputId": "0702bac5-cd3f-49e8-a208-a1564b2a32b3"
      },
      "execution_count": null,
      "outputs": [
        {
          "output_type": "stream",
          "name": "stdout",
          "text": [
            "2\n",
            "6 12 10\n",
            "402\n",
            "30 50 72\n",
            "1203\n"
          ]
        }
      ]
    },
    {
      "cell_type": "code",
      "source": [
        "#2775\n",
        "\n",
        "t = int(input())\n",
        "\n",
        "for i in range(t):"
      ],
      "metadata": {
        "colab": {
          "base_uri": "https://localhost:8080/",
          "height": 148
        },
        "id": "o0ZNOyhk1Bu7",
        "outputId": "a8b5cc09-8597-4bd5-97c1-7c289f9652b4"
      },
      "execution_count": null,
      "outputs": [
        {
          "output_type": "error",
          "ename": "SyntaxError",
          "evalue": "ignored",
          "traceback": [
            "\u001b[0;36m  File \u001b[0;32m\"<ipython-input-1-6e90ff1bd1a4>\"\u001b[0;36m, line \u001b[0;32m1\u001b[0m\n\u001b[0;31m    t =\u001b[0m\n\u001b[0m       ^\u001b[0m\n\u001b[0;31mSyntaxError\u001b[0m\u001b[0;31m:\u001b[0m invalid syntax\n"
          ]
        }
      ]
    },
    {
      "cell_type": "code",
      "source": [
        "r='강한친구 대한육군'\n",
        "print(r,r,sep='\\n')"
      ],
      "metadata": {
        "colab": {
          "base_uri": "https://localhost:8080/"
        },
        "id": "JgOjKUgFC5BO",
        "outputId": "170b64eb-5c0d-4bdc-b892-2ebc17e9eb8a"
      },
      "execution_count": null,
      "outputs": [
        {
          "output_type": "stream",
          "name": "stdout",
          "text": [
            "강한친구 대한육군\n",
            "강한친구 대한육군\n"
          ]
        }
      ]
    },
    {
      "cell_type": "code",
      "source": [
        "print(\"\\\\    /\\\\\\n\",\n",
        "\"\"\")  ( ')\n",
        "(  /  )\n",
        " \\\\(__)|\"\"\")\n",
        "# print(\"\"\"\\\\    /\\\\\n",
        "#  )  ( ')\n",
        "# (  /  )\n",
        "#  \\\\(__)|\"\"\")\n",
        "print(\"\\\\    /\\\\\\n )  ( ')\\n(  /  )\\n \\\\(__)|\")\n",
        "print('\\\\    /\\\\\\n )  ( \\')\\n(  /  )\\n \\\\(__)|')"
      ],
      "metadata": {
        "colab": {
          "base_uri": "https://localhost:8080/"
        },
        "id": "asfYgbMAGBZv",
        "outputId": "f11b3589-463d-4df4-a8d1-c340c84bbe9e"
      },
      "execution_count": null,
      "outputs": [
        {
          "output_type": "stream",
          "name": "stdout",
          "text": [
            "\\    /\\\n",
            " )  ( ')\n",
            "(  /  )\n",
            " \\(__)|\n",
            "\\    /\\\n",
            " )  ( ')\n",
            "(  /  )\n",
            " \\(__)|\n",
            "\\    /\\\n",
            " )  ( ')\n",
            "(  /  )\n",
            " \\(__)|\n"
          ]
        }
      ]
    },
    {
      "cell_type": "code",
      "source": [
        "print('''|\\\\_/|\n",
        "|q p|   /}\n",
        "( 0 )\"\"\"\\\\\n",
        "|\"^\"`    |\n",
        "||_/=\\\\\\\\__|''')"
      ],
      "metadata": {
        "id": "BZdw_sZGKKpD",
        "colab": {
          "base_uri": "https://localhost:8080/"
        },
        "outputId": "e3c70cfa-2665-4fbd-dd46-c6d7ec7ec9df"
      },
      "execution_count": null,
      "outputs": [
        {
          "output_type": "stream",
          "name": "stdout",
          "text": [
            "|\\_/|\n",
            "|q p|   /}\n",
            "( 0 )\"\"\"\\\n",
            "|\"^\"`    |\n",
            "||_/=\\\\__|\n"
          ]
        }
      ]
    },
    {
      "cell_type": "code",
      "source": [
        "n = [int(x) for x in input().split()]\n",
        "print(n[0] + n[1])"
      ],
      "metadata": {
        "id": "PldBgB2BJ40H",
        "colab": {
          "base_uri": "https://localhost:8080/"
        },
        "outputId": "8275b28a-84ed-4952-b026-a5baee6ca7f9"
      },
      "execution_count": null,
      "outputs": [
        {
          "output_type": "stream",
          "name": "stdout",
          "text": [
            "1 2\n",
            "3\n"
          ]
        }
      ]
    },
    {
      "cell_type": "code",
      "source": [
        "n = [int(x) for x in input().split()]\n",
        "print(n[0] - n[1])"
      ],
      "metadata": {
        "colab": {
          "base_uri": "https://localhost:8080/"
        },
        "id": "T91W2634WNJO",
        "outputId": "a4baabf3-8ca8-488b-bea2-0bacb7c767ba"
      },
      "execution_count": null,
      "outputs": [
        {
          "output_type": "stream",
          "name": "stdout",
          "text": [
            "3 2\n",
            "1\n"
          ]
        }
      ]
    },
    {
      "cell_type": "code",
      "source": [
        "n = [int(x) for x in input().split()]\n",
        "print(n[0] * n[1])"
      ],
      "metadata": {
        "colab": {
          "base_uri": "https://localhost:8080/"
        },
        "id": "iBtLSn8RWlSH",
        "outputId": "d73363f9-9b5d-48e0-ac25-418d0cae923c"
      },
      "execution_count": null,
      "outputs": [
        {
          "output_type": "stream",
          "name": "stdout",
          "text": [
            "3 4\n",
            "12\n"
          ]
        }
      ]
    },
    {
      "cell_type": "code",
      "source": [
        "n = [int(x) for x in input().split()]\n",
        "print(n[0] / n[1])"
      ],
      "metadata": {
        "colab": {
          "base_uri": "https://localhost:8080/"
        },
        "id": "ex5o8uVEW9J_",
        "outputId": "7940f3f1-b829-414a-e1e3-90722d7e0816"
      },
      "execution_count": null,
      "outputs": [
        {
          "output_type": "stream",
          "name": "stdout",
          "text": [
            "4 5\n",
            "0.8\n"
          ]
        }
      ]
    },
    {
      "cell_type": "code",
      "source": [
        "n = [int(x) for x in input().split()]\n",
        "a = n[0]\n",
        "b = n[1]\n",
        "print(a + b, a - b, a * b, a // b, a % b, sep=\"\\n\")"
      ],
      "metadata": {
        "colab": {
          "base_uri": "https://localhost:8080/"
        },
        "id": "gljk5vPyXg8x",
        "outputId": "894ffaf5-1f5d-40f7-deb1-2cee191dfa6a"
      },
      "execution_count": null,
      "outputs": [
        {
          "output_type": "stream",
          "name": "stdout",
          "text": [
            "7 3\n",
            "10\n",
            "4\n",
            "21\n",
            "2\n",
            "1\n"
          ]
        }
      ]
    },
    {
      "cell_type": "code",
      "source": [
        "j = input()\n",
        "print(j+\"\"\"??!\"\"\")"
      ],
      "metadata": {
        "colab": {
          "base_uri": "https://localhost:8080/"
        },
        "id": "-g7Wc8GmY5mL",
        "outputId": "ec85b5df-2e24-447f-ead4-1d3a1cee98a9"
      },
      "execution_count": null,
      "outputs": [
        {
          "output_type": "stream",
          "name": "stdout",
          "text": [
            "baekjoon\n",
            "baekjoon??!\n"
          ]
        }
      ]
    },
    {
      "cell_type": "code",
      "source": [
        "print(int(input())-543)"
      ],
      "metadata": {
        "colab": {
          "base_uri": "https://localhost:8080/"
        },
        "id": "Tx-vtvdlany8",
        "outputId": "87dd710e-356c-4d0d-929d-a7886bfe1624"
      },
      "execution_count": null,
      "outputs": [
        {
          "output_type": "stream",
          "name": "stdout",
          "text": [
            "2541\n",
            "1998\n"
          ]
        }
      ]
    },
    {
      "cell_type": "code",
      "source": [
        "a, b, c = map(int, input().split())\n",
        "print((a+b)%c, ((a%c)+(b%c))%c, (a*b)%c, ((a%c)*(b%c))%c, sep='\\n')"
      ],
      "metadata": {
        "colab": {
          "base_uri": "https://localhost:8080/"
        },
        "id": "dKAbZKoGD9tV",
        "outputId": "ea2ba1e9-4a80-49bc-e4f0-522208a0f728"
      },
      "execution_count": null,
      "outputs": [
        {
          "output_type": "stream",
          "name": "stdout",
          "text": [
            "5 8 4\n",
            "1\n",
            "1\n",
            "0\n",
            "0\n"
          ]
        }
      ]
    },
    {
      "cell_type": "code",
      "source": [
        "a = input()\n",
        "b = input()\n",
        "i = 1\n",
        "for _ in b :\n",
        "    c = int(a) * int(b[-1*i])\n",
        "    print(c)\n",
        "    i += 1\n",
        "print(int(a)*int(b))"
      ],
      "metadata": {
        "colab": {
          "base_uri": "https://localhost:8080/"
        },
        "id": "Z6-PyOlpqLbT",
        "outputId": "24d77a83-29a2-45de-e270-a9563aafcc30"
      },
      "execution_count": null,
      "outputs": [
        {
          "output_type": "stream",
          "name": "stdout",
          "text": [
            "472\n",
            "385\n",
            "2360\n",
            "3776\n",
            "1416\n",
            "181720\n"
          ]
        }
      ]
    },
    {
      "cell_type": "code",
      "source": [
        "b = str(456)\n",
        "b[-1]"
      ],
      "metadata": {
        "colab": {
          "base_uri": "https://localhost:8080/",
          "height": 35
        },
        "id": "H_MJQDd0ZFo-",
        "outputId": "2fdcdff0-c1f5-448f-ae5d-dda794a35db4"
      },
      "execution_count": null,
      "outputs": [
        {
          "output_type": "execute_result",
          "data": {
            "text/plain": [
              "'6'"
            ],
            "application/vnd.google.colaboratory.intrinsic+json": {
              "type": "string"
            }
          },
          "metadata": {},
          "execution_count": 7
        }
      ]
    },
    {
      "cell_type": "code",
      "source": [
        ""
      ],
      "metadata": {
        "id": "sdE27LzWaB8I"
      },
      "execution_count": null,
      "outputs": []
    }
  ]
}