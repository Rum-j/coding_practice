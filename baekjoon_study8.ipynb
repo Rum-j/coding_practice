{
  "cells": [
    {
      "cell_type": "markdown",
      "metadata": {
        "id": "view-in-github",
        "colab_type": "text"
      },
      "source": [
        "<a href=\"https://colab.research.google.com/github/sankeuny/practice/blob/dopractice/baekjoon_study8.ipynb\" target=\"_parent\"><img src=\"https://colab.research.google.com/assets/colab-badge.svg\" alt=\"Open In Colab\"/></a>"
      ]
    },
    {
      "cell_type": "markdown",
      "id": "cce08eaf",
      "metadata": {
        "id": "cce08eaf"
      },
      "source": [
        "## 3. 괄호 (#9012)\n",
        "- - -\n",
        "1초, 128MB\n",
        "\n",
        "- - -  \n",
        "\n",
        "### 문제\n",
        "괄호 문자열(Parenthesis String, PS)은 두 개의 괄호 기호인 ‘(’ 와 ‘)’ 만으로 구성되어 있는 문자열이다. 그 중에서 괄호의 모양이 바르게 구성된 문자열을 올바른 괄호 문자열(Valid PS, VPS)이라고 부른다. 한 쌍의 괄호 기호로 된 “( )” 문자열은 기본 VPS 이라고 부른다. 만일 x 가 VPS 라면 이것을 하나의 괄호에 넣은 새로운 문자열 “(x)”도 VPS 가 된다. 그리고 두 VPS x 와 y를 접합(concatenation)시킨 새로운 문자열 xy도 VPS 가 된다. 예를 들어 “(())()”와 “((()))” 는 VPS 이지만 “(()(”, “(())()))” , 그리고 “(()” 는 모두 VPS 가 아닌 문자열이다. \n",
        "\n",
        "여러분은 입력으로 주어진 괄호 문자열이 VPS 인지 아닌지를 판단해서 그 결과를 YES 와 NO 로 나타내어야 한다.\n",
        "\n",
        "### 입력\n",
        "입력 데이터는 표준 입력을 사용한다. 입력은 T개의 테스트 데이터로 주어진다. 입력의 첫 번째 줄에는 입력 데이터의 수를 나타내는 정수 T가 주어진다. 각 테스트 데이터의 첫째 줄에는 괄호 문자열이 한 줄에 주어진다. 하나의 괄호 문자열의 길이는 2 이상 50 이하이다.\n",
        "\n",
        "### 출력\n",
        "출력은 표준 출력을 사용한다. 만일 입력 괄호 문자열이 올바른 괄호 문자열(VPS)이면 “YES”, 아니면 “NO”를 한 줄에 하나씩 차례대로 출력해야 한다.  \n",
        "\n",
        "- - -  \n",
        "\n",
        "#### 예제 입력 1 \n",
        "```\n",
        "6\n",
        "(())())\n",
        "(((()())()\n",
        "(()())((()))\n",
        "((()()(()))(((())))()\n",
        "()()()()(()()())()\n",
        "(()((())()( \n",
        "```\n",
        "#### 예제 출력 1\n",
        "```\n",
        "NO\n",
        "NO\n",
        "YES\n",
        "NO\n",
        "YES\n",
        "NO\n",
        "```\n",
        "#### 예제 입력 2 \n",
        "```\n",
        "3\n",
        "((\n",
        "))\n",
        "())(() \n",
        "```\n",
        "#### 예제 출력 2 \n",
        "```\n",
        "NO\n",
        "NO\n",
        "NO\n",
        "```"
      ]
    },
    {
      "cell_type": "code",
      "source": [
        "t = int(input())\n",
        "\n",
        "for _ in range(t):\n",
        "    ps = input()\n",
        "    ps_list = list(ps)\n",
        "    # ps_list = [ps]\n",
        "    total = 0\n",
        "    for i in ps_list:\n",
        "        if i == '(':\n",
        "            total += 1\n",
        "        elif i == ')':\n",
        "            total -= 1\n",
        "        if total < 0:\n",
        "            print(\"NO\")\n",
        "            break\n",
        "    if total == 0:\n",
        "        print(\"YES\")\n",
        "    elif total > 0:\n",
        "        print(\"NO\")"
      ],
      "metadata": {
        "id": "P0J7_X-8iwr3",
        "colab": {
          "base_uri": "https://localhost:8080/"
        },
        "outputId": "bdfed534-fe41-4960-e6a3-777655fdf54b"
      },
      "id": "P0J7_X-8iwr3",
      "execution_count": null,
      "outputs": [
        {
          "output_type": "stream",
          "name": "stdout",
          "text": [
            "3\n",
            "((\n",
            "NO\n",
            "))\n",
            "NO\n",
            "())(()\n",
            "NO\n"
          ]
        }
      ]
    },
    {
      "cell_type": "markdown",
      "id": "be96e15f",
      "metadata": {
        "id": "be96e15f"
      },
      "source": [
        "## 6. 오큰수 (#17298)\n",
        "- - -\n",
        "1초, 512MB\n",
        "\n",
        "- - -  \n",
        "\n",
        "### 문제\n",
        "크기가 N인 수열 A = A1, A2, ..., AN이 있다. 수열의 각 원소 Ai에 대해서 오큰수 NGE(i)를 구하려고 한다. Ai의 오큰수는 오른쪽에 있으면서 Ai보다 큰 수 중에서 가장 왼쪽에 있는 수를 의미한다. 그러한 수가 없는 경우에 오큰수는 -1이다.\n",
        "\n",
        "예를 들어, A = [3, 5, 2, 7]인 경우 NGE(1) = 5, NGE(2) = 7, NGE(3) = 7, NGE(4) = -1이다. A = [9, 5, 4, 8]인 경우에는 NGE(1) = -1, NGE(2) = 8, NGE(3) = 8, NGE(4) = -1이다.\n",
        "\n",
        "### 입력\n",
        "첫째 줄에 수열 A의 크기 N (1 ≤ N ≤ 1,000,000)이 주어진다. 둘째 줄에 수열 A의 원소 A1, A2, ..., AN (1 ≤ Ai ≤ 1,000,000)이 주어진다. \n",
        "\n",
        "### 출력\n",
        "총 N개의 수 NGE(1), NGE(2), ..., NGE(N)을 공백으로 구분해 출력한다. \n",
        "\n",
        "### 서브태스크\n",
        "|번호|배점|제한|\n",
        "|--|--|:--|\n",
        "|1|17|모든 주유소의 리터당 가격은 1원이다.|\n",
        "|2|41|2 ≤ N ≤ 1,000, 제일 왼쪽 도시부터 제일 오른쪽 도시까지의 거리는 최대 10,000, 리터 당 가격은 최대 10,000이다.|\n",
        "|3|42|원래의 제약조건 이외에 아무 제약조건이 없다.|\n",
        "\n",
        "- - -  \n",
        "\n",
        "#### 예제 입력 1 \n",
        "```\n",
        "4\n",
        "3 5 2 7\n",
        "``` \n",
        "#### 예제 출력 1\n",
        "```\n",
        "5 7 7 -1\n",
        "```\n",
        "#### 예제 입력 2 \n",
        "```\n",
        "4\n",
        "9 5 4 8\n",
        "``` \n",
        "#### 예제 출력 2\n",
        "```\n",
        "-1 8 8 -1\n",
        "```"
      ]
    },
    {
      "cell_type": "code",
      "execution_count": null,
      "id": "478da9e8",
      "metadata": {
        "id": "478da9e8"
      },
      "outputs": [],
      "source": [
        "import sys\n",
        "n = int(input())\n",
        "A = list(map(int, sys.stdin.readline().split()))\n",
        "answer = [-1] * n\n",
        "stack = []\n",
        "\n",
        "\n",
        "stack.append(0)\n",
        "for i in range(1, n):\n",
        "    while stack and A[stack[-1]] < A[i]:\n",
        "        answer[stack.pop()] = A[i]\n",
        "    stack.append(i)\n",
        "\n",
        "\n",
        "print(*answer)"
      ]
    },
    {
      "cell_type": "markdown",
      "source": [
        "## 7. AC (#5430)\n",
        "- - -\n",
        "1초, 256MB\n",
        "\n",
        "- - -  \n",
        "\n",
        "### 문제\n",
        "선영이는 주말에 할 일이 없어서 새로운 언어 AC를 만들었다. AC는 정수 배열에 연산을 하기 위해 만든 언어이다. 이 언어에는 두 가지 함수 R(뒤집기)과 D(버리기)가 있다.\n",
        "\n",
        "함수 R은 배열에 있는 수의 순서를 뒤집는 함수이고, D는 첫 번째 수를 버리는 함수이다. 배열이 비어있는데 D를 사용한 경우에는 에러가 발생한다.\n",
        "\n",
        "함수는 조합해서 한 번에 사용할 수 있다. 예를 들어, \"AB\"는 A를 수행한 다음에 바로 이어서 B를 수행하는 함수이다. 예를 들어, \"RDD\"는 배열을 뒤집은 다음 처음 두 수를 버리는 함수이다.\n",
        "\n",
        "배열의 초기값과 수행할 함수가 주어졌을 때, 최종 결과를 구하는 프로그램을 작성하시오.\n",
        "\n",
        "### 입력\n",
        "첫째 줄에 테스트 케이스의 개수 T가 주어진다. T는 최대 100이다.\n",
        "\n",
        "각 테스트 케이스의 첫째 줄에는 수행할 함수 p가 주어진다. p의 길이는 1보다 크거나 같고, 100,000보다 작거나 같다.\n",
        "\n",
        "다음 줄에는 배열에 들어있는 수의 개수 n이 주어진다. (0 ≤ n ≤ 100,000)\n",
        "\n",
        "다음 줄에는 [x1,...,xn]과 같은 형태로 배열에 들어있는 정수가 주어진다. (1 ≤ xi ≤ 100)\n",
        "\n",
        "전체 테스트 케이스에 주어지는 p의 길이의 합과 n의 합은 70만을 넘지 않는다. \n",
        "\n",
        "### 출력\n",
        "각 테스트 케이스에 대해서, 입력으로 주어진 정수 배열에 함수를 수행한 결과를 출력한다. 만약, 에러가 발생한 경우에는 error를 출력한다. \n",
        "\n",
        "\n",
        "- - -  \n",
        "\n",
        "#### 예제 입력 1 \n",
        "```\n",
        "4\n",
        "RDD\n",
        "4\n",
        "[1,2,3,4]\n",
        "DD\n",
        "1\n",
        "[42]\n",
        "RRD\n",
        "6\n",
        "[1,1,2,3,5,8]\n",
        "D\n",
        "0\n",
        "[]\n",
        "``` \n",
        "#### 예제 출력 1\n",
        "```\n",
        "[2,1]\n",
        "error\n",
        "[1,2,3,5,8]\n",
        "error\n",
        "```"
      ],
      "metadata": {
        "id": "mI5GlXzdshCV"
      },
      "id": "mI5GlXzdshCV"
    },
    {
      "cell_type": "code",
      "source": [
        ""
      ],
      "metadata": {
        "id": "tlvnCO6hs99H"
      },
      "id": "tlvnCO6hs99H",
      "execution_count": null,
      "outputs": []
    }
  ],
  "metadata": {
    "kernelspec": {
      "display_name": "Python 3 (ipykernel)",
      "language": "python",
      "name": "python3"
    },
    "language_info": {
      "codemirror_mode": {
        "name": "ipython",
        "version": 3
      },
      "file_extension": ".py",
      "mimetype": "text/x-python",
      "name": "python",
      "nbconvert_exporter": "python",
      "pygments_lexer": "ipython3",
      "version": "3.8.13"
    },
    "toc": {
      "base_numbering": 1,
      "nav_menu": {},
      "number_sections": false,
      "sideBar": true,
      "skip_h1_title": false,
      "title_cell": "Table of Contents",
      "title_sidebar": "Contents",
      "toc_cell": false,
      "toc_position": {},
      "toc_section_display": true,
      "toc_window_display": true
    },
    "varInspector": {
      "cols": {
        "lenName": 16,
        "lenType": 16,
        "lenVar": 40
      },
      "kernels_config": {
        "python": {
          "delete_cmd_postfix": "",
          "delete_cmd_prefix": "del ",
          "library": "var_list.py",
          "varRefreshCmd": "print(var_dic_list())"
        },
        "r": {
          "delete_cmd_postfix": ") ",
          "delete_cmd_prefix": "rm(",
          "library": "var_list.r",
          "varRefreshCmd": "cat(var_dic_list()) "
        }
      },
      "types_to_exclude": [
        "module",
        "function",
        "builtin_function_or_method",
        "instance",
        "_Feature"
      ],
      "window_display": false
    },
    "colab": {
      "name": "baekjoon_study8.ipynb",
      "provenance": [],
      "collapsed_sections": [],
      "include_colab_link": true
    }
  },
  "nbformat": 4,
  "nbformat_minor": 5
}