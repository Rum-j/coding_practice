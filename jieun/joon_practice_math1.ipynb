{
  "nbformat": 4,
  "nbformat_minor": 0,
  "metadata": {
    "colab": {
      "name": "joon_practice_math1.ipynb",
      "provenance": [],
      "collapsed_sections": [],
      "authorship_tag": "ABX9TyO1yUPCDkBsx+ah3scVl0bZ"
    },
    "kernelspec": {
      "name": "python3",
      "display_name": "Python 3"
    },
    "language_info": {
      "name": "python"
    }
  },
  "cells": [
    {
      "cell_type": "code",
      "source": [
        "#1712\n",
        "\n",
        "A=input().split()\n",
        "fix = int( A[0])\n",
        "var = int(A[1])\n",
        "price = int( A[2])\n",
        "\n",
        "if var>=price  :\n",
        "    print(-1)\n",
        "else :\n",
        "    print(int (fix/(price-var) +1))\n",
        "    "
      ],
      "metadata": {
        "id": "sineSLfPRnf_"
      },
      "execution_count": null,
      "outputs": []
    },
    {
      "cell_type": "code",
      "source": [
        "#2292\n",
        "\n",
        "a=int(input())\n",
        "n=1\n",
        "while a > 3*n**2 - 3*n +1  :\n",
        "    n=n+1\n",
        "    \n",
        "else:\n",
        "    print(n)\n",
        "\n",
        "#등비수열"
      ],
      "metadata": {
        "id": "WVUdfsVARtqO"
      },
      "execution_count": null,
      "outputs": []
    },
    {
      "cell_type": "code",
      "source": [
        "#2839\n",
        "N=int(input())\n",
        "\n",
        "if N == 4 or N == 7 :\n",
        "    print(-1)\n",
        "    \n",
        "elif N%5 == 3:\n",
        "    print( (N//5) +1 )\n",
        "elif N%5 == 4 or N%5 == 1:\n",
        "    M= (N - 5*(N//5 -1)  ) //3\n",
        "    print( N//5 + M - 1 )\n",
        "elif N%5 == 2:\n",
        "    print(N//5 +2 )\n",
        "elif N%5 == 0:\n",
        "    print( int(N/5) )\n",
        "\n"
      ],
      "metadata": {
        "id": "E3uYBQqOm0mO",
        "colab": {
          "base_uri": "https://localhost:8080/"
        },
        "outputId": "e2ab8350-bb9d-4ee0-e0e8-bb60de47925b"
      },
      "execution_count": null,
      "outputs": [
        {
          "output_type": "stream",
          "name": "stdout",
          "text": [
            "14 13 60\n",
            "47\n"
          ]
        }
      ]
    },
    {
      "cell_type": "code",
      "source": [
        "#10757\n",
        "\n",
        "a, b = map(int, input(\"\").split())\n",
        "print(a+b)"
      ],
      "metadata": {
        "id": "ib_En_BjuOFR"
      },
      "execution_count": null,
      "outputs": []
    }
  ]
}