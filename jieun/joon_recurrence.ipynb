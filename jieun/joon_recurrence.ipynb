{
  "nbformat": 4,
  "nbformat_minor": 0,
  "metadata": {
    "colab": {
      "name": "joon_recurrence.ipynb",
      "provenance": [],
      "collapsed_sections": [],
      "authorship_tag": "ABX9TyNwgxnWDzYaiOXMUZhU4nYt"
    },
    "kernelspec": {
      "name": "python3",
      "display_name": "Python 3"
    },
    "language_info": {
      "name": "python"
    }
  },
  "cells": [
    {
      "cell_type": "markdown",
      "source": [
        "#### 백준 단계별 풀어보기 재귀\n",
        "\n",
        "재귀함수가.. 뭔데..? (금시초문)   \n",
        "라는 저같은 분들을 위해 적는 머리말~    \n",
        "함수 안에서 자기 자신을 호출하는 방법입니다.\n",
        "일반적인 상황보다는 알고리즘을 구현할 때 자주 사용한다고 합니다.    \n",
        "어차피 글로 보는 것보다 직접 머리써가면서 구현하는게 훨씬 이해가 빠를테니 문제 풀이로 바로 들어가 보겠습니다.  \n"
      ],
      "metadata": {
        "id": "fCKiYL82mxHl"
      }
    },
    {
      "cell_type": "markdown",
      "source": [
        ">1단계 팩토리얼   \n",
        "   \n",
        "문제   \n",
        "0보다 크거나 같은 정수 N이 주어진다. 이때, N!을 출력하는 프로그램을 작성하시오.\n",
        "\n",
        "입력   \n",
        "첫째 줄에 정수 N(0 ≤ N ≤ 12)이 주어진다.\n",
        "\n",
        "출력   \n",
        "첫째 줄에 N!을 출력한다."
      ],
      "metadata": {
        "id": "buwtCZAJm1ZA"
      }
    },
    {
      "cell_type": "code",
      "source": [
        "#10872번\n",
        "n =  int(input())\n",
        "def factorial(x):\n",
        "    if x==0: # 0 먼저 컷해주기 0! 은 1임!! \n",
        "        return(1)\n",
        "    elif x>1: #1은 곱해줘봤자 1이니까 굳이 한 번 더 곱해줄 필요 없음\n",
        "       return x* factorial(x-1)\n",
        "    elif x == 1:\n",
        "        return(1)\n",
        "print(factorial(n)) #처음에 프린트 안해줘서 틀림.. "
      ],
      "metadata": {
        "id": "le5yBlY6m2kx",
        "colab": {
          "base_uri": "https://localhost:8080/"
        },
        "outputId": "469e5ba9-9c07-4596-985b-1832414ff5f0"
      },
      "execution_count": null,
      "outputs": [
        {
          "name": "stdout",
          "output_type": "stream",
          "text": [
            "12\n"
          ]
        },
        {
          "output_type": "execute_result",
          "data": {
            "text/plain": [
              "479001600"
            ]
          },
          "metadata": {},
          "execution_count": 9
        }
      ]
    },
    {
      "cell_type": "markdown",
      "source": [
        ">2단계 피보나치 수 5 \n",
        "\n",
        "문제   \n",
        "피보나치 수는 0과 1로 시작한다. 0번째 피보나치 수는 0이고, 1번째 피보나치 수는 1이다. 그 다음 2번째 부터는 바로 앞 두 피보나치 수의 합이 된다.\n",
        "\n",
        "이를 식으로 써보면 Fn = Fn-1 + Fn-2 (n ≥ 2)가 된다.\n",
        "\n",
        "n=17일때 까지 피보나치 수를 써보면 다음과 같다.\n",
        "\n",
        "0, 1, 1, 2, 3, 5, 8, 13, 21, 34, 55, 89, 144, 233, 377, 610, 987, 1597\n",
        "\n",
        "n이 주어졌을 때, n번째 피보나치 수를 구하는 프로그램을 작성하시오.\n",
        "\n",
        "입력   \n",
        "첫째 줄에 n이 주어진다. n은 20보다 작거나 같은 자연수 또는 0이다.\n",
        "\n",
        "출력   \n",
        "첫째 줄에 n번째 피보나치 수를 출력한다."
      ],
      "metadata": {
        "id": "Uk4XAdEd_Din"
      }
    },
    {
      "cell_type": "code",
      "source": [
        "#10870\n",
        "n = int(input())\n",
        "\n",
        "def fibo(x):\n",
        "    if x==0:\n",
        "        return 0\n",
        "    elif x==1 :\n",
        "        return 1\n",
        "    elif x>=2 :\n",
        "        return fibo(x-2)+fibo(x-1) #풀긴 풀었는데 어케 돌아가는건지 원.. \n",
        "print(fibo(n))"
      ],
      "metadata": {
        "colab": {
          "base_uri": "https://localhost:8080/"
        },
        "id": "46yToLNW-jf6",
        "outputId": "463ba341-b964-4afb-efcd-69cb92e32b35"
      },
      "execution_count": null,
      "outputs": [
        {
          "output_type": "stream",
          "name": "stdout",
          "text": [
            "10\n",
            "55\n"
          ]
        }
      ]
    },
    {
      "cell_type": "markdown",
      "source": [
        ">3단계 재귀함수가 뭔가요?    \n",
        "\n",
        "문제   \n",
        "평소에 질문을 잘 받아주기로 유명한 중앙대학교의 JH 교수님은 학생들로부터 재귀함수가 무엇인지에 대하여 많은 질문을 받아왔다.\n",
        "\n",
        "매번 질문을 잘 받아주셨던 JH 교수님이지만 그는 중앙대학교가 자신과 맞는가에 대한 고민을 항상 해왔다.\n",
        "\n",
        "중앙대학교와 자신의 길이 맞지 않다고 생각한 JH 교수님은 결국 중앙대학교를 떠나기로 결정하였다.\n",
        "\n",
        "떠나기 전까지도 제자들을 생각하셨던 JH 교수님은 재귀함수가 무엇인지 물어보는 학생들을 위한 작은 선물로 자동 응답 챗봇을 준비하기로 했다.\n",
        "\n",
        "JH 교수님이 만들 챗봇의 응답을 출력하는 프로그램을 만들어보자.\n",
        "\n",
        "입력   \n",
        "교수님이 출력을 원하는 재귀 횟수 N(1 ≤ N ≤ 50)이 주어진다.\n",
        "\n",
        "출력   \n",
        "출력 예시를 보고 재귀 횟수에 따른 챗봇의 응답을 출력한다."
      ],
      "metadata": {
        "id": "K3QQg_BUI7vh"
      }
    },
    {
      "cell_type": "code",
      "source": [
        "#17478\n",
        "n = int(input())\n",
        "\n",
        "def whatisjg(x):\n",
        "    if x>0:\n",
        "        x= x-1\n",
        "        \n",
        "        return whatisjg(x-1)\n",
        "    if x==0:\n",
        "        return \"재귀함수는 자기 자신을 호출하는 함수라네\"\n",
        "print(whatisjg(n))"
      ],
      "metadata": {
        "colab": {
          "base_uri": "https://localhost:8080/",
          "height": 190
        },
        "id": "kPk72q5Y_y0U",
        "outputId": "002b17e6-1316-4e33-b2f6-ee8bf2995479"
      },
      "execution_count": null,
      "outputs": [
        {
          "output_type": "error",
          "ename": "IndentationError",
          "evalue": "ignored",
          "traceback": [
            "\u001b[0;36m  File \u001b[0;32m\"<ipython-input-31-b2dd494e3262>\"\u001b[0;36m, line \u001b[0;32m6\u001b[0m\n\u001b[0;31m    return(f\"어느 한 컴퓨터공학과 학생이 유명한 교수님을 찾아가 물었다. \\n \"재귀함수가 뭔가요?\" \\n \"잘 들어보게. 옛날옛날 한 산 꼭대기에 이세상 모든 지식을 통달한 선인이 있었어.\\n 마을 사람들은 모두 그 선인에게 수많은 질문을 했고, 모두 지혜롭게 대답해 주었지.\\n그의 답은 대부분 옳았다고 하네. 그런데 어느 날, 그 선인에게 한 선비가 찾아와서 물었어.\\n \"{}라고 답변하였지.\" \\n\"\u001b[0m\n\u001b[0m                                                                                                                                                                                                                                          ^\u001b[0m\n\u001b[0;31mIndentationError\u001b[0m\u001b[0;31m:\u001b[0m unindent does not match any outer indentation level\n"
          ]
        }
      ]
    },
    {
      "cell_type": "markdown",
      "source": [
        ">4단계 별 찍기\n",
        "   \n",
        "문제   \n",
        "재귀적인 패턴으로 별을 찍어 보자. N이 3의 거듭제곱(3, 9, 27, ...)이라고 할 때, 크기 N의 패턴은 N×N 정사각형 모양이다.\n",
        "\n",
        "크기 3의 패턴은 가운데에 공백이 있고, 가운데를 제외한 모든 칸에 별이 하나씩 있는 패턴이다.\n",
        "\n",
        "$***$   \n",
        "$*$　  $*$   \n",
        "$***$  \n",
        "N이 3보다 클 경우, 크기 N의 패턴은 공백으로 채워진 가운데의 (N/3)×(N/3) 정사각형을 크기 N/3의 패턴으로 둘러싼 형태이다. 예를 들어 크기 27의 패턴은 예제 출력 1과 같다.\n",
        "\n",
        "입력\n",
        "첫째 줄에 N이 주어진다. N은 3의 거듭제곱이다. 즉 어떤 정수 k에 대해 N=3k이며, 이때 1 ≤ k < 8이다.\n",
        "\n",
        "출력\n",
        "첫째 줄부터 N번째 줄까지 별을 출력한다."
      ],
      "metadata": {
        "id": "t5Qnb_q2qMBU"
      }
    },
    {
      "cell_type": "code",
      "source": [
        "def nemo (x):\n",
        "    if x ==1:\n",
        "        return\n",
        "    else: \n",
        "        return nemo(x/3)\n",
        "        "
      ],
      "metadata": {
        "id": "7ZT0rM_zL-zF"
      },
      "execution_count": null,
      "outputs": []
    },
    {
      "cell_type": "markdown",
      "source": [
        ">5단계 하노이 탑 이동순서\n",
        "\n",
        "문제   \n",
        "세 개의 장대가 있고 첫 번째 장대에는 반경이 서로 다른 n개의 원판이 쌓여 있다. 각 원판은 반경이 큰 순서대로 쌓여있다. 이제 수도승들이 다음 규칙에 따라 첫 번째 장대에서 세 번째 장대로 옮기려 한다.\n",
        "\n",
        "한 번에 한 개의 원판만을 다른 탑으로 옮길 수 있다.\n",
        "쌓아 놓은 원판은 항상 위의 것이 아래의 것보다 작아야 한다.\n",
        "이 작업을 수행하는데 필요한 이동 순서를 출력하는 프로그램을 작성하라. 단, 이동 횟수는 최소가 되어야 한다.\n",
        "\n",
        "입력\n",
        "첫째 줄에 첫 번째 장대에 쌓인 원판의 개수 N (1 ≤ N ≤ 20)이 주어진다.\n",
        "\n",
        "출력\n",
        "첫째 줄에 옮긴 횟수 K를 출력한다.\n",
        "\n",
        "두 번째 줄부터 수행 과정을 출력한다. 두 번째 줄부터 K개의 줄에 걸쳐 두 정수 A B를 빈칸을 사이에 두고 출력하는데, 이는 A번째 탑의 가장 위에 있는 원판을 B번째 탑의 가장 위로 옮긴다는 뜻이다.\n",
        "   "
      ],
      "metadata": {
        "id": "24Yz5d5rr3ht"
      }
    },
    {
      "cell_type": "code",
      "source": [
        "#11729번\n",
        "n = int(input())\n",
        "\n"
      ],
      "metadata": {
        "colab": {
          "base_uri": "https://localhost:8080/"
        },
        "id": "NLMRN1aqs3Lp",
        "outputId": "310da5b5-1617-4598-a6ec-42e3c7593915"
      },
      "execution_count": null,
      "outputs": [
        {
          "output_type": "stream",
          "name": "stdout",
          "text": [
            "*** \n",
            "* * \n",
            " ***\n"
          ]
        }
      ]
    },
    {
      "cell_type": "code",
      "source": [
        ""
      ],
      "metadata": {
        "id": "ZDiZOkWhs5po"
      },
      "execution_count": null,
      "outputs": []
    }
  ]
}