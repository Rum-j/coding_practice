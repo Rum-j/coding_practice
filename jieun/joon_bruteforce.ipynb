{
  "nbformat": 4,
  "nbformat_minor": 0,
  "metadata": {
    "colab": {
      "name": "joon_bruteforce.ipynb",
      "provenance": [],
      "collapsed_sections": [],
      "authorship_tag": "ABX9TyOOm4JiffilKkOToLMzaqQ8"
    },
    "kernelspec": {
      "name": "python3",
      "display_name": "Python 3"
    },
    "language_info": {
      "name": "python"
    }
  },
  "cells": [
    {
      "cell_type": "markdown",
      "source": [
        "#### 브루트 포스\n",
        "\n",
        "\n",
        "Brute force 브루트 포스란?\n",
        "검색 대상이 되는 원본 문자열의 처음부터 끝까지 차례대로 순회하며 문자들을 일일이 비교하는 방식의 고지식한 알고리즘 \n",
        "완전 탐색의 시간 복잡도는 O(n!) or O(2^n)"
      ],
      "metadata": {
        "id": "U283l4YUhQ5d"
      }
    },
    {
      "cell_type": "markdown",
      "source": [
        ">1단계 \n",
        "   \n",
        "문제   \n",
        "카지노에서 제일 인기 있는 게임 블랙잭의 규칙은 상당히 쉽다. 카드의 합이 21을 넘지 않는 한도 내에서, 카드의 합을 최대한 크게 만드는 게임이다. 블랙잭은 카지노마다 다양한 규정이 있다.\n",
        "\n",
        "한국 최고의 블랙잭 고수 김정인은 새로운 블랙잭 규칙을 만들어 상근, 창영이와 게임하려고 한다.\n",
        "\n",
        "김정인 버전의 블랙잭에서 각 카드에는 양의 정수가 쓰여 있다. 그 다음, 딜러는 N장의 카드를 모두 숫자가 보이도록 바닥에 놓는다. 그런 후에 딜러는 숫자 M을 크게 외친다.\n",
        "\n",
        "이제 플레이어는 제한된 시간 안에 N장의 카드 중에서 3장의 카드를 골라야 한다. 블랙잭 변형 게임이기 때문에, 플레이어가 고른 카드의 합은 M을 넘지 않으면서 M과 최대한 가깝게 만들어야 한다.\n",
        "\n",
        "N장의 카드에 써져 있는 숫자가 주어졌을 때, M을 넘지 않으면서 M에 최대한 가까운 카드 3장의 합을 구해 출력하시오.\n",
        "\n",
        "입력   \n",
        "첫째 줄에 카드의 개수 N(3 ≤ N ≤ 100)과 M(10 ≤ M ≤ 300,000)이 주어진다. 둘째 줄에는 카드에 쓰여 있는 수가 주어지며, 이 값은 100,000을 넘지 않는 양의 정수이다.\n",
        "\n",
        "합이 M을 넘지 않는 카드 3장을 찾을 수 있는 경우만 입력으로 주어진다.\n",
        "\n",
        "출력   \n",
        "첫째 줄에 M을 넘지 않으면서 M에 최대한 가까운 카드 3장의 합을 출력한다."
      ],
      "metadata": {
        "id": "yCuJjw8ehV_q"
      }
    },
    {
      "cell_type": "code",
      "source": [
        "#2798번\n",
        "a, b =  map(int, input().split())\n",
        "num = sorted(list(map( int, (input().split() ))))\n",
        "#a 장의 카드 중에서 두 수의 합이 b를 넘지 않도록, 하지만 가장 가깝게 \n",
        "\n",
        "s=[]\n",
        "for p in range (a-1,-1 ,-1):\n",
        "    for q in range (p-1, -1,-1):\n",
        "        for r in range (q-1, -1,-1):\n",
        "            t = num[p] + num[q] + num[r]\n",
        "            if t <= b  :      \n",
        "                s.append(t)      \n",
        "print(max(s)) \n",
        "\n",
        "\n",
        "\n",
        "#재귀함수로 풀 수 있을거같은데.. \n",
        "\n"
      ],
      "metadata": {
        "colab": {
          "base_uri": "https://localhost:8080/"
        },
        "id": "3TfUlaQlLa5b",
        "outputId": "337ed7ae-a381-43da-c357-d3bcc50d9fff"
      },
      "execution_count": null,
      "outputs": [
        {
          "output_type": "stream",
          "name": "stdout",
          "text": [
            "10 500 \n",
            "93 181 245 214 315 36 185 138 216 295\n",
            "497\n"
          ]
        }
      ]
    },
    {
      "cell_type": "markdown",
      "source": [
        ">2단계    \n",
        "\n",
        "문제   \n",
        "어떤 자연수 N이 있을 때, 그 자연수 N의 분해합은 N과 N을 이루는 각 자리수의 합을 의미한다. 어떤 자연수 M의 분해합이 N인 경우, M을 N의 생성자라 한다. 예를 들어, 245의 분해합은 256(=245+2+4+5)이 된다. 따라서 245는 256의 생성자가 된다. 물론, 어떤 자연수의 경우에는 생성자가 없을 수도 있다. 반대로, 생성자가 여러 개인 자연수도 있을 수 있다.\n",
        "\n",
        "자연수 N이 주어졌을 때, N의 가장 작은 생성자를 구해내는 프로그램을 작성하시오.\n",
        "\n",
        "입력   \n",
        "첫째 줄에 자연수 N(1 ≤ N ≤ 1,000,000)이 주어진다.\n",
        "\n",
        "출력   \n",
        "첫째 줄에 답을 출력한다. 생성자가 없는 경우에는 0을 출력한다."
      ],
      "metadata": {
        "id": "qohdv5OMZJvi"
      }
    },
    {
      "cell_type": "code",
      "source": [
        "#2231번\n",
        "m= int(input())\n",
        "#분해합 구하기\n",
        "def hap(x):\n",
        "    n=str(x)\n",
        "    a=0\n",
        "    for i in range(0, len(n)):\n",
        "        a +=int(n[i]) \n",
        "    return (x+a)\n",
        "for j in range (1,m+1): #1부터 돌려보기.. 고생은 니가하지 내가하냐 \n",
        "    if hap(j) == m :\n",
        "        print(j)\n",
        "        break\n",
        "    elif j == m: #m까지 분해합 없으면 프린트 0 else 로 쓰면 안댐, 범위 m까지로 해도 틀림..왜..?\n",
        "        print(0)"
      ],
      "metadata": {
        "colab": {
          "base_uri": "https://localhost:8080/"
        },
        "id": "SoVk54xaOmBH",
        "outputId": "8db8bf53-823d-4081-b9f4-1efb966a69b2"
      },
      "execution_count": null,
      "outputs": [
        {
          "output_type": "stream",
          "name": "stdout",
          "text": [
            "216\n",
            "198\n"
          ]
        }
      ]
    },
    {
      "cell_type": "code",
      "source": [
        "2121"
      ],
      "metadata": {
        "id": "qHKT_nIig54L"
      },
      "execution_count": null,
      "outputs": []
    }
  ]
}