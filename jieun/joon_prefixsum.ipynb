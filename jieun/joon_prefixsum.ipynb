{
  "nbformat": 4,
  "nbformat_minor": 0,
  "metadata": {
    "colab": {
      "name": "joon_prefixsum.ipynb",
      "provenance": [],
      "authorship_tag": "ABX9TyO8pOC5ceINo38FUuYnNEcA"
    },
    "kernelspec": {
      "name": "python3",
      "display_name": "Python 3"
    },
    "language_info": {
      "name": "python"
    }
  },
  "cells": [
    {
      "cell_type": "markdown",
      "source": [
        ">1단계   \n",
        "\n",
        "문제   \n",
        "수 N개가 주어졌을 때, i번째 수부터 j번째 수까지 합을 구하는 프로그램을 작성하시오.\n",
        "\n",
        "입력   \n",
        "첫째 줄에 수의 개수 N과 합을 구해야 하는 횟수 M이 주어진다. 둘째 줄에는 N개의 수가 주어진다. 수는 1,000보다 작거나 같은 자연수이다. 셋째 줄부터 M개의 줄에는 합을 구해야 하는 구간 i와 j가 주어진다.\n",
        "   \n",
        "출력   \n",
        "총 M개의 줄에 입력으로 주어진 i번째 수부터 j번째 수까지 합을 출력한다."
      ],
      "metadata": {
        "id": "-2NWmG-Xsps4"
      }
    },
    {
      "cell_type": "code",
      "execution_count": 8,
      "metadata": {
        "colab": {
          "base_uri": "https://localhost:8080/"
        },
        "id": "PtmGpy_bsayJ",
        "outputId": "4e4534af-4fcf-49f6-d155-0de88a677f88"
      },
      "outputs": [
        {
          "output_type": "stream",
          "name": "stdout",
          "text": [
            "5 3\n",
            "5 4 3 2 1\n",
            "1 3\n",
            "12\n",
            "2 4\n",
            "9\n",
            "1 1\n",
            "5\n"
          ]
        }
      ],
      "source": [
        "#11659\n",
        "#시간 초과 - 시간복잡도 O(NM)\n",
        "# 여러 번 사용될 만한 정보는 미리 구해서 저장해 놓을수록 유리 \n",
        "''' \n",
        "n, a = map(int, input().split())\n",
        "#n: 숫자 개수\n",
        "#a: 출력 개수\n",
        "\n",
        "nums = list( map(int, input().split()) )\n",
        "\n",
        "for i in range (a):\n",
        "    p, q = map(int, input().split())\n",
        "    answer = sum(nums[j] for j in range(p-1,q))\n",
        "    print(answer)\n",
        "'''"
      ]
    },
    {
      "cell_type": "markdown",
      "source": [
        ">3단계 \n",
        "\n",
        "문제   \n",
        "승재는 인간-컴퓨터 상호작용에서 생체공학 설계를 공부하다가 키보드 자판이 실용적인지 궁금해졌다. 이를 알아보기 위해 승재는 다음과 같은 생각을 했다. \n",
        "\n",
        "'문자열에서 특정 알파벳이 몇 번 나타나는지 알아봐서 자주 나타나는 알파벳이 중지나 검지 위치에 오는 알파벳인지 확인하면 실용적인지 확인할 수 있을 것이다.'\n",
        "\n",
        "승재를 도와 특정 문자열 $S$, 특정 알파벳 $\\alpha$와 문자열의 구간 $[l,r]$이 주어지면 $S$의 $l$번째 문자부터 $r$번째 문자 사이에 $\\alpha$가 몇 번 나타나는지 구하는 프로그램을 작성하여라. 승재는 문자열의 문자는 $0$번째부터 세며, $l$번째와 $r$번째 문자를 포함해서 생각한다. 주의할 점은 승재는 호기심이 많기에 (통계적으로 크게 무의미하지만) 같은 문자열을 두고 질문을 $q$번 할 것이다.\n",
        "\n",
        "입력   \n",
        "첫 줄에 문자열 $S$가 주어진다. 문자열의 길이는 $200,000$자 이하이며 알파벳 소문자로만 구성되었다. 두 번째 줄에는 질문의 수 $q$가 주어지며, 문제의 수는 $1\\leq q\\leq 200,000$을 만족한다. 세 번째 줄부터 $(q+2)$번째 줄에는 질문이 주어진다. 각 질문은 알파벳 소문자 $\\alpha_i$와 $0\\leq l_i\\leq r_i<|S|$를 만족하는 정수 $l_i,r_i$가 공백으로 구분되어 주어진다.\n",
        "\n",
        "출력   \n",
        "각 질문마다 줄을 구분해 순서대로 답변한다. $i$번째 줄에 $S$의 $l_i$번째 문자부터 $r_i$번째 문자 사이에 $\\alpha_i$가 나타나는 횟수를 출력한다."
      ],
      "metadata": {
        "id": "XyetaBJb2Hjz"
      }
    },
    {
      "cell_type": "code",
      "source": [
        "#16139번\n",
        "#50점\n",
        "'''\n",
        "word = str(input())\n",
        "word_list = list(word)\n",
        "n = int(input())\n",
        "\n",
        "for i in range(n):\n",
        "    alphabet, start, end = input().split() #같은 문자열로 둘 거니까 임시저장이 가능 \n",
        "    print(word_list[int(start) : int(end)+1].count(alphabet))\n",
        "'''\n",
        "#문자열 2000개 이하, 질문 수 2000개 이하 \n",
        "#구글링  - import sys에서는 코랩 안돌아감! \n",
        "import sys\n",
        "\n",
        "input = sys.stdin.readline\n",
        "\n",
        "name = input().strip()\n",
        "n = int(input())\n",
        "arr = [[0 for i in range(26)] for i in range(len(name))]\n",
        "arr[0][ord(name[0]) - 97] = 1\n",
        "for i in range(1, len(name)):\n",
        "    arr[i][ord(name[i]) - 97] = 1\n",
        "    for j in range(26):\n",
        "        arr[i][j] += arr[i - 1][j]\n",
        "for i in range(n):\n",
        "    a = input().split()\n",
        "    if int(a[1]) > 0:\n",
        "        res = arr[int(\n",
        "            a[2])][ord(a[0]) - 97] - arr[int(a[1]) - 1][ord(a[0]) - 97]\n",
        "    else:\n",
        "        res = arr[int(a[2])][ord(a[0]) - 97]\n",
        "    print(res)"
      ],
      "metadata": {
        "colab": {
          "base_uri": "https://localhost:8080/"
        },
        "id": "RjvuMxlhtbcW",
        "outputId": "0d218ca4-85bc-4741-8f99-72e5ed4b2e55"
      },
      "execution_count": 61,
      "outputs": [
        {
          "output_type": "stream",
          "name": "stdout",
          "text": [
            "seungjaehwang\n",
            "4\n",
            "a 0 5\n",
            "['s', 'e', 'u', 'n', 'g']\n",
            "a 0 6\n",
            "['s', 'e', 'u', 'n', 'g', 'j']\n",
            "a 6 10\n",
            "['a', 'e', 'h', 'w']\n",
            "a 7 10\n",
            "['e', 'h', 'w']\n"
          ]
        }
      ]
    },
    {
      "cell_type": "code",
      "source": [
        ""
      ],
      "metadata": {
        "colab": {
          "base_uri": "https://localhost:8080/",
          "height": 36
        },
        "id": "D875rR8t5bB-",
        "outputId": "615c29ad-9f6b-439d-d69c-0f99e0cd2676"
      },
      "execution_count": 55,
      "outputs": [
        {
          "output_type": "execute_result",
          "data": {
            "text/plain": [
              "'i'"
            ],
            "application/vnd.google.colaboratory.intrinsic+json": {
              "type": "string"
            }
          },
          "metadata": {},
          "execution_count": 55
        }
      ]
    },
    {
      "cell_type": "code",
      "source": [
        "\n",
        "word_list[0:5].count(alphabet)"
      ],
      "metadata": {
        "colab": {
          "base_uri": "https://localhost:8080/"
        },
        "id": "wddmKdhwAxrK",
        "outputId": "57e4c77b-0428-4935-a295-da5b9b445890"
      },
      "execution_count": 56,
      "outputs": [
        {
          "output_type": "execute_result",
          "data": {
            "text/plain": [
              "1"
            ]
          },
          "metadata": {},
          "execution_count": 56
        }
      ]
    },
    {
      "cell_type": "code",
      "source": [
        ""
      ],
      "metadata": {
        "id": "Y88iQpRdDuJI"
      },
      "execution_count": null,
      "outputs": []
    }
  ]
}