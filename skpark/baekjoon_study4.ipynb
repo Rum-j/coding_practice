{
 "cells": [
  {
   "cell_type": "markdown",
   "id": "cce08eaf",
   "metadata": {
    "id": "cce08eaf"
   },
   "source": [
    "## 5. 소트인사이드 (#1427)\n",
    "- - -\n",
    "2초, 128MB\n",
    "\n",
    "- - -  \n",
    "\n",
    "### 문제\n",
    "배열을 정렬하는 것은 쉽다. 수가 주어지면, 그 수의 각 자리수를 내림차순으로 정렬해보자.\n",
    "\n",
    "### 입력\n",
    "첫째 줄에 정렬하려고 하는 수 N이 주어진다. N은 1,000,000,000보다 작거나 같은 자연수이다.\n",
    "\n",
    "### 출력\n",
    "첫째 줄에 자리수를 내림차순으로 정렬한 수를 출력한다.\n",
    "\n",
    "- - -  \n",
    "\n",
    "> #### 예제 입력 1 \n",
    "> 2143\n",
    "> \n",
    "> #### 예제 출력 1\n",
    "> 4321\n",
    "\n",
    "> #### 예제 입력 2 \n",
    "> 999998999\n",
    "> \n",
    "> #### 예제 출력 2 \n",
    "> 999999998  \n",
    "\n",
    "> #### 예제 입력 3 \n",
    "> 61423\n",
    "> \n",
    "> #### 예제 출력 3\n",
    "> 64321\n",
    "\n",
    "> #### 예제 입력 4 \n",
    "> 500613009\n",
    "> \n",
    "> #### 예제 출력 4 \n",
    "> 965310000\n",
    ">"
   ]
  },
  {
   "cell_type": "code",
   "execution_count": null,
   "id": "6187a0d7",
   "metadata": {
    "colab": {
     "base_uri": "https://localhost:8080/"
    },
    "executionInfo": {
     "elapsed": 5616,
     "status": "ok",
     "timestamp": 1652366894314,
     "user": {
      "displayName": "Sangkeun Park",
      "userId": "02695643568281713152"
     },
     "user_tz": -540
    },
    "id": "6187a0d7",
    "outputId": "fc89cb46-ec3d-41da-d5a2-2afaf4cfc68d"
   },
   "outputs": [
    {
     "name": "stdout",
     "output_type": "stream",
     "text": [
      "500613009\n"
     ]
    },
    {
     "data": {
      "text/plain": [
       "965310000"
      ]
     },
     "execution_count": 36,
     "metadata": {},
     "output_type": "execute_result"
    }
   ],
   "source": [
    "def sort_int_str(a):\n",
    "    l = sorted(list(str(a)), reverse=True)\n",
    "    return int(''.join(l))\n",
    "\n",
    "n = int(input())\n",
    "sort_int_str(n)"
   ]
  },
  {
   "cell_type": "code",
   "execution_count": null,
   "id": "eb_sekMXoZI8",
   "metadata": {
    "colab": {
     "base_uri": "https://localhost:8080/"
    },
    "executionInfo": {
     "elapsed": 5761,
     "status": "ok",
     "timestamp": 1652366740002,
     "user": {
      "displayName": "Sangkeun Park",
      "userId": "02695643568281713152"
     },
     "user_tz": -540
    },
    "id": "eb_sekMXoZI8",
    "outputId": "e850008c-0e5e-45a2-d30e-97df081d35d8"
   },
   "outputs": [
    {
     "name": "stdout",
     "output_type": "stream",
     "text": [
      "500613009\n",
      "965310000\n"
     ]
    }
   ],
   "source": [
    "n = int(input())\n",
    "l = sorted(list(str(n)), reverse=True)\n",
    "print(int(''.join(l)))"
   ]
  },
  {
   "cell_type": "markdown",
   "id": "be96e15f",
   "metadata": {
    "id": "be96e15f"
   },
   "source": [
    "## 10. 좌표압축 (#18870)\n",
    "- - -\n",
    "2초, 512MB\n",
    "\n",
    "- - -  \n",
    "\n",
    "### 문제\n",
    "수직선 위에 N개의 좌표 X1, X2, ..., XN이 있다. 이 좌표에 좌표 압축을 적용하려고 한다.\n",
    "\n",
    "Xi를 좌표 압축한 결과 X'i의 값은 Xi > Xj를 만족하는 서로 다른 좌표의 개수와 같아야 한다.\n",
    "\n",
    "X1, X2, ..., XN에 좌표 압축을 적용한 결과 X'1, X'2, ..., X'N를 출력해보자.\n",
    "\n",
    "### 입력\n",
    "첫째 줄에 N이 주어진다.\n",
    "\n",
    "둘째 줄에는 공백 한 칸으로 구분된 X1, X2, ..., XN이 주어진다.\n",
    "\n",
    "### 출력\n",
    "첫째 줄에 X'1, X'2, ..., X'N을 공백 한 칸으로 구분해서 출력한다.\n",
    "\n",
    "### 제한\n",
    " - 1 ≤ N ≤ 1,000,000\n",
    " - -109 ≤ Xi ≤ 109\n",
    "\n",
    "- - -  \n",
    "\n",
    "> #### 예제 입력 1 \n",
    "> 5<br>\n",
    "> 2 4 -10 4 -9\n",
    "> \n",
    "> #### 예제 출력 1\n",
    "> 2 3 0 3 1  \n",
    "\n",
    "> #### 예제 입력 2 \n",
    "> 6<br>\n",
    "> 1000 999 1000 999 1000 999\n",
    "> \n",
    "> #### 예제 출력 2\n",
    "> 1 0 1 0 1 0"
   ]
  },
  {
   "cell_type": "code",
   "execution_count": 5,
   "id": "478da9e8",
   "metadata": {
    "ExecuteTime": {
     "end_time": "2022-05-12T16:12:37.392421Z",
     "start_time": "2022-05-12T16:12:30.123824Z"
    },
    "colab": {
     "base_uri": "https://localhost:8080/"
    },
    "executionInfo": {
     "elapsed": 12829,
     "status": "ok",
     "timestamp": 1652371669598,
     "user": {
      "displayName": "Sangkeun Park",
      "userId": "02695643568281713152"
     },
     "user_tz": -540
    },
    "id": "478da9e8",
    "outputId": "933bc16a-fff3-47d4-95e7-36e8dad6a3cd"
   },
   "outputs": [
    {
     "name": "stdout",
     "output_type": "stream",
     "text": [
      "5\n",
      "2 4 -10 4 -9\n",
      "2 3 0 3 1\n"
     ]
    }
   ],
   "source": [
    "n = int(input())\n",
    "x = list(map(int,input().split()))\n",
    "\n",
    "sl = sorted(set(x))\n",
    "cmpr = []\n",
    "\n",
    "for i in x:\n",
    "    cmpr.append(sl.index(i))\n",
    "\n",
    "print(*list(cmpr))"
   ]
  },
  {
   "cell_type": "code",
   "execution_count": 2,
   "id": "wTrFrZVZp8rY",
   "metadata": {
    "ExecuteTime": {
     "end_time": "2022-05-12T16:11:32.313841Z",
     "start_time": "2022-05-12T16:11:25.247582Z"
    },
    "colab": {
     "base_uri": "https://localhost:8080/"
    },
    "executionInfo": {
     "elapsed": 11188,
     "status": "ok",
     "timestamp": 1652371697802,
     "user": {
      "displayName": "Sangkeun Park",
      "userId": "02695643568281713152"
     },
     "user_tz": -540
    },
    "id": "wTrFrZVZp8rY",
    "outputId": "00f0d47e-0c0b-46b3-9259-96d88ef878cc"
   },
   "outputs": [
    {
     "name": "stdout",
     "output_type": "stream",
     "text": [
      "5\n",
      "2 4 -10 4 -9\n",
      "2 3 0 3 1 "
     ]
    }
   ],
   "source": [
    "n = int(input())        # 이건 왜 넣는지 모르겠음\n",
    "x = list(map(int,input().split()))\n",
    " \n",
    "sl = sorted(set(x))     # 리스트 중복 제거 및 정렬\n",
    " \n",
    "dic = {sl[i]: i for i in range(len(sl))}       # 딕셔너리로 {element:index, ...} 담아내기\n",
    "\n",
    "for i in x:\n",
    "    print(dic[i], end=' ')"
   ]
  },
  {
   "cell_type": "code",
   "execution_count": null,
   "id": "LZC94cPd8rC5",
   "metadata": {
    "id": "LZC94cPd8rC5"
   },
   "outputs": [],
   "source": []
  }
 ],
 "metadata": {
  "colab": {
   "collapsed_sections": [],
   "name": "baekjoon_study4.ipynb",
   "provenance": []
  },
  "kernelspec": {
   "display_name": "Python 3 (ipykernel)",
   "language": "python",
   "name": "python3"
  },
  "language_info": {
   "codemirror_mode": {
    "name": "ipython",
    "version": 3
   },
   "file_extension": ".py",
   "mimetype": "text/x-python",
   "name": "python",
   "nbconvert_exporter": "python",
   "pygments_lexer": "ipython3",
   "version": "3.8.13"
  },
  "toc": {
   "base_numbering": 1,
   "nav_menu": {},
   "number_sections": false,
   "sideBar": true,
   "skip_h1_title": false,
   "title_cell": "Table of Contents",
   "title_sidebar": "Contents",
   "toc_cell": false,
   "toc_position": {},
   "toc_section_display": true,
   "toc_window_display": true
  },
  "varInspector": {
   "cols": {
    "lenName": 16,
    "lenType": 16,
    "lenVar": 40
   },
   "kernels_config": {
    "python": {
     "delete_cmd_postfix": "",
     "delete_cmd_prefix": "del ",
     "library": "var_list.py",
     "varRefreshCmd": "print(var_dic_list())"
    },
    "r": {
     "delete_cmd_postfix": ") ",
     "delete_cmd_prefix": "rm(",
     "library": "var_list.r",
     "varRefreshCmd": "cat(var_dic_list()) "
    }
   },
   "types_to_exclude": [
    "module",
    "function",
    "builtin_function_or_method",
    "instance",
    "_Feature"
   ],
   "window_display": false
  }
 },
 "nbformat": 4,
 "nbformat_minor": 5
}
