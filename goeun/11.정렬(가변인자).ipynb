{
 "cells": [
  {
   "cell_type": "markdown",
   "id": "9a1bcd20",
   "metadata": {},
   "source": [
    "import sys <br>\n",
    "print(''.join(sorted(sys.stdin.readlines()[1:], key=int)))\n",
    "\n",
    "#### 리스트 컴프리헨션\n",
    "#### map\n",
    "#### lambda"
   ]
  },
  {
   "cell_type": "markdown",
   "id": "8f2ecd2d",
   "metadata": {},
   "source": [
    "### 2750번 수 정렬하기\n",
    "\n",
    "**문제**<br>\n",
    "N개의 수가 주어졌을 때, 이를 오름차순으로 정렬하는 프로그램을 작성하시오."
   ]
  },
  {
   "cell_type": "code",
   "execution_count": 1,
   "id": "b9be02dd",
   "metadata": {
    "collapsed": true
   },
   "outputs": [
    {
     "name": "stdout",
     "output_type": "stream",
     "text": [
      "5\n",
      "5\n",
      "2\n",
      "3\n",
      "4\n",
      "1\n",
      "1\n",
      "2\n",
      "3\n",
      "4\n",
      "5\n"
     ]
    }
   ],
   "source": [
    "# 버블 정렬\n",
    "n = int(input())\n",
    "result = []\n",
    "for _ in range(n):\n",
    "    result.append(int(input()))\n",
    "    \n",
    "for i in range(len(result)):\n",
    "    for j in range(len(result)):\n",
    "        if result[i] < result[j]:\n",
    "            result[i], result[j] = result[j], result[i]\n",
    "            \n",
    "for i in result:\n",
    "    print(i)"
   ]
  },
  {
   "cell_type": "code",
   "execution_count": 49,
   "id": "e8102cdb",
   "metadata": {
    "collapsed": true
   },
   "outputs": [
    {
     "name": "stdout",
     "output_type": "stream",
     "text": [
      "5\n",
      "5\n",
      "2\n",
      "3\n",
      "4\n",
      "1\n",
      "1\n",
      "2\n",
      "3\n",
      "4\n",
      "5\n"
     ]
    }
   ],
   "source": [
    "# sort 함수 이용\n",
    "n = int(input())\n",
    "result = []\n",
    "for _ in range(n):\n",
    "    result.append(int(input()))\n",
    "    \n",
    "result_sort = sorted(result)\n",
    "for i in result_sort:\n",
    "    print(i)"
   ]
  },
  {
   "cell_type": "markdown",
   "id": "8b85ceb7",
   "metadata": {},
   "source": [
    "### 11650 좌표 정렬하기\n",
    "> **문제** <br>\n",
    "2차원 평면 위의 점 N개가 주어진다. 좌표를 x좌표가 증가하는 순으로, x좌표가 같으면 y좌표가 증가하는 순서로 정렬한 다음 출력하는 프로그램을 작성하시오."
   ]
  },
  {
   "cell_type": "code",
   "execution_count": 5,
   "id": "d62e27a6",
   "metadata": {},
   "outputs": [
    {
     "name": "stdout",
     "output_type": "stream",
     "text": [
      "5\n",
      "3 4\n",
      "1 1\n",
      "1 -1\n",
      "2 2\n",
      "3 3\n",
      "1 -1\n",
      "1 1\n",
      "2 2\n",
      "3 3\n",
      "3 4\n"
     ]
    }
   ],
   "source": [
    "n = int(input())\n",
    "array = [list(map(int, input().split())) for _ in range(n)] # 2차원배열 생성\n",
    "array.sort()\n",
    "for i in range(len(array)):\n",
    "    result = ' '.join(str(s) for s in array[i]) # 리스트 -> 문자열\n",
    "    print(result)"
   ]
  },
  {
   "cell_type": "code",
   "execution_count": null,
   "id": "83647892",
   "metadata": {},
   "outputs": [],
   "source": []
  }
 ],
 "metadata": {
  "kernelspec": {
   "display_name": "Python 3 (ipykernel)",
   "language": "python",
   "name": "python3"
  },
  "language_info": {
   "codemirror_mode": {
    "name": "ipython",
    "version": 3
   },
   "file_extension": ".py",
   "mimetype": "text/x-python",
   "name": "python",
   "nbconvert_exporter": "python",
   "pygments_lexer": "ipython3",
   "version": "3.8.13"
  }
 },
 "nbformat": 4,
 "nbformat_minor": 5
}
