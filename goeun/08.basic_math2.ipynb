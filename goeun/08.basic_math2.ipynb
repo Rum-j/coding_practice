{
 "cells": [
  {
   "cell_type": "markdown",
   "id": "5af566a4",
   "metadata": {},
   "source": [
    "### 1978 소수찾기\n",
    "> **문제** <br>\n",
    "주어진 수 N개 중에서 소수가 몇 개인지 찾아서 출력하는 프로그램을 작성하시오. \n",
    "\n"
   ]
  },
  {
   "cell_type": "code",
   "execution_count": 127,
   "id": "8b291475",
   "metadata": {},
   "outputs": [
    {
     "name": "stdout",
     "output_type": "stream",
     "text": [
      "4\n",
      "1 3 5 7\n",
      "3\n"
     ]
    }
   ],
   "source": [
    "a = int(input())\n",
    "is_prime = list(map(int, input().split()))\n",
    "prime = 0 # 소수 개수\n",
    "\n",
    "# 에라테스테네스의 체  \n",
    "for i in is_prime: \n",
    "    e = 0 \n",
    "    if i > 1:\n",
    "        for j in range(2, i):\n",
    "            if  i % j == 0:\n",
    "                e = 1   # 배수\n",
    "        if e == 0:\n",
    "            prime += 1 # 소수\n",
    "                \n",
    "print(prime)"
   ]
  },
  {
   "cell_type": "markdown",
   "id": "f72b44f2",
   "metadata": {},
   "source": [
    "### 2581 소수\n",
    "> **문제** <br>\n",
    "자연수 M과 N이 주어질 때 M이상 N이하의 자연수 중 소수인 것을 모두 골라 이들 소수의 합과 최솟값을 찾는 프로그램을 작성하시오.\n",
    "\n",
    "예를 들어 M=60, N=100인 경우 60이상 100이하의 자연수 중 소수는 61, 67, 71, 73, 79, 83, 89, 97 총 8개가 있으므로, 이들 소수의 합은 620이고, 최솟값은 61이 된다."
   ]
  },
  {
   "cell_type": "code",
   "execution_count": 29,
   "id": "b7ce3b32",
   "metadata": {},
   "outputs": [
    {
     "name": "stdout",
     "output_type": "stream",
     "text": [
      "64\n",
      "65\n",
      "-1\n"
     ]
    }
   ],
   "source": [
    "a = int(input())\n",
    "b = int(input())\n",
    "array = []\n",
    "for i in range(a,b+1):\n",
    "    e = 0\n",
    "    if i > 1:\n",
    "        for j in range(2,i):\n",
    "            if i % j == 0:\n",
    "                e = 1\n",
    "        if e == 0:\n",
    "            array.append(i)\n",
    "            \n",
    "if len(array) > 0:\n",
    "    print(sum(array))\n",
    "    print(min(array))\n",
    "else:\n",
    "    print(-1)"
   ]
  },
  {
   "cell_type": "markdown",
   "id": "2258d86f",
   "metadata": {},
   "source": [
    "### 11653 소인수분해\n",
    "> **문제** <br>\n",
    "정수 N이 주어졌을 때, 소인수분해하는 프로그램을 작성하시오."
   ]
  },
  {
   "cell_type": "code",
   "execution_count": 69,
   "id": "e2333e12",
   "metadata": {},
   "outputs": [
    {
     "name": "stdout",
     "output_type": "stream",
     "text": [
      "6\n",
      "2\n",
      "3\n"
     ]
    }
   ],
   "source": [
    "# 소수 판별해서 식구하면 오래걸림 -> 소인수분해 알고리즘 참고\n",
    "n = int(input())  # 나누어지는 수\n",
    "d = 2  # 나누는 수\n",
    "\n",
    "while n != 1: # 나누어 떨어지지 않으면\n",
    "    if n % d != 0: # 나누는 수 1 증가\n",
    "        d += 1 #  나누어 떨어지면\n",
    "    else:\n",
    "        print(d) # 소인수니까 출력하고\n",
    "        n //= d  # 나누어지는 수도 갱신"
   ]
  },
  {
   "cell_type": "markdown",
   "id": "c0f9ff1c",
   "metadata": {},
   "source": [
    "### 1929 소수 구하기\n",
    "> **문제** <br>\n",
    "M이상 N이하의 소수를 모두 출력하는 프로그램을 작성하시오."
   ]
  },
  {
   "cell_type": "code",
   "execution_count": 99,
   "id": "13ed72d4",
   "metadata": {},
   "outputs": [
    {
     "name": "stdout",
     "output_type": "stream",
     "text": [
      "3 15\n",
      "3\n",
      "5\n",
      "7\n",
      "11\n",
      "13\n"
     ]
    }
   ],
   "source": [
    "# 시간 초과\n",
    "a, b = map(int, input().split())\n",
    "prime = [] \n",
    "\n",
    "for i in range(a, b): \n",
    "    e = 0 \n",
    "    if i > 1:\n",
    "        for j in range(2, int(i**0.5)+1):\n",
    "            if  i % j == 0:\n",
    "                e = 1   # 배수\n",
    "        if e == 0:\n",
    "            print(i) # 소수                "
   ]
  },
  {
   "cell_type": "code",
   "execution_count": 77,
   "id": "72229947",
   "metadata": {},
   "outputs": [
    {
     "name": "stdout",
     "output_type": "stream",
     "text": [
      "3 16\n",
      "3\n",
      "5\n",
      "7\n",
      "11\n",
      "13\n"
     ]
    }
   ],
   "source": [
    "# 시간초과 -> 제곱하여 시간을 단축\n",
    "def is_prime(num):\n",
    "    if num == 1:\n",
    "        return False\n",
    "    else:\n",
    "        # n의 최대 약수가 sqrt(n) 이하이므로 i=sqrt(n)까지 검사\n",
    "        for i in range(2, int(num ** 0.5) + 1):  \n",
    "            if num % i == 0:\n",
    "                return False\n",
    "        return True\n",
    "\n",
    "x,y = map(int, input().split())\n",
    "for i in range(x,y+1):\n",
    "    if is_prime(i):\n",
    "        print(i)"
   ]
  },
  {
   "cell_type": "markdown",
   "id": "07ddb80f",
   "metadata": {},
   "source": [
    "### 4948 베르트랑 공준\n",
    "> **문제** <br>\n",
    "베르트랑 공준은 임의의 자연수 n에 대하여, n보다 크고, 2n보다 작거나 같은 소수는 적어도 하나 존재한다는 내용을 담고 있다. <br>\n",
    "이 명제는 조제프 베르트랑이 1845년에 추측했고, 파프누티 체비쇼프가 1850년에 증명했다.<br>\n",
    "예를 들어, 10보다 크고, 20보다 작거나 같은 소수는 4개가 있다. (11, 13, 17, 19) 또, 14보다 크고, 28보다 작거나 같은 소수는 3개가 있다. (17,19, 23)<br>\n",
    "자연수 n이 주어졌을 때, n보다 크고, 2n보다 작거나 같은 소수의 개수를 구하는 프로그램을 작성하시오. "
   ]
  },
  {
   "cell_type": "code",
   "execution_count": 191,
   "id": "cb81cf4b",
   "metadata": {},
   "outputs": [
    {
     "name": "stdout",
     "output_type": "stream",
     "text": [
      "1\n",
      "1\n",
      "10\n",
      "4\n",
      "13\n",
      "3\n",
      "100\n",
      "21\n",
      "1000\n",
      "135\n",
      "10000\n",
      "1033\n",
      "100000\n",
      "8392\n",
      "0\n"
     ]
    }
   ],
   "source": [
    "# 시간 초과...\n",
    "# 소수를 구하는 함수 -> while 문 \n",
    "def is_prime(a):\n",
    "    prime = 0  \n",
    "    for i in range(a+1, (2*a)+1): \n",
    "        e = 0 \n",
    "        if i > 1:\n",
    "            for j in range(2, int(i**0.5)+1):\n",
    "                if  i % j == 0:\n",
    "                    e = 1  \n",
    "            if e == 0:\n",
    "                prime += 1\n",
    "        elif i == 1:\n",
    "            prime += 1\n",
    "    print(prime)\n",
    "\n",
    "while True:\n",
    "    n = int(input())\n",
    "    if n == 0:\n",
    "        break\n",
    "    is_prime(n)"
   ]
  },
  {
   "cell_type": "markdown",
   "id": "6152db9c",
   "metadata": {},
   "source": [
    "<pre>\n",
    "# 정답 코드\n",
    "while True:\n",
    "    n = int(input())\n",
    "    if n == 0:\n",
    "        break\n",
    "    n1, n2= n+1, 2*n\n",
    "    li = [1]*(n2+1)\n",
    "    for i in range(2, int((n2+1)**0.5) + 1):\n",
    "        if li[i] == 1:\n",
    "            for j in range(i+i, n2+1, i):\n",
    "                li[j] = 0\n",
    "    cnt = 0\n",
    "    for i in range(n1, n2+1):\n",
    "        if li[i] == 1 and i > 1:\n",
    "            cnt += 1\n",
    "    print(cnt)"
   ]
  },
  {
   "cell_type": "markdown",
   "id": "a94c634b",
   "metadata": {},
   "source": [
    "### 3009 네 번째 점\n",
    "> **문제** <br>\n",
    "세 점이 주어졌을 때, 축에 평행한 직사각형을 만들기 위해서 필요한 네 번째 점을 찾는 프로그램을 작성하시오."
   ]
  },
  {
   "cell_type": "code",
   "execution_count": 202,
   "id": "a5a84e98",
   "metadata": {},
   "outputs": [
    {
     "name": "stdout",
     "output_type": "stream",
     "text": [
      "5 5\n",
      "5 7\n",
      "7 5\n",
      "7 7\n"
     ]
    }
   ],
   "source": [
    "# 2차원 -> 배열\n",
    "a = []\n",
    "b = []\n",
    "for _ in range(3):\n",
    "    x, y = map(int, input().split())\n",
    "    a.append(x)\n",
    "    b.append(y)\n",
    "\n",
    "for i in range(3):\n",
    "    if a.count(a[i]) == 1:\n",
    "        X = a[i]\n",
    "    if a.count(b[i]) == 1:\n",
    "        Y = b[i]\n",
    "        \n",
    "print(X,Y)"
   ]
  },
  {
   "cell_type": "markdown",
   "id": "ab87412e",
   "metadata": {},
   "source": [
    "### 4153 직각삼각형\n",
    "> **문제** <br>\n",
    "과거 이집트인들은 각 변들의 길이가 3, 4, 5인 삼각형이 직각 삼각형인것을 알아냈다. 주어진 세변의 길이로 삼각형이 직각인지 아닌지 구분하시오.\n",
    "<img src=\"https://www.acmicpc.net/upload/images3/rope-triangle.gif\" width=\"300\" style=\"float:left\" />\n"
   ]
  },
  {
   "cell_type": "markdown",
   "id": "20064180",
   "metadata": {},
   "source": [
    "000 나올때까지 반복 ->  while문 사용<br>\n",
    "피타고라스의 정리 \n",
    "<pre> c가 제일 길다고 가정,\n",
    "c**2 = a**2 + b**2\n",
    "c*c = a*a + b*b"
   ]
  },
  {
   "cell_type": "code",
   "execution_count": 86,
   "id": "76f050f7",
   "metadata": {
    "scrolled": true
   },
   "outputs": [
    {
     "name": "stdout",
     "output_type": "stream",
     "text": [
      "6 8 10\n",
      "right\n",
      "25 52 60\n",
      "wrong\n",
      "0 0 0\n",
      "None\n"
     ]
    }
   ],
   "source": [
    "def search(x,y,z):\n",
    "    \n",
    "    while True:\n",
    "        x,y,z = map(int, input().split())\n",
    "        \n",
    "        # 삼각형이 아닐경우\n",
    "        if x == 0 and y == 0 and z == 0:\n",
    "            break\n",
    "            \n",
    "        c = z**2\n",
    "        a = x**2\n",
    "        b = y**2\n",
    "        if (c == a+b) or (a == b+c) or (b == a+c):\n",
    "            print('right')\n",
    "        else:\n",
    "            print('wrong')\n",
    "        \n",
    "print(search(x,y,z))"
   ]
  },
  {
   "cell_type": "code",
   "execution_count": 85,
   "id": "76b26920",
   "metadata": {},
   "outputs": [
    {
     "name": "stdout",
     "output_type": "stream",
     "text": [
      "6 8 10\n",
      "right\n",
      "25 52 60\n",
      "wrong\n",
      "5 12 13\n",
      "right\n",
      "0 0 0\n"
     ]
    }
   ],
   "source": [
    "while True:\n",
    "    a = list(map(int, input().split()))\n",
    "    max_num = max(a)\n",
    "    if sum(a) == 0:\n",
    "            break\n",
    "    sort_a = sorted(a, reverse=True)\n",
    "    if sort_a[0]**2 == (sort_a[1]**2) + (sort_a[2]**2):\n",
    "        print('right')\n",
    "    else:\n",
    "        print('wrong')"
   ]
  },
  {
   "cell_type": "code",
   "execution_count": 65,
   "id": "12f512ae",
   "metadata": {},
   "outputs": [
    {
     "name": "stdout",
     "output_type": "stream",
     "text": [
      "6 8 10\n",
      "right\n",
      "0 0 0\n"
     ]
    }
   ],
   "source": [
    "# 숏코딩\n",
    "a=1\n",
    "while a:\n",
    "    a,b,c=sorted(map(int,input().split()))\n",
    "    a > 0==print('rwirgohntg'[a*a + b*b != c*c::2])"
   ]
  },
  {
   "cell_type": "code",
   "execution_count": null,
   "id": "00d5533d",
   "metadata": {},
   "outputs": [],
   "source": []
  }
 ],
 "metadata": {
  "kernelspec": {
   "display_name": "Python 3 (ipykernel)",
   "language": "python",
   "name": "python3"
  },
  "language_info": {
   "codemirror_mode": {
    "name": "ipython",
    "version": 3
   },
   "file_extension": ".py",
   "mimetype": "text/x-python",
   "name": "python",
   "nbconvert_exporter": "python",
   "pygments_lexer": "ipython3",
   "version": "3.8.13"
  }
 },
 "nbformat": 4,
 "nbformat_minor": 5
}
