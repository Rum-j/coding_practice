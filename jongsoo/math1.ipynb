{
 "cells": [
  {
   "cell_type": "markdown",
   "id": "7bd991c8",
   "metadata": {},
   "source": [
    "## 기본 수학1\n",
    "백준 단계별로 풀어보기 기본 수학 1의 문제풀이"
   ]
  },
  {
   "cell_type": "code",
   "execution_count": 1,
   "id": "23ee4b7d",
   "metadata": {
    "ExecuteTime": {
     "end_time": "2022-04-25T09:17:05.433871Z",
     "start_time": "2022-04-25T09:17:05.425932Z"
    },
    "code_folding": [
     0
    ]
   },
   "outputs": [],
   "source": [
    "class p1712():\n",
    "    '''\n",
    "    https://www.acmicpc.net/problem/1712\n",
    "    \n",
    "    '''\n",
    "    def __init__(self):\n",
    "        A, B, C = input().split()\n",
    "        self.A = int(A)\n",
    "        self.B = int(B)\n",
    "        self.C = int(C)\n",
    "    \n",
    "    \n",
    "    def solve(self):\n",
    "        if self.B == self.C:\n",
    "            return -1\n",
    "        else:\n",
    "            val = self.A // (self.C - self.B)\n",
    "        \n",
    "        if val >= 0:\n",
    "            return val + 1\n",
    "        else:\n",
    "            return -1  "
   ]
  },
  {
   "cell_type": "code",
   "execution_count": 2,
   "id": "52a461ea",
   "metadata": {
    "ExecuteTime": {
     "end_time": "2022-04-25T09:17:05.927552Z",
     "start_time": "2022-04-25T09:17:05.922598Z"
    },
    "code_folding": [
     0
    ]
   },
   "outputs": [],
   "source": [
    "class p2292():\n",
    "    '''\n",
    "    https://www.acmicpc.net/problem/2292\n",
    "    '''\n",
    "    def __init__(self):\n",
    "        self.N = int(input())\n",
    "    \n",
    "    def solve(self):\n",
    "        if self.N == 1:\n",
    "            return 1\n",
    "        else:\n",
    "            self.N -= 1\n",
    "            i = 1\n",
    "            while self.N > 0:\n",
    "                self.N -= i * 6\n",
    "                i += 1\n",
    "            return i"
   ]
  },
  {
   "cell_type": "code",
   "execution_count": 3,
   "id": "3a78a461",
   "metadata": {
    "ExecuteTime": {
     "end_time": "2022-04-25T09:17:06.263653Z",
     "start_time": "2022-04-25T09:17:06.254680Z"
    },
    "code_folding": [
     0
    ]
   },
   "outputs": [],
   "source": [
    "class p1193():\n",
    "    '''\n",
    "    https://www.acmicpc.net/problem/1193\n",
    "    '''\n",
    "    def __init__(self):\n",
    "        self.N = int(input())\n",
    "\n",
    "    def solve(self):\n",
    "        N = self.N\n",
    "        i = 1\n",
    "        while N > 0:\n",
    "            N -= i\n",
    "            i += 1\n",
    "        n = i - 1\n",
    "        count = self.N - (n * (n - 1) )// 2 - 1\n",
    "        if n % 2 == 0:\n",
    "            return print(f'{1 + count}/{n - count}')\n",
    "        else:\n",
    "            return print(f'{n - count}/{1 + count}')\n",
    "            "
   ]
  },
  {
   "cell_type": "code",
   "execution_count": 4,
   "id": "b182dad0",
   "metadata": {
    "ExecuteTime": {
     "end_time": "2022-04-25T09:17:06.550886Z",
     "start_time": "2022-04-25T09:17:06.544899Z"
    },
    "code_folding": [
     0
    ]
   },
   "outputs": [],
   "source": [
    "class p2869():\n",
    "    '''\n",
    "    https://www.acmicpc.net/problem/2869\n",
    "    '''\n",
    "    def __init__(self):\n",
    "        A, B, V = input().split()\n",
    "        self.A = int(A)\n",
    "        self.B = int(B)\n",
    "        self.V = int(V)\n",
    "    def solve(self):\n",
    "        t_min, t_max = (self.V - self.A) // (self.A - self.B), self.V // (self.A -self.B)\n",
    "        for n in range(t_min, t_max + 1):\n",
    "            if n * (self.A - self.B) + self.A >= self.V:\n",
    "                return n + 1"
   ]
  },
  {
   "cell_type": "code",
   "execution_count": 5,
   "id": "2ddf2bbe",
   "metadata": {
    "ExecuteTime": {
     "end_time": "2022-04-25T09:17:06.810224Z",
     "start_time": "2022-04-25T09:17:06.800253Z"
    },
    "code_folding": [
     0
    ]
   },
   "outputs": [],
   "source": [
    "class p10250():\n",
    "    def __init__(self):\n",
    "        self.H = []\n",
    "        self.W = []\n",
    "        self.N = []\n",
    "        n = int(input())\n",
    "        for _ in range(n):\n",
    "            H, W, N = input().split()\n",
    "            self.H.append(int(H))\n",
    "            self.W.append(int(W))\n",
    "            self.N.append(int(N))\n",
    "            \n",
    "                          \n",
    "    def solve(self):\n",
    "        i = 0\n",
    "        ans = []\n",
    "        for i in range(len(self.H)):\n",
    "            if self.N[i] % self.H[i] != 0:\n",
    "                floor = self.N[i] % self.H[i]\n",
    "            else:\n",
    "                floor = self.H[i]\n",
    "            if self.N[i] % self.H[i] == 0:    \n",
    "                room_num = self.N[i] // self.H[i]\n",
    "            else:\n",
    "                room_num = self.N[i] // self.H[i] + 1\n",
    "            \n",
    "            if room_num < 10:\n",
    "                ans.append(f'{floor}0{room_num}')\n",
    "            else:\n",
    "                ans.append(f'{floor}{room_num}')\n",
    "        return ans"
   ]
  },
  {
   "cell_type": "code",
   "execution_count": 6,
   "id": "e229fd97",
   "metadata": {
    "ExecuteTime": {
     "end_time": "2022-04-25T09:17:07.060523Z",
     "start_time": "2022-04-25T09:17:07.053542Z"
    },
    "code_folding": [
     0
    ]
   },
   "outputs": [],
   "source": [
    "class p2275():\n",
    "    def __init__(self):\n",
    "        n = int(input())\n",
    "        self.num_list = []\n",
    "        for _ in range(n):\n",
    "            k = int(input())\n",
    "            n = int(input())\n",
    "            self.num_list.append((k, n))\n",
    "    \n",
    "    def solve(self):\n",
    "        ans = []\n",
    "        for tup in self.num_list:\n",
    "            people = list(range(1, tup[1] + 1))\n",
    "            for i in range(tup[0]):\n",
    "                for j in range(1, tup[1] + 1):\n",
    "                    if j == 1:\n",
    "                        people.append(1)\n",
    "                    else:\n",
    "                        people.append(sum(people[i*tup[1]:i*tup[1] + j]))\n",
    "            ans.append(people[-1])\n",
    "        return ans"
   ]
  },
  {
   "cell_type": "code",
   "execution_count": 7,
   "id": "068adbb1",
   "metadata": {
    "ExecuteTime": {
     "end_time": "2022-04-25T09:17:07.391637Z",
     "start_time": "2022-04-25T09:17:07.386649Z"
    }
   },
   "outputs": [],
   "source": [
    "from math import inf"
   ]
  },
  {
   "cell_type": "code",
   "execution_count": 8,
   "id": "e232de87",
   "metadata": {
    "ExecuteTime": {
     "end_time": "2022-04-25T09:17:07.719793Z",
     "start_time": "2022-04-25T09:17:07.711780Z"
    },
    "code_folding": [
     0
    ]
   },
   "outputs": [],
   "source": [
    "class p2839():\n",
    "    def __init__(self):\n",
    "        self.N = int(input())\n",
    "    def solve(self):\n",
    "        dp = [inf] * 5001\n",
    "        dp[3] = 1\n",
    "        dp[5] = 1\n",
    "        \n",
    "        for i in range(6, self.N + 1):\n",
    "            dp[i] = min(dp[i-3] + 1, dp[i-5] + 1)\n",
    "        \n",
    "        if dp[self.N] != inf:\n",
    "            print(dp[self.N])\n",
    "        else:\n",
    "            print(-1)\n"
   ]
  },
  {
   "cell_type": "code",
   "execution_count": 9,
   "id": "ffeedf15",
   "metadata": {
    "ExecuteTime": {
     "end_time": "2022-04-25T09:17:08.044924Z",
     "start_time": "2022-04-25T09:17:08.039904Z"
    },
    "code_folding": [
     0
    ]
   },
   "outputs": [],
   "source": [
    "class p10757():\n",
    "    # 파이썬에서는 자료형을 알아서 선택하기 때문에 어떠한 자료형인지, 메모리할당은 얼마나 해야할 지 선택할 필요가 없다.\n",
    "    # 넘파이의 dtype을 생각해본다면 int8, int16 등의 자료형으로는 해당 문제를 풀 수 없을 것 이다.\n",
    "    def __init__(self):\n",
    "        pass\n",
    "    def solve(self):\n",
    "        pass"
   ]
  }
 ],
 "metadata": {
  "hide_input": false,
  "kernelspec": {
   "display_name": "Python 3",
   "language": "python",
   "name": "python3"
  },
  "language_info": {
   "codemirror_mode": {
    "name": "ipython",
    "version": 3
   },
   "file_extension": ".py",
   "mimetype": "text/x-python",
   "name": "python",
   "nbconvert_exporter": "python",
   "pygments_lexer": "ipython3",
   "version": "3.8.8"
  },
  "toc": {
   "base_numbering": 1,
   "nav_menu": {},
   "number_sections": true,
   "sideBar": true,
   "skip_h1_title": false,
   "title_cell": "Table of Contents",
   "title_sidebar": "Contents",
   "toc_cell": false,
   "toc_position": {},
   "toc_section_display": true,
   "toc_window_display": false
  },
  "varInspector": {
   "cols": {
    "lenName": 16,
    "lenType": 16,
    "lenVar": 40
   },
   "kernels_config": {
    "python": {
     "delete_cmd_postfix": "",
     "delete_cmd_prefix": "del ",
     "library": "var_list.py",
     "varRefreshCmd": "print(var_dic_list())"
    },
    "r": {
     "delete_cmd_postfix": ") ",
     "delete_cmd_prefix": "rm(",
     "library": "var_list.r",
     "varRefreshCmd": "cat(var_dic_list()) "
    }
   },
   "types_to_exclude": [
    "module",
    "function",
    "builtin_function_or_method",
    "instance",
    "_Feature"
   ],
   "window_display": false
  }
 },
 "nbformat": 4,
 "nbformat_minor": 5
}
