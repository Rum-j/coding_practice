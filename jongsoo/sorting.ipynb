{
 "cells": [
  {
   "cell_type": "markdown",
   "id": "a288e1e4",
   "metadata": {},
   "source": [
    "## 정렬\n"
   ]
  },
  {
   "cell_type": "markdown",
   "id": "4eb9a1e8",
   "metadata": {},
   "source": [
    "### 10989번: 수 정렬하기 3\n",
    "<div class=\"alert alert-block alert-info\">\n",
    "<b>10989번: 수 정렬하기 3</b><br>\n",
    "<ul>\n",
    "    <li>문제</li>\n",
    "    <p>N개의 수가 주어졌을 때, 이를 오름차순으로 정렬하는 프로그램을 작성하시오.</p>\n",
    "    <li>입력</li>\n",
    "    <p>첫째 줄에 수의 개수 N(1 ≤ N ≤ 10,000,000)이 주어진다. 둘째 줄부터 N개의 줄에는 수가 주어진다. 이 수는 10,000보다 작거나 같은 자연수이다.</p>\n",
    "    <li>출력</li>\n",
    "    <p>첫째 줄부터 N개의 줄에 오름차순으로 정렬한 결과를 한 줄에 하나씩 출력한다.</p>\n",
    "</ul>\n",
    "</div>"
   ]
  },
  {
   "cell_type": "code",
   "execution_count": 2,
   "id": "bb0eb6dc",
   "metadata": {
    "ExecuteTime": {
     "end_time": "2022-05-16T10:47:17.018203Z",
     "start_time": "2022-05-16T10:46:59.428413Z"
    }
   },
   "outputs": [
    {
     "name": "stdout",
     "output_type": "stream",
     "text": [
      "10\n",
      "5\n",
      "2\n",
      "3\n",
      "1\n",
      "4\n",
      "2\n",
      "3\n",
      "5\n",
      "1\n",
      "7\n",
      "1\n",
      "1\n",
      "2\n",
      "2\n",
      "3\n",
      "3\n",
      "4\n",
      "5\n",
      "5\n",
      "7\n"
     ]
    }
   ],
   "source": [
    "# N = int(sys.stdin.readline())\n",
    "# data = []\n",
    "# for _ in range(N):\n",
    "#     data.append(int(sys.stdin.readline()))\n",
    "\n",
    "N = int(input())\n",
    "data = []\n",
    "for _ in range(N):\n",
    "    data.append(int(input()))\n",
    "\n",
    "def counting_sort(data):\n",
    "    max_ = data[0]\n",
    "    for i in range(len(data) - 1):\n",
    "        if max_ < data[i+1]:\n",
    "            max_ = data[i+1] +1\n",
    "    count_list = [0] * (max_ + 1)\n",
    "    \n",
    "    for num in data:\n",
    "        count_list[num] += 1\n",
    "        \n",
    "    for i in range(1, len(count_list)):\n",
    "        count_list[i] = count_list[i] + count_list[i - 1]\n",
    "    \n",
    "    sorted_list = [0] * len(data)\n",
    "    \n",
    "    \n",
    "    for num in data:\n",
    "        idx = count_list[num]\n",
    "        sorted_list[idx - 1] = num\n",
    "        count_list[num] -= 1\n",
    "    return sorted_list\n",
    "\n",
    "for num in counting_sort(data):\n",
    "    print(num)"
   ]
  },
  {
   "cell_type": "code",
   "execution_count": 5,
   "id": "f5a93bd3",
   "metadata": {
    "ExecuteTime": {
     "end_time": "2022-05-16T11:14:56.080314Z",
     "start_time": "2022-05-16T11:14:47.051154Z"
    }
   },
   "outputs": [
    {
     "name": "stdout",
     "output_type": "stream",
     "text": [
      "10\n",
      "5\n",
      "2\n",
      "3\n",
      "1\n",
      "4\n",
      "2\n",
      "3\n",
      "5\n",
      "1\n",
      "7\n",
      "1\n",
      "1\n",
      "2\n",
      "2\n",
      "3\n",
      "3\n",
      "4\n",
      "5\n",
      "5\n",
      "7\n"
     ]
    }
   ],
   "source": [
    "\n",
    "N = int(input())\n",
    "count_list = [0] * 10001\n",
    "\n",
    "for _ in range(N):\n",
    "    count_list[int(input())] += 1\n",
    "    \n",
    "for i in range(len(count_list)):\n",
    "    if count_list[i] != 0:\n",
    "        for _ in range(count_list[i]):\n",
    "            print(i)"
   ]
  },
  {
   "cell_type": "markdown",
   "id": "9902e6ce",
   "metadata": {},
   "source": [
    "### 2018번: 통계학\n",
    "<div class=\"alert alert-block alert-info\">\n",
    "<b>2108번: 통계학</b><br>\n",
    "<ul>\n",
    "    <li>문제</li>\n",
    "    <p>수를 처리하는 것은 통계학에서 상당히 중요한 일이다. 통계학에서 N개의 수를 대표하는 기본 통계값에는 다음과 같은 것들이 있다. 단, N은 홀수라고 가정하자.</p>\n",
    "    <p>산술평균 : N개의 수들의 합을 N으로 나눈 값</p>\n",
    "    <p>중앙값 : N개의 수들을 증가하는 순서로 나열했을 경우 그 중앙에 위치하는 값</p>\n",
    "    <p>최빈값 : N개의 수들 중 가장 많이 나타나는 값</p>\n",
    "    <p>범위 : N개의 수들 중 최댓값과 최솟값의 차이.</p>\n",
    "    <p>N개의 수가 주어졌을 때, 네 가지 기본 통계값을 구하는 프로그램을 작성하시오.</p>\n",
    "    <li>입력</li>\n",
    "    <p>첫째 줄에 수의 개수 N(1 ≤ N ≤ 500,000)이 주어진다. 단, N은 홀수이다. 그 다음 N개의 줄에는 정수들이 주어진다. 입력되는 정수의 절댓값은 4,000을 넘지 않는다.</p>\n",
    "    <li>출력</li>\n",
    "    <p>첫째 줄에는 산술평균을 출력한다. 소수점 이하 첫째 자리에서 반올림한 값을 출력한다.</p>\n",
    "    <p>둘째 줄에는 중앙값을 출력한다.</p>\n",
    "    <p>셋째 줄에는 최빈값을 출력한다. 여러 개 있을 때에는 최빈값 중 두 번째로 작은 값을 출력한다.</p>\n",
    "    <p>넷째 줄에는 범위를 출력한다.</p>\n",
    "</ul>\n",
    "</div>"
   ]
  },
  {
   "cell_type": "code",
   "execution_count": 30,
   "id": "dde6ff0c",
   "metadata": {
    "ExecuteTime": {
     "end_time": "2022-05-16T11:34:21.246860Z",
     "start_time": "2022-05-16T11:34:21.227911Z"
    }
   },
   "outputs": [],
   "source": [
    "a = [1, 2, 2, 3, 4, 5, 6,6, 7, 7 , 8]"
   ]
  },
  {
   "cell_type": "code",
   "execution_count": 31,
   "id": "b3f8a29b",
   "metadata": {
    "ExecuteTime": {
     "end_time": "2022-05-16T11:34:21.765048Z",
     "start_time": "2022-05-16T11:34:21.743076Z"
    }
   },
   "outputs": [
    {
     "data": {
      "text/plain": [
       "(5, 5)"
      ]
     },
     "execution_count": 31,
     "metadata": {},
     "output_type": "execute_result"
    }
   ],
   "source": [
    "int(round(sum(a) / len(a), 0)), a[len(a) // 2]"
   ]
  },
  {
   "cell_type": "code",
   "execution_count": 110,
   "id": "0cf9684a",
   "metadata": {
    "ExecuteTime": {
     "end_time": "2022-05-16T12:21:40.216558Z",
     "start_time": "2022-05-16T12:21:35.946374Z"
    }
   },
   "outputs": [
    {
     "name": "stdout",
     "output_type": "stream",
     "text": [
      "3\n",
      "0\n",
      "0\n",
      "-1\n",
      "0\n",
      "0\n",
      "0\n",
      "1\n"
     ]
    }
   ],
   "source": [
    "N = int(input())\n",
    "count_list = [0] * 8001\n",
    "data = []\n",
    "for _ in range(N):\n",
    "    num = int(input())\n",
    "    count_list[num + 4000] += 1\n",
    "    data.append(num)\n",
    "\n",
    "def merge(left, right):\n",
    "    merged_list = []\n",
    "    idx_l = idx_r = 0\n",
    "    while True:\n",
    "        if left[idx_l] < right[idx_r]:\n",
    "            merged_list.append(left[idx_l])\n",
    "            idx_l += 1\n",
    "        else:\n",
    "            merged_list.append(right[idx_r])\n",
    "            idx_r += 1\n",
    "                    \n",
    "        if idx_l == len(left):\n",
    "            merged_list = merged_list + right[idx_r:]\n",
    "            break\n",
    "            \n",
    "        if idx_r == len(right):\n",
    "            merged_list = merged_list + left[idx_l:]\n",
    "            break\n",
    "    return merged_list\n",
    "\n",
    "def merge_sort(data):\n",
    "    if len(data) <= 1:\n",
    "        return data\n",
    "    idx_cut = len(data) // 2\n",
    "    left = data[:idx_cut]\n",
    "    right = data[idx_cut:]\n",
    "    return merge(merge_sort(left), merge_sort(right))\n",
    "\n",
    "data = merge_sort(data)\n",
    "\n",
    "max_ = max(count_list)\n",
    "\n",
    "idx = count_list.index(max_)\n",
    "count_list[idx] = 0\n",
    "try:\n",
    "    mode = count_list.index(max_) - 4000\n",
    "except:\n",
    "    mode = idx - 4000\n",
    "\n",
    "\n",
    "mean = int(round(sum(data) / len(data), 0))\n",
    "median = data[len(data) // 2]\n",
    "range_ = data[-1] - data[0]\n",
    "print(mean, median, mode, range_, sep='\\n')"
   ]
  },
  {
   "cell_type": "markdown",
   "id": "f6438ab9",
   "metadata": {},
   "source": [
    "### 1427번: 소트인사이드\n",
    "<div class=\"alert alert-block alert-info\">\n",
    "<b>1427번: 소트인사이드</b><br>\n",
    "<ul>\n",
    "    <li>문제</li>\n",
    "    <p>배열을 정렬하는 것은 쉽다. 수가 주어지면, 그 수의 각 자리수를 내림차순으로 정렬해보자.</p>\n",
    "    <li>입력</li>\n",
    "    <p>첫째 줄에 정렬하려고 하는 수 N이 주어진다. N은 1,000,000,000보다 작거나 같은 자연수이다.</p>\n",
    "    <li>출력</li>\n",
    "    <p>첫째 줄에 자리수를 내림차순으로 정렬한 수를 출력한다.</p>\n",
    "</ul>\n",
    "</div>"
   ]
  },
  {
   "cell_type": "code",
   "execution_count": 2,
   "id": "65f0e6e5",
   "metadata": {
    "ExecuteTime": {
     "end_time": "2022-05-16T12:37:34.253338Z",
     "start_time": "2022-05-16T12:37:28.582102Z"
    }
   },
   "outputs": [
    {
     "name": "stdout",
     "output_type": "stream",
     "text": [
      "89456312211999\n",
      "99998654322111\n"
     ]
    }
   ],
   "source": [
    "data = list(map(int, list(input())))\n",
    "\n",
    "def merge_desc(left, right):\n",
    "    merged_list = []\n",
    "    idx_l = idx_r = 0\n",
    "    while True:\n",
    "        if left[idx_l] > right[idx_r]:\n",
    "            merged_list.append(left[idx_l])\n",
    "            idx_l += 1\n",
    "        else:\n",
    "            merged_list.append(right[idx_r])\n",
    "            idx_r += 1\n",
    "                    \n",
    "        if idx_l == len(left):\n",
    "            merged_list = merged_list + right[idx_r:]\n",
    "            break\n",
    "            \n",
    "        if idx_r == len(right):\n",
    "            merged_list = merged_list + left[idx_l:]\n",
    "            break\n",
    "    return merged_list\n",
    "\n",
    "def merge_sort_desc(data):\n",
    "    if len(data) <= 1:\n",
    "        return data\n",
    "    idx_cut = len(data) // 2\n",
    "    left = data[:idx_cut]\n",
    "    right = data[idx_cut:]\n",
    "    return merge_desc(merge_sort_desc(left), merge_sort_desc(right))\n",
    "\n",
    "sorted_data = merge_sort_desc(data)\n",
    "\n",
    "print(''.join(list(map(str, sorted_data))))"
   ]
  },
  {
   "cell_type": "markdown",
   "id": "f4a5cdd1",
   "metadata": {},
   "source": [
    "### 11650번: 좌표 정렬하기\n",
    "<div class=\"alert alert-block alert-info\">\n",
    "<b>11650번: 좌표 정렬하기</b><br>\n",
    "<ul>\n",
    "    <li>문제</li>\n",
    "    <p>2차원 평면 위의 점 N개가 주어진다. 좌표를 x좌표가 증가하는 순으로, x좌표가 같으면 y좌표가 증가하는 순서로 정렬한 다음 출력하는 프로그램을 작성하시오.</p>\n",
    "    <li>입력</li>\n",
    "    <p>첫째 줄에 점의 개수 N (1 ≤ N ≤ 100,000)이 주어진다. 둘째 줄부터 N개의 줄에는 i번점의 위치 xi와 yi가 주어진다. </p>\n",
    "    <p>(-100,000 ≤ xi, yi ≤ 100,000) 좌표는 항상 정수이고, 위치가 같은 두 점은 없다.</p>\n",
    "    <li>출력</li>\n",
    "    <p>첫째 줄부터 N개의 줄에 점을 정렬한 결과를 출력한다.</p>\n",
    "</ul>\n",
    "</div>"
   ]
  },
  {
   "cell_type": "code",
   "execution_count": 1,
   "id": "8bb53d07",
   "metadata": {
    "ExecuteTime": {
     "end_time": "2022-05-16T15:14:25.225833Z",
     "start_time": "2022-05-16T15:14:25.215862Z"
    }
   },
   "outputs": [],
   "source": [
    "def merge(left, right, stand):\n",
    "    merged_list = []\n",
    "    idx_l = idx_r = 0\n",
    "    while True:\n",
    "        if stand == 'x':\n",
    "            if left[idx_l][0] < right[idx_r][0]:\n",
    "                merged_list.append(left[idx_l])\n",
    "                idx_l += 1\n",
    "            else:\n",
    "                merged_list.append(right[idx_r])\n",
    "                idx_r += 1\n",
    "        else:\n",
    "            if left[idx_l][1] < right[idx_r][1]:\n",
    "                merged_list.append(left[idx_l])\n",
    "                idx_l += 1\n",
    "            else:\n",
    "                merged_list.append(right[idx_r])\n",
    "                idx_r += 1\n",
    "                    \n",
    "        if idx_l == len(left):\n",
    "            merged_list = merged_list + right[idx_r:]\n",
    "            break\n",
    "            \n",
    "        if idx_r == len(right):\n",
    "            merged_list = merged_list + left[idx_l:]\n",
    "            break\n",
    "    return merged_list\n",
    "\n",
    "def merge_sort(data, stand):\n",
    "    if stand == 'x':\n",
    "        if len(data) <= 1:\n",
    "            return data\n",
    "        idx_cut = len(data) // 2\n",
    "        left = data[:idx_cut]\n",
    "        right = data[idx_cut:]\n",
    "        return merge(merge_sort(left, 'x'), merge_sort(right, 'x'), 'x')\n",
    "    else:\n",
    "        if len(data) <= 1:\n",
    "            return data\n",
    "        idx_cut = len(data) // 2\n",
    "        left = data[:idx_cut]\n",
    "        right = data[idx_cut:]\n",
    "        return merge(merge_sort(left, 'y'), merge_sort(right, 'y'), 'y')"
   ]
  },
  {
   "cell_type": "code",
   "execution_count": 14,
   "id": "1111ba99",
   "metadata": {
    "ExecuteTime": {
     "end_time": "2022-05-16T15:46:44.736129Z",
     "start_time": "2022-05-16T15:46:35.406292Z"
    }
   },
   "outputs": [
    {
     "name": "stdout",
     "output_type": "stream",
     "text": [
      "5\n",
      "1 6\n",
      "1 5\n",
      "1 2\n",
      "1 -9\n",
      "1 0\n",
      "[[1, 0], [1, -9], [1, 2], [1, 5], [1, 6]]\n",
      "0 4\n",
      "1 -9\n",
      "1 0\n",
      "1 2\n",
      "1 5\n",
      "1 6\n"
     ]
    }
   ],
   "source": [
    "N = int(input())\n",
    "coord_list = []\n",
    "for _ in range(N):\n",
    "    item = list(map(int, input().split()))\n",
    "    coord_list.append(item)\n",
    "\n",
    "data = merge_sort(coord_list, 'x')\n",
    "i = 0\n",
    "while True:\n",
    "    while True:\n",
    "        if data[i][0] == data[i + 1][0]:\n",
    "            slice_start_temp = i\n",
    "            if i == 0:\n",
    "                slice_start = slice_start_temp\n",
    "            elif i >= 1 and data[i][0] != data[i - 1][0]:\n",
    "                slice_start = slice_start_temp\n",
    "            elif i >= 1 and data[i][0] == data[i - 1][0]:\n",
    "                slice_start = slice_start\n",
    "                \n",
    "            i += 1\n",
    "            \n",
    "            if i == len(data) - 1:\n",
    "                slice_end = i\n",
    "                data[slice_start:slice_end] = merge_sort(data[slice_start:slice_end], 'y')\n",
    "                break\n",
    "                \n",
    "        else:\n",
    "            slice_end = i + 1\n",
    "            \n",
    "            try:\n",
    "                data[slice_start:slice_end] = merge_sort(data[slice_start:slice_end], 'y')\n",
    "                del slice_start\n",
    "                break\n",
    "            except NameError:\n",
    "                i +=1\n",
    "            break     \n",
    "    if i == len(data) - 1:\n",
    "        break\n",
    "            \n",
    "\n",
    "for item in data:\n",
    "    print(*item)"
   ]
  },
  {
   "cell_type": "markdown",
   "id": "7d2d7534",
   "metadata": {},
   "source": [
    "### 11651번: 좌표 정렬하기\n",
    "<div class=\"alert alert-block alert-info\">\n",
    "<b>11651번: 좌표 정렬하기</b><br>\n",
    "<ul>\n",
    "    <li>문제</li>\n",
    "    <p>2차원 평면 위의 점 N개가 주어진다. 좌표를 y좌표가 증가하는 순으로, y좌표가 같으면 x좌표가 증가하는 순서로 정렬한 다음 출력하는 프로그램을 작성하시오.</p>\n",
    "    <li>입력</li>\n",
    "    <p>첫째 줄에 점의 개수 N (1 ≤ N ≤ 100,000)이 주어진다. 둘째 줄부터 N개의 줄에는 i번점의 위치 xi와 yi가 주어진다. </p>\n",
    "    <p>(-100,000 ≤ xi, yi ≤ 100,000) 좌표는 항상 정수이고, 위치가 같은 두 점은 없다.</p>\n",
    "    <li>출력</li>\n",
    "    <p>첫째 줄부터 N개의 줄에 점을 정렬한 결과를 출력한다.</p>\n",
    "</ul>\n",
    "</div>"
   ]
  },
  {
   "cell_type": "code",
   "execution_count": 20,
   "id": "50ec3fce",
   "metadata": {
    "ExecuteTime": {
     "end_time": "2022-05-16T16:02:10.829938Z",
     "start_time": "2022-05-16T16:01:38.163086Z"
    },
    "code_folding": []
   },
   "outputs": [
    {
     "name": "stdout",
     "output_type": "stream",
     "text": [
      "5\n",
      "-1 5\n",
      "-2 5\n",
      "2 4\n",
      "-2 4\n",
      "0 5\n",
      "slice idx 0 2\n",
      "slice idx 2 5\n",
      "-2 4\n",
      "2 4\n",
      "-2 5\n",
      "-1 5\n",
      "0 5\n"
     ]
    }
   ],
   "source": [
    "N = int(input())\n",
    "coord_list = []\n",
    "for _ in range(N):\n",
    "    item = list(map(int, input().split()))\n",
    "    coord_list.append(item)\n",
    "\n",
    "data = merge_sort(coord_list, 'y')\n",
    "i = 0\n",
    "while True:\n",
    "    while True:\n",
    "        if data[i][1] == data[i + 1][1]:\n",
    "            slice_start_temp = i\n",
    "            if i == 0:\n",
    "                slice_start = slice_start_temp\n",
    "            elif i >= 1 and data[i][1] != data[i - 1][1]:\n",
    "                slice_start = slice_start_temp\n",
    "            elif i >= 1 and data[i][1] == data[i - 1][1]:\n",
    "                slice_start = slice_start\n",
    "                \n",
    "            i += 1\n",
    "            if i == len(data) - 1:\n",
    "                slice_end = i + 1\n",
    "                data[slice_start:slice_end] = merge_sort(data[slice_start:slice_end], 'x')\n",
    "                break\n",
    "                \n",
    "        else:\n",
    "            slice_end = i + 1\n",
    "            \n",
    "            try:\n",
    "                data[slice_start:slice_end] = merge_sort(data[slice_start:slice_end], 'x')\n",
    "                del slice_start\n",
    "                break\n",
    "            except NameError:\n",
    "                i +=1\n",
    "            break     \n",
    "    if i == len(data) - 1:\n",
    "        break\n",
    "            \n",
    "\n",
    "for item in data:\n",
    "    print(*item)"
   ]
  },
  {
   "cell_type": "markdown",
   "id": "d44e2cb6",
   "metadata": {},
   "source": [
    "### 1181번: 단어 정렬하기\n",
    "<div class=\"alert alert-block alert-info\">\n",
    "<b>1181번: 단어 정렬하기</b><br>\n",
    "<ul>\n",
    "    <li>문제</li>\n",
    "    <p>알파벳 소문자로 이루어진 N개의 단어가 들어오면 아래와 같은 조건에 따라 정렬하는 프로그램을 작성하시오.</p>\n",
    "    <ol>\n",
    "        <li>길이가 짧은 것부터</li>\n",
    "        <li>길이가 같으면 사전 순으로</li>\n",
    "    </ol>\n",
    "    <li>입력</li>\n",
    "    <p>첫째 줄에 단어의 개수 N이 주어진다. (1 ≤ N ≤ 20,000) 둘째 줄부터 N개의 줄에 걸쳐 알파벳 소문자로 이루어진 단어가 한 줄에 하나씩 주어진다. 주어지는 문자열의 길이는 50을 넘지 않는다. </p>\n",
    "    <li>출력</li>\n",
    "    <p>조건에 따라 정렬하여 단어들을 출력한다. 단, 같은 단어가 여러 번 입력된 경우에는 한 번씩만 출력한다.</p>\n",
    "</ul>\n",
    "</div>"
   ]
  },
  {
   "cell_type": "code",
   "execution_count": 49,
   "id": "4ec2f42b",
   "metadata": {
    "ExecuteTime": {
     "end_time": "2022-05-16T16:38:02.160516Z",
     "start_time": "2022-05-16T16:38:02.146552Z"
    }
   },
   "outputs": [],
   "source": [
    "def rank(word):\n",
    "    rank = 0\n",
    "    for i, alphabet in enumerate(word):\n",
    "        rank += (ord(alphabet) - 96) * (26 ** (len(word) - i - 1))\n",
    "    return rank"
   ]
  },
  {
   "cell_type": "code",
   "execution_count": null,
   "id": "6d7988b1",
   "metadata": {},
   "outputs": [],
   "source": [
    "import sys\n",
    "\n",
    "\n",
    "def merge(left, right, stand):\n",
    "    merged_list = []\n",
    "    idx_l = idx_r = 0\n",
    "    while True:\n",
    "        if stand == 1:\n",
    "            if left[idx_l][1] < right[idx_r][1]:\n",
    "                merged_list.append(left[idx_l])\n",
    "                idx_l += 1\n",
    "            else:\n",
    "                merged_list.append(right[idx_r])\n",
    "                idx_r += 1\n",
    "        else:\n",
    "            if left[idx_l][2] < right[idx_r][2]:\n",
    "                merged_list.append(left[idx_l])\n",
    "                idx_l += 1\n",
    "            else:\n",
    "                merged_list.append(right[idx_r])\n",
    "                idx_r += 1\n",
    "\n",
    "        if idx_l == len(left):\n",
    "            merged_list = merged_list + right[idx_r:]\n",
    "            break\n",
    "\n",
    "        if idx_r == len(right):\n",
    "            merged_list = merged_list + left[idx_l:]\n",
    "            break\n",
    "    return merged_list\n",
    "\n",
    "\n",
    "def merge_sort(data, stand):\n",
    "    if stand == 1:\n",
    "        if len(data) <= 1:\n",
    "            return data\n",
    "        idx_cut = len(data) // 2\n",
    "        left = data[:idx_cut]\n",
    "        right = data[idx_cut:]\n",
    "        return merge(merge_sort(left, 1), merge_sort(right, 1), 1)\n",
    "    else:\n",
    "        if len(data) <= 1:\n",
    "            return data\n",
    "        idx_cut = len(data) // 2\n",
    "        left = data[:idx_cut]\n",
    "        right = data[idx_cut:]\n",
    "        return merge(merge_sort(left, 2), merge_sort(right, 2), 2)\n",
    "\n",
    "\n",
    "def rank(word):\n",
    "    rank = 0\n",
    "    for i, alphabet in enumerate(word):\n",
    "        rank += (ord(alphabet) - 96) * (26 ** (len(word) - i - 1))\n",
    "    return rank\n",
    "\n",
    "\n",
    "N = int(sys.stdin.readline())\n",
    "data = []\n",
    "for _ in range(N):\n",
    "    data.append(sys.stdin.readline().strip())\n",
    "data = list(set(data))\n",
    "for i in range(len(data)):\n",
    "    data[i] = [data[i], len(data[i]), rank(data[i])]\n",
    "\n",
    "data = merge_sort(data, 1)\n",
    "i = 0\n",
    "while True:\n",
    "    if len(data) == 1:\n",
    "        break\n",
    "    while True:\n",
    "        if data[i][1] == data[i + 1][1]:\n",
    "            slice_start_temp = i\n",
    "            if i == 0:\n",
    "                slice_start = slice_start_temp\n",
    "            elif i >= 1 and data[i][1] != data[i - 1][1]:\n",
    "                slice_start = slice_start_temp\n",
    "            elif i >= 1 and data[i][1] == data[i - 1][1]:\n",
    "                slice_start = slice_start\n",
    "\n",
    "            i += 1\n",
    "            print(i)\n",
    "            if i == len(data) - 1:\n",
    "                slice_end = i + 1\n",
    "                data[slice_start:slice_end] = merge_sort(data[slice_start:slice_end], 2)\n",
    "                del slice_start, slice_end\n",
    "                break\n",
    "\n",
    "        else:\n",
    "            slice_end = i + 1\n",
    "\n",
    "            try:\n",
    "                data[slice_start:slice_end] = merge_sort(data[slice_start:slice_end], 2)\n",
    "                del slice_start, slice_end\n",
    "                break\n",
    "            except NameError:\n",
    "                i += 1\n",
    "                break\n",
    "    if i == len(data) - 1:\n",
    "        break\n",
    "\n",
    "\n",
    "for item in data:\n",
    "    print(item[0])"
   ]
  },
  {
   "cell_type": "markdown",
   "id": "605b9002",
   "metadata": {},
   "source": [
    "### 10814번: 나이순 정렬\n",
    "<div class=\"alert alert-block alert-info\">\n",
    "<b>10814번: 나이순 정렬</b><br>\n",
    "<ul>\n",
    "    <li>문제</li>\n",
    "    <p>온라인 저지에 가입한 사람들의 나이와 이름이 가입한 순서대로 주어진다. 이때, 회원들을 나이가 증가하는 순으로, 나이가 같으면 먼저 가입한 사람이 앞에 오는 순서로 정렬하는 프로그램을 작성하시오.</p>\n",
    "    <li>입력</li>\n",
    "    <p>첫째 줄에 온라인 저지 회원의 수 N이 주어진다. (1 ≤ N ≤ 100,000)</p>\n",
    "    <p>둘째 줄부터 N개의 줄에는 각 회원의 나이와 이름이 공백으로 구분되어 주어진다. 나이는 1보다 크거나 같으며, 200보다 작거나 같은 정수이고, 이름은 알파벳 대소문자로 이루어져 있고, 길이가 100보다 작거나 같은 문자열이다. 입력은 가입한 순서로 주어진다.</p>\n",
    "    <li>출력</li>\n",
    "    <p>첫째 줄부터 총 N개의 줄에 걸쳐 온라인 저지 회원을 나이 순, 나이가 같으면 가입한 순으로 한 줄에 한 명씩 나이와 이름을 공백으로 구분해 출력한다.</p>\n",
    "</ul>\n",
    "</div>\n"
   ]
  },
  {
   "cell_type": "code",
   "execution_count": null,
   "id": "e38da39c",
   "metadata": {},
   "outputs": [],
   "source": [
    "import sys\n",
    "\n",
    "\n",
    "def merge(left, right, stand):\n",
    "    merged_list = []\n",
    "    idx_l = idx_r = 0\n",
    "    while True:\n",
    "        if stand == 0:\n",
    "            if left[idx_l][0] < right[idx_r][0]:\n",
    "                merged_list.append(left[idx_l])\n",
    "                idx_l += 1\n",
    "            else:\n",
    "                merged_list.append(right[idx_r])\n",
    "                idx_r += 1\n",
    "        else:\n",
    "            if left[idx_l][2] < right[idx_r][2]:\n",
    "                merged_list.append(left[idx_l])\n",
    "                idx_l += 1\n",
    "            else:\n",
    "                merged_list.append(right[idx_r])\n",
    "                idx_r += 1\n",
    "\n",
    "        if idx_l == len(left):\n",
    "            merged_list = merged_list + right[idx_r:]\n",
    "            break\n",
    "\n",
    "        if idx_r == len(right):\n",
    "            merged_list = merged_list + left[idx_l:]\n",
    "            break\n",
    "    return merged_list\n",
    "\n",
    "\n",
    "def merge_sort(data, stand):\n",
    "    if stand == 0:\n",
    "        if len(data) <= 1:\n",
    "            return data\n",
    "        idx_cut = len(data) // 2\n",
    "        left = data[:idx_cut]\n",
    "        right = data[idx_cut:]\n",
    "        return merge(merge_sort(left, 0), merge_sort(right, 0), 0)\n",
    "    else:\n",
    "        if len(data) <= 1:\n",
    "            return data\n",
    "        idx_cut = len(data) // 2\n",
    "        left = data[:idx_cut]\n",
    "        right = data[idx_cut:]\n",
    "        return merge(merge_sort(left, 2), merge_sort(right, 2), 2)\n",
    "\n",
    "\n",
    "\n",
    "N = int(sys.stdin.readline())\n",
    "data = []\n",
    "for _ in range(N):\n",
    "    age, name = sys.stdin.readline().split()\n",
    "    data.append([int(age), name])\n",
    "for i in range(len(data)):\n",
    "    data[i].append(i)\n",
    "\n",
    "data = merge_sort(data, 0)\n",
    "i = 0\n",
    "while True:\n",
    "    if len(data) == 1:\n",
    "        break\n",
    "    while True:\n",
    "        if data[i][0] == data[i + 1][0]:\n",
    "            slice_start_temp = i\n",
    "            if i == 0:\n",
    "                slice_start = slice_start_temp\n",
    "            elif i >= 1 and data[i][0] != data[i - 1][0]:\n",
    "                slice_start = slice_start_temp\n",
    "            elif i >= 1 and data[i][0] == data[i - 1][0]:\n",
    "                slice_start = slice_start\n",
    "\n",
    "            i += 1\n",
    "            if i == len(data) - 1:\n",
    "                slice_end = i + 1\n",
    "                data[slice_start:slice_end] = merge_sort(data[slice_start:slice_end], 2)\n",
    "                del slice_start, slice_end\n",
    "                break\n",
    "\n",
    "        else:\n",
    "            slice_end = i + 1\n",
    "\n",
    "            try:\n",
    "                data[slice_start:slice_end] = merge_sort(data[slice_start:slice_end], 2)\n",
    "                del slice_start, slice_end\n",
    "                break\n",
    "            except NameError:\n",
    "                i += 1\n",
    "                break\n",
    "    if i == len(data) - 1:\n",
    "        break\n",
    "\n",
    "\n",
    "for item in data:\n",
    "    print(item[0], item[1])"
   ]
  },
  {
   "cell_type": "markdown",
   "id": "b9f9b53f",
   "metadata": {},
   "source": [
    "### 10814번: 나이순 정렬\n",
    "<div class=\"alert alert-block alert-info\">\n",
    "<b>10814번: 나이순 정렬</b><br>\n",
    "<ul>\n",
    "    <li>문제</li>\n",
    "    <p>수직선 위에 N개의 좌표 X1, X2, ..., XN이 있다. 이 좌표에 좌표 압축을 적용하려고 한다..</p>\n",
    "    <p>Xi를 좌표 압축한 결과 X'i의 값은 Xi > Xj를 만족하는 서로 다른 좌표의 개수와 같아야 한다.</p>\n",
    "    <p>X1, X2, ..., XN에 좌표 압축을 적용한 결과 X'1, X'2, ..., X'N를 출력해보자.</p>\n",
    "    <li>입력</li>\n",
    "    <p>첫째 줄에 N이 주어진다.</p>\n",
    "    <p>둘째 줄에는 공백 한 칸으로 구분된 X1, X2, ..., XN이 주어진다.</p>\n",
    "    <li>출력</li>\n",
    "    <p>첫째 줄에 X'1, X'2, ..., X'N을 공백 한 칸으로 구분해서 출력한다.</p>\n",
    "    <li>제한</li>\n",
    "    <p>1 ≤ N ≤ 1,000,000</p>\n",
    "    <p>-10^9 ≤ Xi ≤ 10^9</p>\n",
    "</ul>\n",
    "</div>"
   ]
  },
  {
   "cell_type": "code",
   "execution_count": 57,
   "id": "72e93859",
   "metadata": {
    "ExecuteTime": {
     "end_time": "2022-05-17T07:16:29.336261Z",
     "start_time": "2022-05-17T07:16:18.548932Z"
    }
   },
   "outputs": [
    {
     "name": "stdout",
     "output_type": "stream",
     "text": [
      "-9 -10 6 9 8 2 -10 -9 -8 6 -2\n"
     ]
    }
   ],
   "source": [
    "input_ = input().split()\n",
    "data = list(set(input_))\n",
    "\n",
    "def merge(left, right):\n",
    "    merged_list = []\n",
    "    idx_l = idx_r = 0\n",
    "    while True:\n",
    "        if left[idx_l] < right[idx_r]:\n",
    "            merged_list.append(left[idx_l])\n",
    "            idx_l += 1\n",
    "        else:\n",
    "            merged_list.append(right[idx_r])\n",
    "            idx_r += 1\n",
    "                    \n",
    "        if idx_l == len(left):\n",
    "            merged_list = merged_list + right[idx_r:]\n",
    "            break\n",
    "            \n",
    "        if idx_r == len(right):\n",
    "            merged_list = merged_list + left[idx_l:]\n",
    "            break\n",
    "    return merged_list\n",
    "\n",
    "def merge_sort(data):\n",
    "    if len(data) <= 1:\n",
    "        return data\n",
    "    idx_cut = len(data) // 2\n",
    "    left = data[:idx_cut]\n",
    "    right = data[idx_cut:]\n",
    "    return merge(merge_sort(left), merge_sort(right))\n",
    "\n",
    "data = merge_sort(data)"
   ]
  },
  {
   "cell_type": "code",
   "execution_count": 58,
   "id": "e8a89a2a",
   "metadata": {
    "ExecuteTime": {
     "end_time": "2022-05-17T07:16:30.616662Z",
     "start_time": "2022-05-17T07:16:30.610681Z"
    }
   },
   "outputs": [
    {
     "data": {
      "text/plain": [
       "['-10', '-2', '-8', '-9', '2', '6', '8', '9']"
      ]
     },
     "execution_count": 58,
     "metadata": {},
     "output_type": "execute_result"
    }
   ],
   "source": [
    "data"
   ]
  },
  {
   "cell_type": "code",
   "execution_count": 66,
   "id": "175f2e42",
   "metadata": {
    "ExecuteTime": {
     "end_time": "2022-05-17T07:20:51.256401Z",
     "start_time": "2022-05-17T07:20:51.250419Z"
    }
   },
   "outputs": [
    {
     "data": {
      "text/plain": [
       "['-10', '-2', '-8', '-9', '2', '6', '8', '9']"
      ]
     },
     "execution_count": 66,
     "metadata": {},
     "output_type": "execute_result"
    }
   ],
   "source": [
    "data = merge_sort(data)\n",
    "data"
   ]
  },
  {
   "cell_type": "code",
   "execution_count": null,
   "id": "371cbbf8",
   "metadata": {},
   "outputs": [],
   "source": [
    "data.sort()"
   ]
  }
 ],
 "metadata": {
  "hide_input": false,
  "kernelspec": {
   "display_name": "Python 3",
   "language": "python",
   "name": "python3"
  },
  "language_info": {
   "codemirror_mode": {
    "name": "ipython",
    "version": 3
   },
   "file_extension": ".py",
   "mimetype": "text/x-python",
   "name": "python",
   "nbconvert_exporter": "python",
   "pygments_lexer": "ipython3",
   "version": "3.8.8"
  },
  "toc": {
   "base_numbering": 1,
   "nav_menu": {},
   "number_sections": true,
   "sideBar": true,
   "skip_h1_title": false,
   "title_cell": "Table of Contents",
   "title_sidebar": "Contents",
   "toc_cell": false,
   "toc_position": {},
   "toc_section_display": true,
   "toc_window_display": false
  },
  "varInspector": {
   "cols": {
    "lenName": 16,
    "lenType": 16,
    "lenVar": 40
   },
   "kernels_config": {
    "python": {
     "delete_cmd_postfix": "",
     "delete_cmd_prefix": "del ",
     "library": "var_list.py",
     "varRefreshCmd": "print(var_dic_list())"
    },
    "r": {
     "delete_cmd_postfix": ") ",
     "delete_cmd_prefix": "rm(",
     "library": "var_list.r",
     "varRefreshCmd": "cat(var_dic_list()) "
    }
   },
   "types_to_exclude": [
    "module",
    "function",
    "builtin_function_or_method",
    "instance",
    "_Feature"
   ],
   "window_display": false
  }
 },
 "nbformat": 4,
 "nbformat_minor": 5
}
