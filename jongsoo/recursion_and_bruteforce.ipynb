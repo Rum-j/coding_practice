{
 "cells": [
  {
   "cell_type": "markdown",
   "id": "351e1c21",
   "metadata": {},
   "source": [
    "## 재귀"
   ]
  },
  {
   "cell_type": "markdown",
   "id": "c725c2ab",
   "metadata": {},
   "source": [
    "<div class=\"alert alert-block alert-info\">\n",
    "<b>10872번: 팩토리얼</b><br>\n",
    "<ul>\n",
    "    <li>문제</li>\n",
    "    <p>0보다 크거나 같은 정수 N이 주어진다. 이때, N!을 출력하는 프로그램을 작성하시오.</p>\n",
    "    <li>입력</li>\n",
    "    <p>첫째 줄에 정수 N(0 ≤ N ≤ 12)이 주어진다.</p>\n",
    "    <li>출력</li>\n",
    "    <p>첫째 줄에 N!을 출력한다.</p>\n",
    "</ul>\n",
    "</div>"
   ]
  },
  {
   "cell_type": "code",
   "execution_count": 2,
   "id": "4941beb8",
   "metadata": {
    "ExecuteTime": {
     "end_time": "2022-05-09T09:39:10.460459Z",
     "start_time": "2022-05-09T09:39:10.449407Z"
    }
   },
   "outputs": [],
   "source": [
    "def factorial(x):\n",
    "    if x == 0:\n",
    "        return 1\n",
    "    else:\n",
    "        return x * factorial(x - 1)"
   ]
  },
  {
   "cell_type": "code",
   "execution_count": 8,
   "id": "77afceb9",
   "metadata": {
    "ExecuteTime": {
     "end_time": "2022-05-09T09:40:50.004887Z",
     "start_time": "2022-05-09T09:40:49.995839Z"
    }
   },
   "outputs": [
    {
     "data": {
      "text/plain": [
       "1"
      ]
     },
     "execution_count": 8,
     "metadata": {},
     "output_type": "execute_result"
    }
   ],
   "source": [
    "factorial(1)"
   ]
  },
  {
   "cell_type": "markdown",
   "id": "d247516f",
   "metadata": {},
   "source": [
    "<div class=\"alert alert-block alert-info\">\n",
    "<b>10870번: 피보나치 수 5</b><br>\n",
    "<ul>\n",
    "    <li>문제</li>\n",
    "    <p>피보나치 수는 0과 1로 시작한다. 0번째 피보나치 수는 0이고, 1번째 피보나치 수는 1이다. 그 다음 2번째 부터는 바로 앞 두 피보나치 수의 합이 된다.</p>\n",
    "    <p>이를 식으로 써보면 Fn = Fn-1 + Fn-2 (n ≥ 2)가 된다.</p>\n",
    "    <p>n=17일때 까지 피보나치 수를 써보면 다음과 같다.</p>\n",
    "    <p>0, 1, 1, 2, 3, 5, 8, 13, 21, 34, 55, 89, 144, 233, 377, 610, 987, 1597</p>\n",
    "    <p>n이 주어졌을 때, n번째 피보나치 수를 구하는 프로그램을 작성하시오.</p>\n",
    "    <li>입력</li>\n",
    "    <p>첫째 줄에 n이 주어진다. n은 20보다 작거나 같은 자연수 또는 0이다.</p>\n",
    "    <li>출력</li>\n",
    "    <p>첫째 줄에 n번째 피보나치 수를 출력한다.</p>\n",
    "</ul>\n",
    "</div>"
   ]
  },
  {
   "cell_type": "code",
   "execution_count": 13,
   "id": "68bd55ef",
   "metadata": {
    "ExecuteTime": {
     "end_time": "2022-05-09T09:46:14.730059Z",
     "start_time": "2022-05-09T09:46:14.720667Z"
    }
   },
   "outputs": [],
   "source": [
    "def fibonacci(x):\n",
    "    if x == 0:\n",
    "        return 0\n",
    "    elif x == 1:\n",
    "        return 1\n",
    "    else:\n",
    "        return fibonacci(x - 1) + fibonacci(x - 2)"
   ]
  },
  {
   "cell_type": "code",
   "execution_count": 15,
   "id": "11982dfc",
   "metadata": {
    "ExecuteTime": {
     "end_time": "2022-05-09T09:46:18.809921Z",
     "start_time": "2022-05-09T09:46:18.788015Z"
    }
   },
   "outputs": [
    {
     "data": {
      "text/plain": [
       "1597"
      ]
     },
     "execution_count": 15,
     "metadata": {},
     "output_type": "execute_result"
    }
   ],
   "source": [
    "fibonacci(17)"
   ]
  },
  {
   "cell_type": "markdown",
   "id": "f7597a77",
   "metadata": {
    "ExecuteTime": {
     "end_time": "2022-05-09T09:43:37.772002Z",
     "start_time": "2022-05-09T09:43:37.759405Z"
    }
   },
   "source": [
    "<div class=\"alert alert-block alert-info\">\n",
    "<b>17478번: 재귀함수가 뭔가요?</b><br>\n",
    "<ul>\n",
    "    <li>문제</li>\n",
    "    <p>평소에 질문을 잘 받아주기로 유명한 중앙대학교의 JH 교수님은 학생들로부터 재귀함수가 무엇인지에 대하여 많은 질문을 받아왔다.</p>\n",
    "    <p>매번 질문을 잘 받아주셨던 JH 교수님이지만 그는 중앙대학교가 자신과 맞는가에 대한 고민을 항상 해왔다.</p>\n",
    "    <p>중앙대학교와 자신의 길이 맞지 않다고 생각한 JH 교수님은 결국 중앙대학교를 떠나기로 결정하였다.</p>\n",
    "    <p>떠나기 전까지도 제자들을 생각하셨던 JH 교수님은 재귀함수가 무엇인지 물어보는 학생들을 위한 작은 선물로 자동 응답 챗봇을 준비하기로 했다.</p>\n",
    "    <p>JH 교수님이 만들 챗봇의 응답을 출력하는 프로그램을 만들어보자.</p>\n",
    "    <li>입력</li>\n",
    "    <p>교수님이 출력을 원하는 재귀 횟수 N(1 ≤ N ≤ 50)이 주어진다.</p>\n",
    "    <li>출력</li>\n",
    "    <p>출력 예시를 보고 재귀 횟수에 따른 챗봇의 응답을 출력한다.</p>\n",
    "</ul>\n",
    "</div>"
   ]
  },
  {
   "cell_type": "code",
   "execution_count": 160,
   "id": "ba4431fd",
   "metadata": {
    "ExecuteTime": {
     "end_time": "2022-05-09T11:00:47.684819Z",
     "start_time": "2022-05-09T11:00:47.677836Z"
    }
   },
   "outputs": [],
   "source": [
    "class whatIsRecursive():\n",
    "    def __init__(self):\n",
    "        self.N = int(input())\n",
    "\n",
    "    def what_is_recursive(self, x):\n",
    "        if x == 0:\n",
    "            return print('____'*self.N + '\"재귀함수가 뭔가요?\"', '____'*self.N + '\"재귀함수는 자기 자신을 호출하는 함수라네\"','____'*self.N + '라고 답변하였지.', sep='\\n')\n",
    "        else:\n",
    "            if x == self.N:\n",
    "                print('어느 한 컴퓨터공학과 학생이 유명한 교수님을 찾아가 물었다.')\n",
    "            print('____'*(self.N - x), '\"재귀함수가 뭔가요?\"', sep='')\n",
    "            print('____'*(self.N - x), '\"잘 들어보게. 옛날옛날 한 산 꼭대기에 이세상 모든 지식을 통달한 선인이 있었어.', sep='')\n",
    "            print('____'*(self.N - x), '마을 사람들은 모두 그 선인에게 수많은 질문을 했고, 모두 지혜롭게 대답해 주었지.', sep='')\n",
    "            print('____'*(self.N - x), '그의 답은 대부분 옳았다고 하네. 그런데 어느 날, 그 선인에게 한 선비가 찾아와서 물었어.\"', sep='')\n",
    "            self.what_is_recursive(x - 1)\n",
    "            self.N -= 1\n",
    "            return print('____'*self.N, '라고 답변하였지.', sep='')"
   ]
  },
  {
   "cell_type": "code",
   "execution_count": 162,
   "id": "56777463",
   "metadata": {
    "ExecuteTime": {
     "end_time": "2022-05-09T11:01:19.025053Z",
     "start_time": "2022-05-09T11:01:16.758079Z"
    }
   },
   "outputs": [
    {
     "name": "stdout",
     "output_type": "stream",
     "text": [
      "2\n",
      "어느 한 컴퓨터공학과 학생이 유명한 교수님을 찾아가 물었다.\n",
      "\"재귀함수가 뭔가요?\"\n",
      "\"잘 들어보게. 옛날옛날 한 산 꼭대기에 이세상 모든 지식을 통달한 선인이 있었어.\n",
      "마을 사람들은 모두 그 선인에게 수많은 질문을 했고, 모두 지혜롭게 대답해 주었지.\n",
      "그의 답은 대부분 옳았다고 하네. 그런데 어느 날, 그 선인에게 한 선비가 찾아와서 물었어.\"\n",
      "____\"재귀함수가 뭔가요?\"\n",
      "____\"잘 들어보게. 옛날옛날 한 산 꼭대기에 이세상 모든 지식을 통달한 선인이 있었어.\n",
      "____마을 사람들은 모두 그 선인에게 수많은 질문을 했고, 모두 지혜롭게 대답해 주었지.\n",
      "____그의 답은 대부분 옳았다고 하네. 그런데 어느 날, 그 선인에게 한 선비가 찾아와서 물었어.\"\n",
      "________\"재귀함수가 뭔가요?\"\n",
      "________\"재귀함수는 자기 자신을 호출하는 함수라네\"\n",
      "________라고 답변하였지.\n",
      "____라고 답변하였지.\n",
      "라고 답변하였지.\n"
     ]
    }
   ],
   "source": [
    "a = whatIsRecursive()\n",
    "a.what_is_recursive(a.N)"
   ]
  },
  {
   "cell_type": "markdown",
   "id": "919d1f40",
   "metadata": {},
   "source": [
    "<div class=\"alert alert-block alert-info\">\n",
    "<b>2447번: 별찍기-10</b><br>\n",
    "<ul>\n",
    "    <li>문제</li>\n",
    "    <p>재귀적인 패턴으로 별을 찍어 보자. N이 3의 거듭제곱(3, 9, 27, ...)이라고 할 때, 크기 N의 패턴은 N×N 정사각형 모양이다.</p>\n",
    "    <p>크기 3의 패턴은 가운데에 공백이 있고, 가운데를 제외한 모든 칸에 별이 하나씩 있는 패턴이다.</p>\n",
    "    <p>N이 3보다 클 경우, 크기 N의 패턴은 공백으로 채워진 가운데의 (N/3)×(N/3) 정사각형을 크기 N/3의 패턴으로 둘러싼 형태이다.</p>\n",
    "    <p>예를 들어 크기 27의 패턴은 예제 출력 1과 같다.</p>\n",
    "    <li>입력</li>\n",
    "    <p>첫째 줄에 N이 주어진다. N은 3의 거듭제곱이다. 즉 어떤 정수 k에 대해 N=3k이며, 이때 1 ≤ k < 8이다.</p>\n",
    "    <li>출력</li>\n",
    "    <p>첫째 줄부터 N번째 줄까지 별을 출력한다.</p>\n",
    "</ul>\n",
    "</div>"
   ]
  },
  {
   "cell_type": "markdown",
   "id": "267340e9",
   "metadata": {},
   "source": [
    "<div class=\"alert alert-block alert-info\">\n",
    "<b>11729번: 하노이 탑 이동 순서</b><br>\n",
    "<ul>\n",
    "    <li>문제</li>\n",
    "    <p>세 개의 장대가 있고 첫 번째 장대에는 반경이 서로 다른 n개의 원판이 쌓여 있다. 각 원판은 반경이 큰 순서대로 쌓여있다. 이제 수도승들이 다음 규칙에 따라 첫 번째 장대에서 세 번째 장대로 옮기려 한다.\n",
    "</p>\n",
    "    <ol>\n",
    "        <li>한 번에 한 개의 원판만을 다른 탑으로 옮길 수 있다.</li>\n",
    "        <li>쌓아 놓은 원판은 항상 위의 것이 아래의 것보다 작아야 한다.</li>\n",
    "    </ol>\n",
    "    <p>이 작업을 수행하는데 필요한 이동 순서를 출력하는 프로그램을 작성하라. 단, 이동 횟수는 최소가 되어야 한다.</p>\n",
    "    <li>입력</li>\n",
    "    <p>첫째 줄에 첫 번째 장대에 쌓인 원판의 개수 N (1 ≤ N ≤ 20)이 주어진다.</p>\n",
    "    <li>출력</li>\n",
    "    <p>첫째 줄에 옮긴 횟수 K를 출력한다.</p>\n",
    "    <p>두 번째 줄부터 수행 과정을 출력한다. 두 번째 줄부터 K개의 줄에 걸쳐 두 정수 A B를 빈칸을 사이에 두고 출력하는데, 이는 A번째 탑의 가장 위에 있는 원판을 B번째 탑의 가장 위로 옮긴다는 뜻이다.</p>\n",
    "</ul>\n",
    "</div>"
   ]
  },
  {
   "cell_type": "code",
   "execution_count": 192,
   "id": "031a7bf6",
   "metadata": {
    "ExecuteTime": {
     "end_time": "2022-05-09T12:31:13.773556Z",
     "start_time": "2022-05-09T12:31:12.766250Z"
    }
   },
   "outputs": [
    {
     "name": "stdout",
     "output_type": "stream",
     "text": [
      "3\n",
      "7\n",
      "1 3\n",
      "1 2\n",
      "3 2\n",
      "1 3\n",
      "2 1\n",
      "2 3\n",
      "1 3\n"
     ]
    }
   ],
   "source": [
    "def hanoi_count(x):\n",
    "    if x == 1:\n",
    "        return 1\n",
    "    else:\n",
    "        return 2 * hanoi_count(x - 1) + 1\n",
    "def hanoi(x, N, start, end):\n",
    "    if x == N:\n",
    "        print(hanoi_count(N))\n",
    "    if x == 1:\n",
    "        print(f'{start} {end}')\n",
    "    else:\n",
    "        hanoi(x - 1, N, start, 6-start-end) # 기둥 위치의 총 합은 6임\n",
    "        print(f'{start} {end}')\n",
    "        hanoi(x - 1, N, 6-start-end, end)\n",
    "N = int(input())\n",
    "\n",
    "hanoi(N, N, 1, 3)"
   ]
  },
  {
   "cell_type": "code",
   "execution_count": 186,
   "id": "f3cd2811",
   "metadata": {
    "ExecuteTime": {
     "end_time": "2022-05-09T12:21:59.137603Z",
     "start_time": "2022-05-09T12:21:59.131622Z"
    }
   },
   "outputs": [
    {
     "name": "stdout",
     "output_type": "stream",
     "text": [
      "1 3\n",
      "1 2\n",
      "3 2\n",
      "1 3\n",
      "2 1\n",
      "2 3\n",
      "1 3\n"
     ]
    }
   ],
   "source": [
    "hanoi(3, 1 ,3)"
   ]
  },
  {
   "cell_type": "markdown",
   "id": "8e044a63",
   "metadata": {},
   "source": [
    "<div class=\"alert alert-block alert-info\">\n",
    "<b>2798번: 블랙잭</b><br>\n",
    "<ul>\n",
    "    <li>문제</li>\n",
    "    <p>카지노에서 제일 인기 있는 게임 블랙잭의 규칙은 상당히 쉽다. 카드의 합이 21을 넘지 않는 한도 내에서, 카드의 합을 최대한 크게 만드는 게임이다. 블랙잭은 카지노마다 다양한 규정이 있다.</p>\n",
    "    <p>한국 최고의 블랙잭 고수 김정인은 새로운 블랙잭 규칙을 만들어 상근, 창영이와 게임하려고 한다.</p>\n",
    "    <p>김정인 버전의 블랙잭에서 각 카드에는 양의 정수가 쓰여 있다. 그 다음, 딜러는 N장의 카드를 모두 숫자가 보이도록 바닥에 놓는다. 그런 후에 딜러는 숫자 M을 크게 외친다.</p>\n",
    "    <p>이제 플레이어는 제한된 시간 안에 N장의 카드 중에서 3장의 카드를 골라야 한다. 블랙잭 변형 게임이기 때문에, 플레이어가 고른 카드의 합은 M을 넘지 않으면서 M과 최대한 가깝게 만들어야 한다.</p>\n",
    "    <p>N장의 카드에 써져 있는 숫자가 주어졌을 때, M을 넘지 않으면서 M에 최대한 가까운 카드 3장의 합을 구해 출력하시오.</p>\n",
    "    <li>입력</li>\n",
    "    <p>첫째 줄에 카드의 개수 N(3 ≤ N ≤ 100)과 M(10 ≤ M ≤ 300,000)이 주어진다. 둘째 줄에는 카드에 쓰여 있는 수가 주어지며, 이 값은 100,000을 넘지 않는 양의 정수이다.</p>\n",
    "    <p>합이 M을 넘지 않는 카드 3장을 찾을 수 있는 경우만 입력으로 주어진다.</p>\n",
    "    <li>출력</li>\n",
    "    <p>첫째 줄에 M을 넘지 않으면서 M에 최대한 가까운 카드 3장의 합을 출력한다.</p>\n",
    "</ul>\n",
    "</div>"
   ]
  },
  {
   "cell_type": "code",
   "execution_count": 214,
   "id": "d6d2a385",
   "metadata": {
    "ExecuteTime": {
     "end_time": "2022-05-09T14:34:24.176866Z",
     "start_time": "2022-05-09T14:34:13.161213Z"
    }
   },
   "outputs": [
    {
     "name": "stdout",
     "output_type": "stream",
     "text": [
      "5 21\n",
      "5 6 7 8 9\n",
      "21\n"
     ]
    }
   ],
   "source": [
    "N, M = list(map(int, input().split()))\n",
    "nums = list(map(int, input().split()))\n",
    "ans = 0\n",
    "for i in range(0, N-2): # 첫번째 카드부터 카드 끝 전전까지\n",
    "    for j in range(i + 1, N-1): # 첫번째 카드 이후 카드 끝 전까지\n",
    "        for k in range(j + 1, N): # 두번째 카드 이후 카드부터 끝까지\n",
    "            if nums[i] + nums[j] + nums[k] > M:\n",
    "                continue\n",
    "            else:\n",
    "                ans = max(ans, nums[i] + nums[j] + nums[k])\n",
    "print(ans)"
   ]
  },
  {
   "cell_type": "markdown",
   "id": "93140fb2",
   "metadata": {},
   "source": [
    "<div class=\"alert alert-block alert-info\">\n",
    "<b>2231번: 분해합</b><br>\n",
    "<ul>\n",
    "    <li>문제</li>\n",
    "    <p>어떤 자연수 N이 있을 때, 그 자연수 N의 분해합은 N과 N을 이루는 각 자리수의 합을 의미한다. 어떤 자연수 M의 분해합이 N인 경우, M을 N의 생성자라 한다. 예를 들어, 245의 분해합은 256(=245+2+4+5)이 된다. 따라서 245는 256의 생성자가 된다. 물론, 어떤 자연수의 경우에는 생성자가 없을 수도 있다. 반대로, 생성자가 여러 개인 자연수도 있을 수 있다.</p>\n",
    "    <p>자연수 N이 주어졌을 때, N의 가장 작은 생성자를 구해내는 프로그램을 작성하시오</p>\n",
    "    <li>입력</li>\n",
    "    <p>첫째 줄에 자연수 N(1 ≤ N ≤ 1,000,000)이 주어진다.</p>\n",
    "    <li>출력</li>\n",
    "    <p>첫째 줄에 답을 출력한다. 생성자가 없는 경우에는 0을 출력한다.</p>\n",
    "</ul>\n",
    "</div>"
   ]
  },
  {
   "cell_type": "code",
   "execution_count": 16,
   "id": "fc6ed828",
   "metadata": {
    "ExecuteTime": {
     "end_time": "2022-05-09T15:20:00.341283Z",
     "start_time": "2022-05-09T15:20:00.329254Z"
    }
   },
   "outputs": [],
   "source": [
    "def num_sum(x): # 분해합을 구하는 함수\n",
    "    return x + sum(list(map(int, list(str(x))))) \n",
    "\n",
    "n = int(input()) # 생성자를 구해야 하는 수\n",
    "i = 0\n",
    "find = False\n",
    "while i < n: \n",
    "    if n == num_sum(i): # i의 분해합이 해당 수와 같으면 그때 i가 생성자이다 그리고 가장 빨리 찾는 것이 가장 작은 수\n",
    "        find = True\n",
    "        break\n",
    "    i += 1\n",
    "if find == True:\n",
    "    print(i)\n",
    "else:\n",
    "    print(0)"
   ]
  },
  {
   "cell_type": "markdown",
   "id": "14e2c616",
   "metadata": {},
   "source": [
    "<div class=\"alert alert-block alert-info\">\n",
    "<b>10872번: 팩토리얼</b><br>\n",
    "<ul>\n",
    "    <li>문제</li>\n",
    "    <p>우리는 사람의 덩치를 키와 몸무게, 이 두 개의 값으로 표현하여 그 등수를 매겨보려고 한다. 어떤 사람의 몸무게가 x kg이고 키가 y cm라면 이 사람의 덩치는 (x, y)로 표시된다. 두 사람 A 와 B의 덩치가 각각 (x, y), (p, q)라고 할 때 x > p 그리고 y > q 이라면 우리는 A의 덩치가 B의 덩치보다 \"더 크다\"고 말한다. 예를 들어 어떤 A, B 두 사람의 덩치가 각각 (56, 177), (45, 165) 라고 한다면 A의 덩치가 B보다 큰 셈이 된다. 그런데 서로 다른 덩치끼리 크기를 정할 수 없는 경우도 있다. 예를 들어 두 사람 C와 D의 덩치가 각각 (45, 181), (55, 173)이라면 몸무게는 D가 C보다 더 무겁고, 키는 C가 더 크므로, \"덩치\"로만 볼 때 C와 D는 누구도 상대방보다 더 크다고 말할 수 없다.</p>\n",
    "    <p>N명의 집단에서 각 사람의 덩치 등수는 자신보다 더 \"큰 덩치\"의 사람의 수로 정해진다. 만일 자신보다 더 큰 덩치의 사람이 k명이라면 그 사람의 덩치 등수는 k+1이 된다. 이렇게 등수를 결정하면 같은 덩치 등수를 가진 사람은 여러 명도 가능하다. 아래는 5명으로 이루어진 집단에서 각 사람의 덩치와 그 등수가 표시된 표이다.</p>\n",
    "    <style type=\"text/css\">\n",
    ".tg  {border-collapse:collapse;border-spacing:0;}\n",
    ".tg td{border-color:black;border-style:solid;border-width:1px;font-family:Arial, sans-serif;font-size:14px;\n",
    "  overflow:hidden;padding:10px 5px;word-break:normal;}\n",
    ".tg th{border-color:black;border-style:solid;border-width:1px;font-family:Arial, sans-serif;font-size:14px;\n",
    "  font-weight:normal;overflow:hidden;padding:10px 5px;word-break:normal;}\n",
    ".tg .tg-tlx9{background-color:#FFF;color:#333;text-align:center;vertical-align:top}\n",
    ".tg .tg-lb2i{background-color:#FFF;color:#333;font-weight:bold;text-align:center;vertical-align:bottom}\n",
    "</style>\n",
    "<table class=\"tg\">\n",
    "<thead>\n",
    "  <tr>\n",
    "    <th class=\"tg-lb2i\">이름</th>\n",
    "    <th class=\"tg-lb2i\">(몸무게, 키)</th>\n",
    "    <th class=\"tg-lb2i\">덩치 등수</th>\n",
    "  </tr>\n",
    "</thead>\n",
    "<tbody>\n",
    "  <tr>\n",
    "    <td class=\"tg-tlx9\">A</td>\n",
    "    <td class=\"tg-tlx9\">(55, 185)</td>\n",
    "    <td class=\"tg-tlx9\">2</td>\n",
    "  </tr>\n",
    "  <tr>\n",
    "    <td class=\"tg-tlx9\">B</td>\n",
    "    <td class=\"tg-tlx9\">(58, 183)</td>\n",
    "    <td class=\"tg-tlx9\">2</td>\n",
    "  </tr>\n",
    "  <tr>\n",
    "    <td class=\"tg-tlx9\">C</td>\n",
    "    <td class=\"tg-tlx9\">(88, 186)</td>\n",
    "    <td class=\"tg-tlx9\">1</td>\n",
    "  </tr>\n",
    "  <tr>\n",
    "    <td class=\"tg-tlx9\">D</td>\n",
    "    <td class=\"tg-tlx9\">(60, 175)</td>\n",
    "    <td class=\"tg-tlx9\">2</td>\n",
    "  </tr>\n",
    "  <tr>\n",
    "    <td class=\"tg-tlx9\">E</td>\n",
    "    <td class=\"tg-tlx9\">(46, 155)</td>\n",
    "    <td class=\"tg-tlx9\">5</td>\n",
    "  </tr>\n",
    "</tbody>\n",
    "</table>\n",
    "    <p>위 표에서 C보다 더 큰 덩치의 사람이 없으므로 C는 1등이 된다. 그리고 A, B, D 각각의 덩치보다 큰 사람은 C뿐이므로 이들은 모두 2등이 된다. 그리고 E보다 큰 덩치는 A, B, C, D 이렇게 4명이므로 E의 덩치는 5등이 된다. 위 경우에 3등과 4등은 존재하지 않는다. 여러분은 학생 N명의 몸무게와 키가 담긴 입력을 읽어서 각 사람의 덩치 등수를 계산하여 출력해야 한다.</p>\n",
    "    <li>입력</li>\n",
    "    <p>첫 줄에는 전체 사람의 수 N이 주어진다. 그리고 이어지는 N개의 줄에는 각 사람의 몸무게와 키를 나타내는 양의 정수 x와 y가 하나의 공백을 두고 각각 나타난다.</p>\n",
    "    <li>출력</li>\n",
    "    <p>여러분은 입력에 나열된 사람의 덩치 등수를 구해서 그 순서대로 첫 줄에 출력해야 한다. 단, 각 덩치 등수는 공백문자로 분리되어야 한다.</p>\n",
    "</ul>\n",
    "</div>"
   ]
  },
  {
   "cell_type": "code",
   "execution_count": 7,
   "id": "81ffdff4",
   "metadata": {
    "ExecuteTime": {
     "end_time": "2022-05-09T16:08:31.688421Z",
     "start_time": "2022-05-09T16:08:18.864606Z"
    }
   },
   "outputs": [
    {
     "name": "stdout",
     "output_type": "stream",
     "text": [
      "6\n",
      "8 9\n",
      "10 8\n",
      "40 3\n",
      "4 5\n",
      "2 54\n",
      "39 4\n",
      "<class 'int'>\n",
      "4 8 True\n",
      "5 9 True\n",
      "<class 'int'>\n",
      "4 10 True\n",
      "5 8 True\n",
      "1 1 1 3 1 1\n"
     ]
    }
   ],
   "source": [
    "N = int(input())\n",
    "size_list=[]\n",
    "for _ in range(N):\n",
    "    size_list.append(list(map(int, input().split())))\n",
    "\n",
    "rank_list = []\n",
    "for man in size_list:\n",
    "    count = 0\n",
    "    for other_man in size_list:\n",
    "        if (man[0] < other_man[0]) and (man[1] < other_man[1]): \n",
    "            count += 1 # 랭크의 경우 자기보다 큰 사람의 수 만큼 등수가 밀려난다.\n",
    "    rank_list.append(count + 1)\n",
    "\n",
    "print(*rank_list)"
   ]
  },
  {
   "cell_type": "markdown",
   "id": "b0380541",
   "metadata": {},
   "source": [
    "<div class=\"alert alert-block alert-info\">\n",
    "<b>10872번: 팩토리얼</b><br>\n",
    "<ul>\n",
    "    <li>문제</li>\n",
    "    <p>지민이는 자신의 저택에서 MN개의 단위 정사각형으로 나누어져 있는 M×N 크기의 보드를 찾았다. 어떤 정사각형은 검은색으로 칠해져 있고, 나머지는 흰색으로 칠해져 있다. 지민이는 이 보드를 잘라서 8×8 크기의 체스판으로 만들려고 한다.</p>\n",
    "    <p>체스판은 검은색과 흰색이 번갈아서 칠해져 있어야 한다. 구체적으로, 각 칸이 검은색과 흰색 중 하나로 색칠되어 있고, 변을 공유하는 두 개의 사각형은 다른 색으로 칠해져 있어야 한다. 따라서 이 정의를 따르면 체스판을 색칠하는 경우는 두 가지뿐이다. 하나는 맨 왼쪽 위 칸이 흰색인 경우, 하나는 검은색인 경우이다.</p>\n",
    "    <p>보드가 체스판처럼 칠해져 있다는 보장이 없어서, 지민이는 8×8 크기의 체스판으로 잘라낸 후에 몇 개의 정사각형을 다시 칠해야겠다고 생각했다. 당연히 8*8 크기는 아무데서나 골라도 된다. 지민이가 다시 칠해야 하는 정사각형의 최소 개수를 구하는 프로그램을 작성하시오.</p>\n",
    "    <li>입력</li>\n",
    "    <p>첫째 줄에 N과 M이 주어진다. N과 M은 8보다 크거나 같고, 50보다 작거나 같은 자연수이다. 둘째 줄부터 N개의 줄에는 보드의 각 행의 상태가 주어진다. B는 검은색이며, W는 흰색이다.</p>\n",
    "    <li>출력</li>\n",
    "    <p>첫째 줄에 지민이가 다시 칠해야 하는 정사각형 개수의 최솟값을 출력한다.</p>\n",
    "</ul>\n",
    "</div>"
   ]
  },
  {
   "cell_type": "code",
   "execution_count": 85,
   "id": "921164d7",
   "metadata": {
    "ExecuteTime": {
     "end_time": "2022-05-09T17:24:38.786827Z",
     "start_time": "2022-05-09T17:23:50.228399Z"
    },
    "scrolled": false
   },
   "outputs": [
    {
     "name": "stdout",
     "output_type": "stream",
     "text": [
      "10 13\n",
      "BBBBBBBBWBWBW\n",
      "BBBBBBBBBWBWB\n",
      "BBBBBBBBWBWBW\n",
      "BBBBBBBBBWBWB\n",
      "BBBBBBBBWBWBW\n",
      "BBBBBBBBBWBWB\n",
      "BBBBBBBBWBWBW\n",
      "BBBBBBBBBWBWB\n",
      "WWWWWWWWWWBWB\n",
      "WWWWWWWWWWBWB\n"
     ]
    }
   ],
   "source": [
    "N, M = list(map(int,sys.stdin.readline().split()))\n",
    "board = []\n",
    "for _ in range(N):\n",
    "    board += list(sys.stdin.readline().strip())\n",
    "\n",
    "\n",
    "def color_count(board):\n",
    "    another_board = board.copy()\n",
    "    count_list = []\n",
    "    if board[0] == 'B':\n",
    "        another_board[0] = 'W'\n",
    "    else:\n",
    "        another_board[0] = 'B'\n",
    "\n",
    "    count = 0\n",
    "    for i in range(len(board) - 1):\n",
    "        if (i + 1) % 8 == 0:\n",
    "            if board[i] != board[i + 1]:\n",
    "                if board[i] == 'B':\n",
    "                    board[i + 1] = 'B'\n",
    "                else:\n",
    "                    board[i + 1] = 'W'\n",
    "                count += 1\n",
    "        else:\n",
    "            if board[i] == board[i + 1]:\n",
    "                if board[i] == 'B':\n",
    "                    board[i + 1] = 'W'\n",
    "                else:\n",
    "                    board[i + 1] = 'B'\n",
    "                count += 1\n",
    "    count_list.append(count)\n",
    "\n",
    "    count = 1\n",
    "    for i in range(len(another_board) - 1):\n",
    "        if (i + 1) % 8 == 0:\n",
    "            if another_board[i] != another_board[i + 1]:\n",
    "                if another_board[i] == 'B':\n",
    "                    another_board[i + 1] = 'B'\n",
    "                else:\n",
    "                    another_board[i + 1] = 'W'\n",
    "                count += 1\n",
    "        else:\n",
    "            if another_board[i] == another_board[i + 1]:\n",
    "                if another_board[i] == 'B':\n",
    "                    another_board[i + 1] = 'W'\n",
    "                else:\n",
    "                    another_board[i + 1] = 'B'\n",
    "                count += 1\n",
    "\n",
    "    count_list.append(count)\n",
    "    return min(count_list)\n",
    "\n",
    "\n",
    "count_list = []\n",
    "for i in range(M - 7): # M이 13인 경우 처음부터 우측으로 6번 움직일 수 있다. (7 > 12, 12 - 7 + 1 = 6, M - 7)\n",
    "    for j in range(N - 7): # N이 10인 경우 처음부터 아래로 4번 움직일 수 있다.\n",
    "        new_board = []\n",
    "        for k in range(8): \n",
    "            new_board += board[M * (j + k) + i: M * (j + k) + i + 8] # 원래 보드는 13마다 행이 변한다. 그리고 그 행은 j + k, 열은 i마다 변함\n",
    "        count_list.append(color_count(new_board))\n",
    "print(min(count_list))"
   ]
  },
  {
   "cell_type": "markdown",
   "id": "11a14ad8",
   "metadata": {},
   "source": [
    "<div class=\"alert alert-block alert-info\">\n",
    "<b>1436번: 영화감독 숌</b><br>\n",
    "<ul>\n",
    "    <li>문제</li>\n",
    "    <p>666은 종말을 나타내는 숫자라고 한다. 따라서, 많은 블록버스터 영화에서는 666이 들어간 제목을 많이 사용한다. 영화감독 숌은 세상의 종말 이라는 시리즈 영화의 감독이다. 조지 루카스는 스타워즈를 만들 때, 스타워즈 1, 스타워즈 2, 스타워즈 3, 스타워즈 4, 스타워즈 5, 스타워즈 6과 같이 이름을 지었고, 피터 잭슨은 반지의 제왕을 만들 때, 반지의 제왕 1, 반지의 제왕 2, 반지의 제왕 3과 같이 영화 제목을 지었다..</p>\n",
    "    <p>하지만 숌은 자신이 조지 루카스와 피터 잭슨을 뛰어넘는다는 것을 보여주기 위해서 영화 제목을 좀 다르게 만들기로 했다.</p>\n",
    "    <p>종말의 숫자란 어떤 수에 6이 적어도 3개이상 연속으로 들어가는 수를 말한다. 제일 작은 종말의 숫자는 666이고, 그 다음으로 큰 수는 1666, 2666, 3666, .... 과 같다.</p>\n",
    "    <p>따라서, 숌은 첫 번째 영화의 제목은 세상의 종말 666, 두 번째 영화의 제목은 세상의 종말 1666 이렇게 이름을 지을 것이다. 일반화해서 생각하면, N번째 영화의 제목은 세상의 종말 (N번째로 작은 종말의 숫자) 와 같다.</p>\n",
    "    <p>숌이 만든 N번째 영화의 제목에 들어간 숫자를 출력하는 프로그램을 작성하시오. 숌은 이 시리즈를 항상 차례대로 만들고, 다른 영화는 만들지 않는다.</p>\n",
    "    <li>입력</li>\n",
    "    <p>첫째 줄에 숫자 N이 주어진다. N은 10,000보다 작거나 같은 자연수이다.</p>\n",
    "    <li>출력</li>\n",
    "    <p>첫째 줄에 N번째 영화의 제목에 들어간 수를 출력한다.</p>\n",
    "</ul>\n",
    "</div>"
   ]
  },
  {
   "cell_type": "code",
   "execution_count": 113,
   "id": "d98dc13f",
   "metadata": {
    "ExecuteTime": {
     "end_time": "2022-05-10T04:02:57.204159Z",
     "start_time": "2022-05-10T04:02:55.877974Z"
    }
   },
   "outputs": [
    {
     "name": "stdout",
     "output_type": "stream",
     "text": [
      "500\n",
      "166699\n"
     ]
    }
   ],
   "source": [
    "import re\n",
    "\n",
    "\n",
    "N = int(input())\n",
    "num_list = []\n",
    "i = 0\n",
    "p = re.compile('.*6{3}.*')\n",
    "while len(num_list) != N:\n",
    "    i += 1\n",
    "    if p.match(str(i)) is not None:\n",
    "        num_list.append(i)\n",
    "print(num_list[-1])\n",
    "    "
   ]
  },
  {
   "cell_type": "code",
   "execution_count": null,
   "id": "10138eaa",
   "metadata": {},
   "outputs": [],
   "source": []
  }
 ],
 "metadata": {
  "hide_input": false,
  "kernelspec": {
   "display_name": "Python 3",
   "language": "python",
   "name": "python3"
  },
  "language_info": {
   "codemirror_mode": {
    "name": "ipython",
    "version": 3
   },
   "file_extension": ".py",
   "mimetype": "text/x-python",
   "name": "python",
   "nbconvert_exporter": "python",
   "pygments_lexer": "ipython3",
   "version": "3.8.8"
  },
  "toc": {
   "base_numbering": 1,
   "nav_menu": {},
   "number_sections": true,
   "sideBar": true,
   "skip_h1_title": false,
   "title_cell": "Table of Contents",
   "title_sidebar": "Contents",
   "toc_cell": false,
   "toc_position": {},
   "toc_section_display": true,
   "toc_window_display": false
  },
  "varInspector": {
   "cols": {
    "lenName": 16,
    "lenType": 16,
    "lenVar": 40
   },
   "kernels_config": {
    "python": {
     "delete_cmd_postfix": "",
     "delete_cmd_prefix": "del ",
     "library": "var_list.py",
     "varRefreshCmd": "print(var_dic_list())"
    },
    "r": {
     "delete_cmd_postfix": ") ",
     "delete_cmd_prefix": "rm(",
     "library": "var_list.r",
     "varRefreshCmd": "cat(var_dic_list()) "
    }
   },
   "types_to_exclude": [
    "module",
    "function",
    "builtin_function_or_method",
    "instance",
    "_Feature"
   ],
   "window_display": false
  }
 },
 "nbformat": 4,
 "nbformat_minor": 5
}
