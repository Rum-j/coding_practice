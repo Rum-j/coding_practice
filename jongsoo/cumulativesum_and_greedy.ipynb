{
 "cells": [
  {
   "cell_type": "markdown",
   "id": "d1210c15",
   "metadata": {},
   "source": [
    "### 11659번: 구간 합 구하기 4\n",
    "<div class=\"alert alert-block alert-info\">\n",
    "<b>11659번: 구간 합 구하기 4</b><br>\n",
    "<ul>\n",
    "    <li>문제</li>\n",
    "    <p>수 N개가 주어졌을 때, i번째 수부터 j번째 수까지 합을 구하는 프로그램을 작성하시오.</p>\n",
    "    <li>입력</li>\n",
    "    <p>첫째 줄에 수의 개수 N과 합을 구해야 하는 횟수 M이 주어진다. 둘째 줄에는 N개의 수가 주어진다. 수는 1,000보다 작거나 같은 자연수이다. 셋째 줄부터 M개의 줄에는 합을 구해야 하는 구간 i와 j가 주어진다.</p>\n",
    "    <li>출력</li>\n",
    "    <p>총 M개의 줄에 입력으로 주어진 i번째 수부터 j번째 수까지 합을 출력한다.</p>\n",
    "    <li>제한</li>\n",
    "        <ul>\n",
    "            <li>1 ≤ N ≤ 100,000</li>\n",
    "            <li>1 ≤ M ≤ 100,000</li>\n",
    "            <li>1 ≤ i ≤ j ≤ N</li>\n",
    "        </ul>\n",
    "</ul>\n",
    "</div>"
   ]
  },
  {
   "cell_type": "code",
   "execution_count": 36,
   "id": "65a78c99",
   "metadata": {
    "ExecuteTime": {
     "end_time": "2022-06-06T15:46:33.211911Z",
     "start_time": "2022-06-06T15:46:23.392749Z"
    }
   },
   "outputs": [
    {
     "name": "stdout",
     "output_type": "stream",
     "text": [
      "5 3\n",
      "5 4 3 2 1\n",
      "1 3\n",
      "12\n",
      "2 4\n",
      "9\n",
      "5 5\n",
      "1\n"
     ]
    }
   ],
   "source": [
    "N, M = map(int, input().split())\n",
    "num_list = list(map(int, input().split()))\n",
    "cumsum_list = [0 for _ in range(N + 1)]\n",
    "\n",
    "\n",
    "for n in range(1, N+1):\n",
    "    cumsum_list[n] = cumsum_list[n-1] + num_list[n-1]\n",
    "    \n",
    "for _ in range(M):\n",
    "    i, j = map(int, input().split())\n",
    "    print(cumsum_list[j] - cumsum_list[i-1])"
   ]
  },
  {
   "cell_type": "code",
   "execution_count": 31,
   "id": "efee2a61",
   "metadata": {
    "ExecuteTime": {
     "end_time": "2022-06-06T15:32:52.951138Z",
     "start_time": "2022-06-06T15:32:52.934151Z"
    }
   },
   "outputs": [
    {
     "data": {
      "text/plain": [
       "{0: 5, 1: 9, 2: 12, 3: 14, 4: 15}"
      ]
     },
     "execution_count": 31,
     "metadata": {},
     "output_type": "execute_result"
    }
   ],
   "source": [
    "import sys\n",
    "input = sys.stdin.readline\n",
    "\n",
    "\n",
    "n, m  = map(int, input().split())\n",
    "\n",
    "sum_data = [0 for i in range(n+1)]\n",
    "\n",
    "for num, d in enumerate(list(map(int, input().split()))):\n",
    "    sum_data[num+1] = sum_data[num] + d\n",
    "\n",
    "for _ in range(m):\n",
    "    i, j = map(int, input().split())\n",
    "    print(sum_data[j] - sum_data[i-1])"
   ]
  },
  {
   "cell_type": "markdown",
   "id": "5c658f5b",
   "metadata": {},
   "source": [
    "### 11047번: 동전 0\n",
    "<div class=\"alert alert-block alert-info\">\n",
    "<b>11659번: 구간 합 구하기 4</b><br>\n",
    "<ul>\n",
    "    <li>문제</li>\n",
    "    <p>준규가 가지고 있는 동전은 총 N종류이고, 각각의 동전을 매우 많이 가지고 있다.</p>\n",
    "    <p>동전을 적절히 사용해서 그 가치의 합을 K로 만들려고 한다. 이때 필요한 동전 개수의 최솟값을 구하는 프로그램을 작성하시오.</p>\n",
    "    <li>입력</li>\n",
    "    <p>첫째 줄에 N과 K가 주어진다. (1 ≤ N ≤ 10, 1 ≤ K ≤ 100,000,000)</p>\n",
    "    <p>둘째 줄부터 N개의 줄에 동전의 가치 Ai가 오름차순으로 주어진다. (1 ≤ Ai ≤ 1,000,000, A1 = 1, i ≥ 2인 경우에 Ai는 Ai-1의 배수)</p>\n",
    "    <li>출력</li>\n",
    "    <p>첫째 줄에 K원을 만드는데 필요한 동전 개수의 최솟값을 출력한다.</p>\n",
    "</ul>\n",
    "</div>"
   ]
  },
  {
   "cell_type": "code",
   "execution_count": 37,
   "id": "ffb37f7b",
   "metadata": {
    "ExecuteTime": {
     "end_time": "2022-06-06T15:54:04.439230Z",
     "start_time": "2022-06-06T15:53:42.206292Z"
    }
   },
   "outputs": [
    {
     "name": "stdout",
     "output_type": "stream",
     "text": [
      "10 4790\n",
      "1\n",
      "5\n",
      "10\n",
      "50\n",
      "100\n",
      "500\n",
      "1000\n",
      "5000\n",
      "10000\n",
      "50000\n"
     ]
    }
   ],
   "source": [
    "N, K = map(int, input().split())\n",
    "coin_list = []\n",
    "for _ in range(N):\n",
    "    coin_list.append(int(input()))\n",
    "coin_list.reverse()"
   ]
  },
  {
   "cell_type": "code",
   "execution_count": 50,
   "id": "ae09abff",
   "metadata": {
    "ExecuteTime": {
     "end_time": "2022-06-06T15:57:02.593490Z",
     "start_time": "2022-06-06T15:57:02.581520Z"
    }
   },
   "outputs": [],
   "source": [
    "K = 4049\n",
    "ans = 0\n",
    "for coin in coin_list:\n",
    "    if coin <= K:\n",
    "        ans += K // coin\n",
    "        K %= coin"
   ]
  }
 ],
 "metadata": {
  "hide_input": false,
  "kernelspec": {
   "display_name": "Python 3",
   "language": "python",
   "name": "python3"
  },
  "language_info": {
   "codemirror_mode": {
    "name": "ipython",
    "version": 3
   },
   "file_extension": ".py",
   "mimetype": "text/x-python",
   "name": "python",
   "nbconvert_exporter": "python",
   "pygments_lexer": "ipython3",
   "version": "3.8.8"
  },
  "toc": {
   "base_numbering": 1,
   "nav_menu": {},
   "number_sections": true,
   "sideBar": true,
   "skip_h1_title": false,
   "title_cell": "Table of Contents",
   "title_sidebar": "Contents",
   "toc_cell": false,
   "toc_position": {},
   "toc_section_display": true,
   "toc_window_display": false
  },
  "varInspector": {
   "cols": {
    "lenName": 16,
    "lenType": 16,
    "lenVar": 40
   },
   "kernels_config": {
    "python": {
     "delete_cmd_postfix": "",
     "delete_cmd_prefix": "del ",
     "library": "var_list.py",
     "varRefreshCmd": "print(var_dic_list())"
    },
    "r": {
     "delete_cmd_postfix": ") ",
     "delete_cmd_prefix": "rm(",
     "library": "var_list.r",
     "varRefreshCmd": "cat(var_dic_list()) "
    }
   },
   "types_to_exclude": [
    "module",
    "function",
    "builtin_function_or_method",
    "instance",
    "_Feature"
   ],
   "window_display": false
  }
 },
 "nbformat": 4,
 "nbformat_minor": 5
}
