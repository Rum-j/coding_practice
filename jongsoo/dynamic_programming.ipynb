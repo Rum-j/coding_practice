{
 "cells": [
  {
   "cell_type": "code",
   "execution_count": 24,
   "metadata": {
    "executionInfo": {
     "elapsed": 289,
     "status": "ok",
     "timestamp": 1653746574415,
     "user": {
      "displayName": "하종수",
      "userId": "11755197348695055229"
     },
     "user_tz": -540
    },
    "id": "PwZA1z8i0sYX"
   },
   "outputs": [],
   "source": [
    "def fibonacci(n):\n",
    "    if n < 2:\n",
    "        return dp[n]\n",
    "    else:\n",
    "        if len(dp) > n:\n",
    "            return dp[n]\n",
    "        else:\n",
    "            dp.append(fibonacci(n-2) + fibonacci(n-1))      \n",
    "            return dp[n]\n",
    "\n",
    "\n",
    "N = int(input())\n",
    "num_list = []\n",
    "for _ in range(N):\n",
    "    num_list.append(int(input()))\n",
    "for num in num_list:\n",
    "    dp = [0, 1]\n",
    "    fibonacci(num)\n",
    "    print(dp[num-1], dp[num])"
   ]
  },
  {
   "cell_type": "code",
   "execution_count": 3,
   "metadata": {
    "ExecuteTime": {
     "end_time": "2022-05-31T06:38:23.890613Z",
     "start_time": "2022-05-31T06:38:23.884628Z"
    }
   },
   "outputs": [],
   "source": [
    "def w(a, b, c):\n",
    "    if a <= 0 or b <= 0 or c <= 0:\n",
    "        return 1\n",
    "\n",
    "    elif a > 20 or b > 20 or c > 20:\n",
    "        return w(20, 20, 20)\n",
    "            \n",
    "\n",
    "    elif a < b and b < c:\n",
    "        return w(a, b, c-1) + w(a, b-1, c-1) - w(a, b-1, c)\n",
    "\n",
    "    else:\n",
    "        return w(a-1, b, c) + w(a-1, b-1, c) + w(a-1, b, c-1) - w(a-1, b-1, c-1)"
   ]
  },
  {
   "cell_type": "code",
   "execution_count": 19,
   "metadata": {
    "ExecuteTime": {
     "end_time": "2022-05-31T06:46:04.028885Z",
     "start_time": "2022-05-31T06:46:02.835966Z"
    }
   },
   "outputs": [
    {
     "name": "stdout",
     "output_type": "stream",
     "text": [
      "Wall time: 1.19 s\n"
     ]
    },
    {
     "data": {
      "text/plain": [
       "256"
      ]
     },
     "execution_count": 19,
     "metadata": {},
     "output_type": "execute_result"
    }
   ],
   "source": [
    "%%time\n",
    "w(8, 8, 8)"
   ]
  },
  {
   "cell_type": "code",
   "execution_count": 18,
   "metadata": {
    "ExecuteTime": {
     "end_time": "2022-05-31T06:45:52.363983Z",
     "start_time": "2022-05-31T06:45:49.696845Z"
    }
   },
   "outputs": [
    {
     "name": "stdout",
     "output_type": "stream",
     "text": [
      "Wall time: 2.66 s\n"
     ]
    },
    {
     "data": {
      "text/plain": [
       "513"
      ]
     },
     "execution_count": 18,
     "metadata": {},
     "output_type": "execute_result"
    }
   ],
   "source": [
    "%%time\n",
    "w(9, 8, 8)"
   ]
  },
  {
   "cell_type": "code",
   "execution_count": 15,
   "metadata": {
    "ExecuteTime": {
     "end_time": "2022-05-31T06:43:18.705246Z",
     "start_time": "2022-05-31T06:43:06.161762Z"
    }
   },
   "outputs": [
    {
     "name": "stdout",
     "output_type": "stream",
     "text": [
      "Wall time: 12.5 s\n"
     ]
    },
    {
     "data": {
      "text/plain": [
       "512"
      ]
     },
     "execution_count": 15,
     "metadata": {},
     "output_type": "execute_result"
    }
   ],
   "source": [
    "%%time\n",
    "w(9, 9, 9)"
   ]
  },
  {
   "cell_type": "code",
   "execution_count": 16,
   "metadata": {
    "ExecuteTime": {
     "end_time": "2022-05-31T06:44:53.350285Z",
     "start_time": "2022-05-31T06:44:26.390266Z"
    }
   },
   "outputs": [
    {
     "name": "stdout",
     "output_type": "stream",
     "text": [
      "Wall time: 27 s\n"
     ]
    },
    {
     "data": {
      "text/plain": [
       "1023"
      ]
     },
     "execution_count": 16,
     "metadata": {},
     "output_type": "execute_result"
    }
   ],
   "source": [
    "%%time\n",
    "w(10, 9, 9)"
   ]
  },
  {
   "cell_type": "code",
   "execution_count": 17,
   "metadata": {
    "ExecuteTime": {
     "end_time": "2022-05-31T06:45:23.423004Z",
     "start_time": "2022-05-31T06:44:53.402146Z"
    }
   },
   "outputs": [
    {
     "name": "stdout",
     "output_type": "stream",
     "text": [
      "Wall time: 30 s\n"
     ]
    },
    {
     "data": {
      "text/plain": [
       "1024"
      ]
     },
     "execution_count": 17,
     "metadata": {},
     "output_type": "execute_result"
    }
   ],
   "source": [
    "%%time\n",
    "w(10, 10, 9)"
   ]
  },
  {
   "cell_type": "code",
   "execution_count": 20,
   "metadata": {
    "ExecuteTime": {
     "end_time": "2022-05-31T06:48:40.876278Z",
     "start_time": "2022-05-31T06:48:40.864794Z"
    },
    "executionInfo": {
     "elapsed": 442,
     "status": "ok",
     "timestamp": 1653748538414,
     "user": {
      "displayName": "하종수",
      "userId": "11755197348695055229"
     },
     "user_tz": -540
    },
    "id": "SR9F8-vT_4KA"
   },
   "outputs": [],
   "source": [
    "def w(a, b, c):\n",
    "    if a <= 0 or b <= 0 or c <= 0:\n",
    "        return 1\n",
    "\n",
    "    elif a > 20 or b > 20 or c > 20:\n",
    "        if dp[20][20][20] != 1:\n",
    "            return dp[20][20][20]\n",
    "        else:\n",
    "            return w(20, 20, 20)\n",
    "            \n",
    "\n",
    "    elif a < b and b < c:\n",
    "        if dp[a][b][c] != 1:\n",
    "            return dp[a][b][c]\n",
    "        else:        \n",
    "            dp[a][b][c] = w(a, b, c-1) + w(a, b-1, c-1) - w(a, b-1, c)\n",
    "            return dp[a][b][c]\n",
    "\n",
    "    else:\n",
    "        if dp[a][b][c] != 1:\n",
    "            return dp[a][b][c]\n",
    "        else:\n",
    "            dp[a][b][c] = w(a-1, b, c) + w(a-1, b-1, c) + w(a-1, b, c-1) - w(a-1, b-1, c-1)\n",
    "            return dp[a][b][c]"
   ]
  },
  {
   "cell_type": "code",
   "execution_count": 24,
   "metadata": {
    "ExecuteTime": {
     "end_time": "2022-05-31T07:10:59.670845Z",
     "start_time": "2022-05-31T07:10:51.478617Z"
    }
   },
   "outputs": [
    {
     "name": "stdout",
     "output_type": "stream",
     "text": [
      "10 10 10\n",
      "w(10, 10, 10) = 1024\n",
      "-1 -1 -1\n"
     ]
    }
   ],
   "source": [
    "dp = [[[1 for _ in range(15)] for _ in range(15)] for _ in range(15)] # 50x50x50 list 초기화\n",
    "while True:\n",
    "    a, b, c = list(map(int, input().split()))\n",
    "    if a == -1 and b == -1 and c == -1:\n",
    "        break\n",
    "    print(f'w({a}, {b}, {c}) = {w(a, b, c)}')"
   ]
  },
  {
   "cell_type": "code",
   "execution_count": 368,
   "metadata": {
    "ExecuteTime": {
     "end_time": "2022-05-31T04:54:06.303872Z",
     "start_time": "2022-05-31T04:54:06.284875Z"
    }
   },
   "outputs": [],
   "source": [
    "a, b, c = 10, 4, 6\n",
    "dp = [[[1 for _ in range(c+1)] for _ in range(b+1)] for _ in range(a+1)]"
   ]
  },
  {
   "cell_type": "code",
   "execution_count": 369,
   "metadata": {
    "ExecuteTime": {
     "end_time": "2022-05-31T04:54:15.875964Z",
     "start_time": "2022-05-31T04:54:15.858012Z"
    }
   },
   "outputs": [
    {
     "data": {
      "text/plain": [
       "523"
      ]
     },
     "execution_count": 369,
     "metadata": {},
     "output_type": "execute_result"
    }
   ],
   "source": [
    "w(a, b, c)"
   ]
  },
  {
   "cell_type": "code",
   "execution_count": 38,
   "metadata": {
    "ExecuteTime": {
     "end_time": "2022-05-30T11:51:21.887722Z",
     "start_time": "2022-05-30T11:51:21.869769Z"
    },
    "id": "ad_Cg34vT6FN"
   },
   "outputs": [],
   "source": [
    "# 파도반\n",
    "def padovan(k):\n",
    "\n",
    "    n = k - 1\n",
    "    if n < 8:\n",
    "        return dp[n]\n",
    "    else:\n",
    "        if len(dp) >= k:\n",
    "            return dp[n]\n",
    "        else:\n",
    "            dp.append(padovan(k-1) + padovan(k-5))\n",
    "            print(dp)\n",
    "            return dp[n]\n",
    "\n",
    "\n",
    "N = int(input())\n",
    "num_list = []\n",
    "for _ in range(N):\n",
    "    num_list.append(int(input()))\n",
    "dp = [1, 1, 1, 2, 2, 3, 4, 5]\n",
    "for num in num_list:\n",
    "    print(padovan(num))"
   ]
  },
  {
   "cell_type": "code",
   "execution_count": 26,
   "metadata": {
    "ExecuteTime": {
     "end_time": "2022-05-31T07:15:57.936865Z",
     "start_time": "2022-05-31T07:15:38.465798Z"
    },
    "colab": {
     "base_uri": "https://localhost:8080/"
    },
    "executionInfo": {
     "elapsed": 16983,
     "status": "ok",
     "timestamp": 1653752250075,
     "user": {
      "displayName": "하종수",
      "userId": "11755197348695055229"
     },
     "user_tz": -540
    },
    "id": "JOHmBYXkGD5F",
    "outputId": "1677b8f0-cbe7-46d6-ea07-fae8c83b2b08"
   },
   "outputs": [
    {
     "name": "stdout",
     "output_type": "stream",
     "text": [
      "5\n",
      "7\n",
      "3 8\n",
      "8 1 0\n",
      "2 7 4 4\n",
      "4 5 2 6 5\n"
     ]
    },
    {
     "data": {
      "text/plain": [
       "[[7], [3, 8], [8, 1, 0], [2, 7, 4, 4], [4, 5, 2, 6, 5]]"
      ]
     },
     "execution_count": 26,
     "metadata": {},
     "output_type": "execute_result"
    }
   ],
   "source": [
    "# 정수 삼각형\n",
    "N = int(input())\n",
    "triangle = []\n",
    "for _ in range(N):\n",
    "  triangle.append(list(map(int, input().split())))\n",
    "\n",
    "triangle\n"
   ]
  },
  {
   "cell_type": "code",
   "execution_count": 27,
   "metadata": {
    "ExecuteTime": {
     "end_time": "2022-05-31T07:16:08.250415Z",
     "start_time": "2022-05-31T07:16:08.242439Z"
    }
   },
   "outputs": [
    {
     "name": "stdout",
     "output_type": "stream",
     "text": [
      "30\n"
     ]
    }
   ],
   "source": [
    "for i in range(1, N):\n",
    "  for j, num in enumerate(triangle[i]):\n",
    "    if j == 0:\n",
    "      triangle[i][j] += triangle[i-1][0]\n",
    "    elif j == len(triangle[i]) - 1:\n",
    "      triangle[i][j] += triangle[i-1][-1]\n",
    "    else:\n",
    "      triangle[i][j] = max(triangle[i][j] + triangle[i-1][j-1] , triangle[i][j] + triangle[i-1][j])\n",
    "print(max(triangle[-1]))"
   ]
  },
  {
   "cell_type": "code",
   "execution_count": 28,
   "metadata": {
    "ExecuteTime": {
     "end_time": "2022-05-31T07:16:15.895403Z",
     "start_time": "2022-05-31T07:16:15.890415Z"
    }
   },
   "outputs": [
    {
     "data": {
      "text/plain": [
       "[[7], [10, 15], [18, 16, 15], [20, 25, 20, 19], [24, 30, 27, 26, 24]]"
      ]
     },
     "execution_count": 28,
     "metadata": {},
     "output_type": "execute_result"
    }
   ],
   "source": [
    "triangle"
   ]
  },
  {
   "cell_type": "code",
   "execution_count": 205,
   "metadata": {
    "ExecuteTime": {
     "end_time": "2022-05-31T02:16:05.972540Z",
     "start_time": "2022-05-31T02:16:04.712099Z"
    }
   },
   "outputs": [
    {
     "name": "stdout",
     "output_type": "stream",
     "text": [
      "3\n",
      "1\n"
     ]
    }
   ],
   "source": [
    "# 1로 만들기\n",
    "N = int(input())\n",
    "dp = [0, 0, 1, 1]\n",
    "for n in range(4, N+1):\n",
    "    min_list=[dp[n-1]]\n",
    "    if n % 2 == 0:\n",
    "        min_list.append(dp[n // 2])\n",
    "    if n % 3 == 0:\n",
    "        min_list.append(dp[n // 3])\n",
    "    dp.append(1 + min(min_list))\n",
    "print(dp[N])\n",
    "        "
   ]
  },
  {
   "cell_type": "code",
   "execution_count": null,
   "metadata": {},
   "outputs": [],
   "source": [
    "# 쉬운 계단수\n",
    "dp = [[0 if i == 0 else 1 for i in range(10)]]\n",
    "N = int(input())\n",
    "for n in range(N-1):\n",
    "    for i in range(10):\n",
    "        if i == 0:\n",
    "            dp.append([dp[n][1]])\n",
    "        elif i < 9:\n",
    "            dp[n+1].append(dp[n][i-1] + dp[n][i+1])\n",
    "        else:\n",
    "            dp[n+1].append(dp[n][8])\n",
    "print(sum(dp[-1]) % 1000000000)"
   ]
  },
  {
   "cell_type": "code",
   "execution_count": 63,
   "metadata": {
    "ExecuteTime": {
     "end_time": "2022-05-30T12:24:38.495959Z",
     "start_time": "2022-05-30T12:24:24.969871Z"
    }
   },
   "outputs": [
    {
     "name": "stdout",
     "output_type": "stream",
     "text": [
      "10\n",
      "0\n",
      "0\n",
      "10\n",
      "0\n",
      "5\n",
      "10\n",
      "0\n",
      "0\n",
      "1\n",
      "10\n"
     ]
    }
   ],
   "source": [
    "# 포도주 시식\n",
    "N = int(input())\n",
    "num_list = []\n",
    "for _ in range(N):\n",
    "    num_list.append(int(input()))\n",
    "\n",
    "dp = [[0, 0, 0]]\n",
    "for n in range(1, N+1):\n",
    "    if n % 3 == 1:\n",
    "        dp.append([dp[n-1][0] + num_list[n-1], dp[n-1][1], dp[n-1][2] + num_list[n-1]])\n",
    "    elif n % 3 == 2:\n",
    "        dp.append([dp[n-1][0] , dp[n-1][1] + num_list[n-1], dp[n-1][2] + num_list[n-1]])\n",
    "    else:\n",
    "        dp.append([dp[n-1][0] + num_list[n-1], dp[n-1][1] + num_list[n-1], dp[n-1][2]])"
   ]
  },
  {
   "cell_type": "code",
   "execution_count": 98,
   "metadata": {
    "ExecuteTime": {
     "end_time": "2022-05-30T14:51:01.677122Z",
     "start_time": "2022-05-30T14:50:59.572132Z"
    }
   },
   "outputs": [
    {
     "name": "stdout",
     "output_type": "stream",
     "text": [
      "2\n",
      "17\n"
     ]
    }
   ],
   "source": [
    "# 가장 긴 증가하는 부분 수열\n",
    "dp = [[0 if i == 0 else 1 for i in range(10)]]\n",
    "N = int(input())\n",
    "for n in range(N-1):\n",
    "    for i in range(10):\n",
    "        if i == 0:\n",
    "            dp.append([dp[n][1]])\n",
    "        elif i < 9:\n",
    "            dp[n+1].append(dp[n][i-1] + dp[n][i+1])\n",
    "        else:\n",
    "            dp[n+1].append(dp[n][8])\n",
    "print(sum(dp[-1]) % 1000000000)"
   ]
  },
  {
   "cell_type": "code",
   "execution_count": null,
   "metadata": {},
   "outputs": [],
   "source": [
    "N = int(input())\n",
    "num_list = list(map(int, input().split()))\n",
    "dp = [1] * N\n",
    "for n in range(N):\n",
    "    for i in range(n):\n",
    "        if num_list[n] > num_list[i]:\n",
    "            dp[n] = max(dp[n], dp[i]+1)"
   ]
  },
  {
   "cell_type": "code",
   "execution_count": 190,
   "metadata": {
    "ExecuteTime": {
     "end_time": "2022-05-31T02:03:00.558902Z",
     "start_time": "2022-05-31T02:02:59.080892Z"
    }
   },
   "outputs": [
    {
     "name": "stdout",
     "output_type": "stream",
     "text": [
      "10\n",
      "1 5 2 1 4 3 4 5 2 1\n",
      "7\n"
     ]
    }
   ],
   "source": [
    "# 가장 긴 바이토닉 부분 수열\n",
    "N = int(input())\n",
    "num_list = list(map(int, input().split()))\n",
    "dp = [1] * N\n",
    "for n in range(N):\n",
    "    for i in range(n):\n",
    "        if num_list[n] > num_list[i]:\n",
    "            dp[n] = max(dp[n], dp[i]+1)\n",
    "num_list_rev = num_list.copy()\n",
    "num_list_rev.reverse()\n",
    "dp_rev = [1] * N\n",
    "for n in range(N):\n",
    "    for i in range(n):\n",
    "        if num_list_rev[n] > num_list_rev[i]:\n",
    "            dp_rev[n] = max(dp_rev[n], dp_rev[i]+1)\n",
    "dp_rev.reverse()\n",
    "\n",
    "ans = 0\n",
    "for i in range(len(dp)):\n",
    "    ans = max(ans, dp[i] + dp_rev[i]) \n",
    "print(ans - 1)"
   ]
  },
  {
   "cell_type": "code",
   "execution_count": 243,
   "metadata": {
    "ExecuteTime": {
     "end_time": "2022-05-31T02:47:13.140313Z",
     "start_time": "2022-05-31T02:47:03.421541Z"
    }
   },
   "outputs": [
    {
     "name": "stdout",
     "output_type": "stream",
     "text": [
      "5 10\n",
      "3 8\n",
      "4 7\n",
      "1 9\n",
      "5 6\n",
      "2 1\n",
      "17 [8, 15, 17, 14, 9, 7, 16, 13, 8, 9, 15, 10, 6, 7, 1]\n"
     ]
    }
   ],
   "source": [
    "# 평범한 배낭\n",
    "wk = []\n",
    "N, K= list(map(int, input().split()))\n",
    "for _ in range(N):\n",
    "    wk.append(list(map(int, input().split())))"
   ]
  },
  {
   "cell_type": "code",
   "execution_count": 244,
   "metadata": {
    "ExecuteTime": {
     "end_time": "2022-05-31T02:51:02.926660Z",
     "start_time": "2022-05-31T02:51:02.909706Z"
    }
   },
   "outputs": [
    {
     "data": {
      "text/plain": [
       "[[3, 8], [4, 7], [1, 9], [5, 6], [2, 1]]"
      ]
     },
     "execution_count": 244,
     "metadata": {},
     "output_type": "execute_result"
    }
   ],
   "source": [
    "wk"
   ]
  },
  {
   "cell_type": "code",
   "execution_count": 246,
   "metadata": {
    "ExecuteTime": {
     "end_time": "2022-05-31T04:05:30.478021Z",
     "start_time": "2022-05-31T02:57:23.749012Z"
    }
   },
   "outputs": [
    {
     "name": "stdout",
     "output_type": "stream",
     "text": [
      "8 8\n",
      "1 8\n",
      "3 9\n",
      "2 2\n",
      "4 1\n",
      "6 4\n",
      "10 10 \n",
      "\n",
      "\n"
     ]
    }
   ],
   "source": [
    "wk = []\n",
    "N, K= list(map(int, input().split()))\n",
    "for _ in range(N):\n",
    "    wk.append(list(map(int, input().split())))"
   ]
  },
  {
   "cell_type": "code",
   "execution_count": null,
   "metadata": {},
   "outputs": [],
   "source": []
  },
  {
   "cell_type": "code",
   "execution_count": null,
   "metadata": {},
   "outputs": [],
   "source": []
  }
 ],
 "metadata": {
  "colab": {
   "authorship_tag": "ABX9TyMmUA69FuvH4XD4ct++d3fq",
   "collapsed_sections": [],
   "name": "dynamic_programming.ipynb",
   "provenance": []
  },
  "hide_input": false,
  "kernelspec": {
   "display_name": "Python 3",
   "language": "python",
   "name": "python3"
  },
  "language_info": {
   "codemirror_mode": {
    "name": "ipython",
    "version": 3
   },
   "file_extension": ".py",
   "mimetype": "text/x-python",
   "name": "python",
   "nbconvert_exporter": "python",
   "pygments_lexer": "ipython3",
   "version": "3.8.8"
  },
  "toc": {
   "base_numbering": 1,
   "nav_menu": {},
   "number_sections": true,
   "sideBar": true,
   "skip_h1_title": false,
   "title_cell": "Table of Contents",
   "title_sidebar": "Contents",
   "toc_cell": false,
   "toc_position": {},
   "toc_section_display": true,
   "toc_window_display": false
  },
  "varInspector": {
   "cols": {
    "lenName": 16,
    "lenType": 16,
    "lenVar": 40
   },
   "kernels_config": {
    "python": {
     "delete_cmd_postfix": "",
     "delete_cmd_prefix": "del ",
     "library": "var_list.py",
     "varRefreshCmd": "print(var_dic_list())"
    },
    "r": {
     "delete_cmd_postfix": ") ",
     "delete_cmd_prefix": "rm(",
     "library": "var_list.r",
     "varRefreshCmd": "cat(var_dic_list()) "
    }
   },
   "types_to_exclude": [
    "module",
    "function",
    "builtin_function_or_method",
    "instance",
    "_Feature"
   ],
   "window_display": false
  }
 },
 "nbformat": 4,
 "nbformat_minor": 1
}
