{
 "cells": [
  {
   "cell_type": "markdown",
   "id": "06f183e3",
   "metadata": {},
   "source": [
    "## 수학 2\n",
    "<div class=\"alert alert-block alert-info\">\n",
    "<b>1978번: 소수 찾기</b>\n",
    "\n",
    "- 문제\n",
    "    \n",
    "    주어진 수 N개 중에서 소수가 몇 개인지 찾아서 출력하는 프로그램을 작성하시오.\n",
    "- 입력\n",
    "    \n",
    "    첫 줄에 수의 개수 N이 주어진다. N은 100이하이다. 다음으로 N개의 수가 주어지는데 수는 1,000 이하의 자연수이다.\n",
    "- 출력\n",
    "    \n",
    "    주어진 수들 중 소수의 개수를 출력한다.\n",
    "</div>"
   ]
  },
  {
   "cell_type": "code",
   "execution_count": 23,
   "id": "5e754de4",
   "metadata": {
    "ExecuteTime": {
     "end_time": "2022-05-01T12:51:22.114655Z",
     "start_time": "2022-05-01T12:51:18.094781Z"
    },
    "code_folding": [],
    "hide_input": false,
    "scrolled": true
   },
   "outputs": [
    {
     "name": "stdout",
     "output_type": "stream",
     "text": [
      "4\n",
      "1 3 5 7\n",
      "3\n"
     ]
    }
   ],
   "source": [
    "N = input()\n",
    "nums = list(map(int, input().split()))\n",
    "ans = 0\n",
    "seive = [[i + 2, True]\n",
    "         for i in range(max(nums) - 1)]  # 에라토스테네스의 체를 위한 이중배열, 1은 소수가 아니다.\n",
    "\n",
    "for i in range(len(seive)):              # 에라토스테네스의 체를 이용해 소수를 걸러내는 과정\n",
    "    if seive[i][1]:                      \n",
    "        j = i + seive[i][0]\n",
    "        while j <= len(seive) - 1:\n",
    "            seive[j][1] = False          # 소수의 배수들을 지워나가는 과정\n",
    "            j += seive[i][0]\n",
    "\n",
    "for num in nums:                         # 입력한 수가 에라토스테네스의 체에 있고 그게 소수라면 count\n",
    "    for item in seive:\n",
    "        if item[0] == num and item[1] == True:\n",
    "            ans += 1\n",
    "print(ans)"
   ]
  },
  {
   "cell_type": "markdown",
   "id": "89e09169",
   "metadata": {},
   "source": [
    "<div class=\"alert alert-block alert-info\">\n",
    "    \n",
    "<b>2581번: 소수</b>\n",
    "    \n",
    "- 문제\n",
    "    \n",
    "    자연수 M과 N이 주어질 때 M이상 N이하의 자연수 중 소수인 것을 모두 골라 이들 소수의 합과 최솟값을 찾는 프로그램을 작성하시오.\n",
    "    \n",
    "    예를 들어 M=60, N=100인 경우 60이상 100이하의 자연수 중 소수는 61, 67, 71, 73, 79, 83, 89, 97 총 8개가 있으므로, 이들 소수의 합은 620이고, 최솟값은 61이 된다.\n",
    "\n",
    "- 입력\n",
    "    \n",
    "    입력의 첫째 줄에 M이, 둘째 줄에 N이 주어진다.\n",
    "\n",
    "    M과 N은 10,000이하의 자연수이며, M은 N보다 작거나 같다.\n",
    "\n",
    "- 출력\n",
    "    \n",
    "    M이상 N이하의 자연수 중 소수인 것을 모두 찾아 첫째 줄에 그 합을, 둘째 줄에 그 중 최솟값을 출력한다. \n",
    "\n",
    "    단, M이상 N이하의 자연수 중 소수가 없을 경우는 첫째 줄에 -1을 출력한다.\n",
    "</div>"
   ]
  },
  {
   "cell_type": "code",
   "execution_count": 26,
   "id": "48eebc7c",
   "metadata": {
    "ExecuteTime": {
     "end_time": "2022-05-01T13:02:51.976815Z",
     "start_time": "2022-05-01T13:02:49.418636Z"
    },
    "scrolled": true
   },
   "outputs": [
    {
     "name": "stdout",
     "output_type": "stream",
     "text": [
      "64\n",
      "65\n",
      "-1\n"
     ]
    }
   ],
   "source": [
    "M = int(input())\n",
    "N = int(input())\n",
    "ans = []\n",
    "seive = [[i + 2, True]\n",
    "         for i in range(N - 1)]         # 에라토스테네스의 체를 위한 이중배열, 1은 소수가 아니다.\n",
    "\n",
    "for i in range(len(seive)):             # 에라토스테네스의 체를 이용해 소수를 걸러내는 과정\n",
    "    if seive[i][1]:                      \n",
    "        j = i + seive[i][0]\n",
    "        while j <= len(seive) - 1:\n",
    "            seive[j][1] = False         # 소수의 배수들을 지워나가는 과정\n",
    "            j += seive[i][0]\n",
    "\n",
    "for item in seive:                      # 최소값 이상의 수들 중에서 소수인 것들을 정답리스트에 추가\n",
    "    if item[0] >= M and item[1] == True: \n",
    "        ans.append(item[0])\n",
    "        \n",
    "if len(ans) == 0:\n",
    "    print(-1)\n",
    "else:\n",
    "    print(sum(ans), ans[0], sep='\\n')"
   ]
  },
  {
   "cell_type": "markdown",
   "id": "50b5e6d9",
   "metadata": {},
   "source": [
    "<div class=\"alert alert-block alert-info\">\n",
    "<b>11653번: 소인수분해</b>\n",
    "    \n",
    "- 문제\n",
    "\n",
    "    정수 N이 주어졌을 때, 소인수분해하는 프로그램을 작성하시오.\n",
    "\n",
    "- 입력\n",
    "\n",
    "    첫째 줄에 정수 N (1 ≤ N ≤ 10,000,000)이 주어진다.\n",
    "\n",
    "- 출력\n",
    "\n",
    "    N의 소인수분해 결과를 한 줄에 하나씩 오름차순으로 출력한다. N이 1인 경우 아무것도 출력하지 않는다.\n",
    "</div>"
   ]
  },
  {
   "cell_type": "code",
   "execution_count": 51,
   "id": "ca7ef044",
   "metadata": {
    "ExecuteTime": {
     "end_time": "2022-05-01T13:26:41.963863Z",
     "start_time": "2022-05-01T13:26:37.097026Z"
    },
    "scrolled": true
   },
   "outputs": [
    {
     "name": "stdout",
     "output_type": "stream",
     "text": [
      "9991\n",
      "97\n",
      "103\n"
     ]
    }
   ],
   "source": [
    "N = int(input())\n",
    "i = 2\n",
    "while N != 1:\n",
    "    if N % i == 0:  # 소수로 더 이상 나누어 떨어지지 않을 때 까지 나눈다면 그 소수의 배수로 나누어도 떨어지지 않는다.\n",
    "        N = N // i  \n",
    "        print(i)\n",
    "    else:\n",
    "        i += 1"
   ]
  },
  {
   "cell_type": "markdown",
   "id": "016740ff",
   "metadata": {},
   "source": [
    "<div class=\"alert alert-block alert-info\">\n",
    "<b>1929번: 소수구하기</b>\n",
    "\n",
    "- 문제\n",
    "    \n",
    "    M이상 N이하의 소수를 모두 출력하는 프로그램을 작성하시오.\n",
    "\n",
    "- 입력\n",
    "    \n",
    "    첫째 줄에 자연수 M과 N이 빈 칸을 사이에 두고 주어진다. (1 ≤ M ≤ N ≤ 1,000,000) M이상 N이하의 소수가 하나 이상 있는 입력만 주어진다.\n",
    "\n",
    "- 출력\n",
    "\n",
    "    한 줄에 하나씩, 증가하는 순서대로 소수를 출력한다.\n",
    "</div>"
   ]
  },
  {
   "cell_type": "code",
   "execution_count": 75,
   "id": "d18ea70c",
   "metadata": {
    "ExecuteTime": {
     "end_time": "2022-05-01T14:23:06.288402Z",
     "start_time": "2022-05-01T14:23:01.004763Z"
    }
   },
   "outputs": [
    {
     "name": "stdout",
     "output_type": "stream",
     "text": [
      "3 16\n",
      "3\n",
      "5\n",
      "7\n",
      "11\n",
      "13\n"
     ]
    }
   ],
   "source": [
    "M, N = map(int, input().split())\n",
    "nums = [num for num in range(1, N + 1)]\n",
    "ans = []\n",
    "for i in range(1, len(nums)):\n",
    "    if bool(nums[i]):\n",
    "        j = i + nums[i]\n",
    "        while j < len(nums):\n",
    "            nums[j] = False\n",
    "            j += nums[i]\n",
    "        if nums[i] >= M:\n",
    "            ans.append(nums[i])\n",
    "for num in ans:\n",
    "    print(num)"
   ]
  },
  {
   "cell_type": "markdown",
   "id": "e2c11df6",
   "metadata": {},
   "source": [
    "<div class=\"alert alert-block alert-info\">\n",
    "<b>4948번: 베르트랑 공준</b>\n",
    "\n",
    "- 문제\n",
    "\n",
    "    베르트랑 공준은 임의의 자연수 n에 대하여, n보다 크고, 2n보다 작거나 같은 소수는 적어도 하나 존재한다는 내용을 담고 있다.\n",
    "\n",
    "    이 명제는 조제프 베르트랑이 1845년에 추측했고, 파프누티 체비쇼프가 1850년에 증명했다.\n",
    "\n",
    "    예를 들어, 10보다 크고, 20보다 작거나 같은 소수는 4개가 있다. (11, 13, 17, 19) 또, 14보다 크고, 28보다 작거나 같은 소수는 3개가 있다. (17,19, 23)\n",
    "\n",
    "    자연수 n이 주어졌을 때, n보다 크고, 2n보다 작거나 같은 소수의 개수를 구하는 프로그램을 작성하시오. \n",
    "\n",
    "- 입력\n",
    "\n",
    "    입력은 여러 개의 테스트 케이스로 이루어져 있다. 각 케이스는 n을 포함하는 한 줄로 이루어져 있다.\n",
    "\n",
    "    입력의 마지막에는 0이 주어진다.\n",
    "\n",
    "- 출력\n",
    "\n",
    "    각 테스트 케이스에 대해서, n보다 크고, 2n보다 작거나 같은 소수의 개수를 출력한다.\n",
    "</div>"
   ]
  },
  {
   "cell_type": "code",
   "execution_count": 74,
   "id": "5045bc24",
   "metadata": {
    "ExecuteTime": {
     "end_time": "2022-05-01T14:13:02.969758Z",
     "start_time": "2022-05-01T14:12:54.291543Z"
    },
    "scrolled": true
   },
   "outputs": [
    {
     "name": "stdout",
     "output_type": "stream",
     "text": [
      "1\n",
      "10\n",
      "13\n",
      "100\n",
      "1000\n",
      "10000\n",
      "100000\n",
      "0\n",
      "1\n",
      "4\n",
      "3\n",
      "21\n",
      "135\n",
      "1033\n",
      "8392\n"
     ]
    }
   ],
   "source": [
    "nums = [1]\n",
    "while nums[-1] != 0:\n",
    "    x = int(input())\n",
    "    nums.append(x)\n",
    "\n",
    "    \n",
    "seive = [[i + 2, True]\n",
    "             for i in range(max(nums) * 2 - 1)]   # 에라토스테네스의 체의 끝은 입력된 수 중의 가장 큰 수의 두배\n",
    "\n",
    "for k in range(len(seive)):                       # 에라토스테네스의 체를 이용해 소수를 걸러내는 과정\n",
    "    if seive[k][1]:                      \n",
    "        j = k + seive[k][0]\n",
    "        while j <= len(seive) - 1:\n",
    "            seive[j][1] = False                   # 소수의 배수들을 지워나가는 과정\n",
    "            j += seive[k][0]\n",
    "            \n",
    "            \n",
    "for i in range(1, len(nums) - 1):                 \n",
    "    ans = []    \n",
    "    for item in seive:\n",
    "        if item[0] > nums[i] * 2:                 # 해당 경우의 두배에 해당하는 수 까지만 연산을 수행한다.\n",
    "            break     \n",
    "        if item[0] > nums[i] and item[1] == True: \n",
    "            ans.append(item[0])\n",
    "    print(len(ans))"
   ]
  },
  {
   "cell_type": "markdown",
   "id": "e89a68be",
   "metadata": {},
   "source": [
    "<div class=\"alert alert-block alert-info\">\n",
    "<b>9020번 : 골드바흐의 추측</b>\n",
    "    \n",
    "- 문제\n",
    "    \n",
    "    1보다 큰 자연수 중에서  1과 자기 자신을 제외한 약수가 없는 자연수를 소수라고 한다. 예를 들어, 5는 1과 5를 제외한 약수가 없기 때문에 소수이다. 하지만, 6은 6 = 2 × 3 이기 때문에 소수가 아니다.\n",
    "\n",
    "    골드바흐의 추측은 유명한 정수론의 미해결 문제로, 2보다 큰 모든 짝수는 두 소수의 합으로 나타낼 수 있다는 것이다. 이러한 수를 골드바흐 수라고 한다. 또, 짝수를 두 소수의 합으로 나타내는 표현을 그 수의 골드바흐 파티션이라고 한다. 예를 들면, 4 = 2 + 2, 6 = 3 + 3, 8 = 3 + 5, 10 = 5 + 5, 12 = 5 + 7, 14 = 3 + 11, 14 = 7 + 7이다. 10000보다 작거나 같은 모든 짝수 n에 대한 골드바흐 파티션은 존재한다.\n",
    "\n",
    "    2보다 큰 짝수 n이 주어졌을 때, n의 골드바흐 파티션을 출력하는 프로그램을 작성하시오. 만약 가능한 n의 골드바흐 파티션이 여러 가지인 경우에는 두 소수의 차이가 가장 작은 것을 출력한다.\n",
    "\n",
    "- 입력\n",
    "    \n",
    "    첫째 줄에 테스트 케이스의 개수 T가 주어진다. 각 테스트 케이스는 한 줄로 이루어져 있고 짝수 n이 주어진다.\n",
    "\n",
    "- 출력\n",
    "    \n",
    "    각 테스트 케이스에 대해서 주어진 n의 골드바흐 파티션을 출력한다. 출력하는 소수는 작은 것부터 먼저 출력하며, 공백으로 구분한다.\n",
    "</div>"
   ]
  },
  {
   "cell_type": "code",
   "execution_count": 362,
   "id": "5dfce5d4",
   "metadata": {
    "ExecuteTime": {
     "end_time": "2022-05-02T15:37:25.124198Z",
     "start_time": "2022-05-02T15:37:23.509739Z"
    },
    "scrolled": true
   },
   "outputs": [
    {
     "name": "stdout",
     "output_type": "stream",
     "text": [
      "1\n",
      "4\n",
      "2 2\n"
     ]
    }
   ],
   "source": [
    "N = int(input())\n",
    "nums = []\n",
    "for _ in range(N):\n",
    "    nums.append(int(input()))\n",
    "                \n",
    "seive = list(range(2, max(nums) + 1))\n",
    "p_nums = []\n",
    "for i in range(len(seive)):\n",
    "    if bool(seive[i]):\n",
    "        p_nums.append(seive[i])       # 체를 만들 때 소수에 대한 리스트를 만든다.\n",
    "        j = i + seive[i]\n",
    "        while j < len(seive):\n",
    "            seive[j] = False\n",
    "            j += seive[i]\n",
    "            \n",
    "for num in nums:\n",
    "    ans = [0]\n",
    "    for p_num in p_nums:            \n",
    "        if p_num > num // 2:              # num의 절반보다 커지는 경우\n",
    "            a = p_nums.index(p_num) - 1   # 그때, 그 수 보다 하나 전에 있는 소수가 num의 절반보다 작은 수 중 가장 큰 수\n",
    "            break       \n",
    "    k = 0                                    # 이중 반복문을 나오기 위한 변수\n",
    "    for i in range(a, -1, -1):               # num의 절반보다 작은 소수 중에 가장 큰 소수와 그것 보다 큰 소수들의 합\n",
    "        for j in range(a , len(p_nums) - 1): # 없으면 처음 정한 소수보다 작은 소수로 내려가고 다시 위의 연산 수행\n",
    "            if p_nums[i] + p_nums[j] == num: # 찾으면 반복문 중단하고 나온다.\n",
    "                print(p_nums[i], p_nums[j], sep=' ')\n",
    "                k = 1\n",
    "                break\n",
    "        if k == 1:\n",
    "            break"
   ]
  },
  {
   "cell_type": "code",
   "execution_count": 325,
   "id": "3b38c837",
   "metadata": {
    "ExecuteTime": {
     "end_time": "2022-05-02T15:06:52.637072Z",
     "start_time": "2022-05-02T15:06:52.629091Z"
    }
   },
   "outputs": [
    {
     "name": "stdout",
     "output_type": "stream",
     "text": [
      "2 2\n",
      "Wall time: 971 µs\n"
     ]
    }
   ],
   "source": [
    "%%time\n",
    "\n",
    "nums = [4]\n",
    "for num in nums:    \n",
    "    seive = set(range(1, max(nums) + 1))\n",
    "    for i in range(2, max(nums) + 1):\n",
    "        if i in seive:\n",
    "            seive -= set(range(i + i, max(nums) + 1, i))\n",
    "    a = b = num // 2\n",
    "    break_ = 0\n",
    "    for i in range(a, 0, -1):\n",
    "        for j in range(b, 10001):\n",
    "            if i in seive and j in seive:\n",
    "                print(i, j)\n",
    "                break_ = 1\n",
    "                break\n",
    "        if break_:\n",
    "            break"
   ]
  },
  {
   "cell_type": "markdown",
   "id": "979383a1",
   "metadata": {},
   "source": [
    "<div class=\"alert alert-block alert-info\">\n",
    "<b>1085번: 직사각형에서 탈출</b>\n",
    "\n",
    "- 문제\n",
    "\n",
    "    한수는 지금 (x, y)에 있다. 직사각형은 각 변이 좌표축에 평행하고, 왼쪽 아래 꼭짓점은 (0, 0), 오른쪽 위 꼭짓점은 (w, h)에 있다. 직사각형의 경계선까지 가는 거리의 최솟값을 구하는 프로그램을 작성하시오.\n",
    "\n",
    "- 입력\n",
    "\n",
    "    첫째 줄에 x, y, w, h가 주어진다.\n",
    "\n",
    "- 출력\n",
    "\n",
    "    첫째 줄에 문제의 정답을 출력한다.\n",
    "\n",
    "- 제한\n",
    "\n",
    "    1 ≤ w, h ≤ 1,000\n",
    "    \n",
    "    1 ≤ x ≤ w-1\n",
    "    \n",
    "    1 ≤ y ≤ h-1\n",
    "    \n",
    "    x, y, w, h는 정수\n",
    "</div>"
   ]
  },
  {
   "cell_type": "code",
   "execution_count": 136,
   "id": "55cccb4a",
   "metadata": {
    "ExecuteTime": {
     "end_time": "2022-05-01T15:42:12.233959Z",
     "start_time": "2022-05-01T15:42:05.427822Z"
    }
   },
   "outputs": [
    {
     "name": "stdout",
     "output_type": "stream",
     "text": [
      "653 375 1000 1000\n",
      "347\n"
     ]
    }
   ],
   "source": [
    "x, y, w, h = list(map(int, input().split()))\n",
    "print(min(w - x, h - y, x, y))"
   ]
  },
  {
   "cell_type": "markdown",
   "id": "3b9b5d49",
   "metadata": {},
   "source": [
    "<div class=\"alert alert-block alert-info\">\n",
    "<b>3009: 네 번째 점</b>\n",
    "\n",
    "- 문제\n",
    "    \n",
    "    세 점이 주어졌을 때, 축에 평행한 직사각형을 만들기 위해서 필요한 네 번째 점을 찾는 프로그램을 작성하시오.\n",
    "\n",
    "- 입력\n",
    "    \n",
    "    세 점의 좌표가 한 줄에 하나씩 주어진다. 좌표는 1보다 크거나 같고, 1000보다 작거나 같은 정수이다.\n",
    "\n",
    "- 출력\n",
    "    \n",
    "    직사각형의 네 번째 점의 좌표를 출력한다.\n",
    "</div>"
   ]
  },
  {
   "cell_type": "code",
   "execution_count": 142,
   "id": "fa8f781a",
   "metadata": {
    "ExecuteTime": {
     "end_time": "2022-05-01T15:56:11.287451Z",
     "start_time": "2022-05-01T15:55:46.301906Z"
    }
   },
   "outputs": [
    {
     "name": "stdout",
     "output_type": "stream",
     "text": [
      "30 10\n",
      "20 10\n",
      "20 20\n",
      "30 20\n"
     ]
    }
   ],
   "source": [
    "x_list = []\n",
    "y_list = []\n",
    "ans = []\n",
    "for _ in range(3):\n",
    "    x, y = input().split()\n",
    "    x_list.append(int(x))\n",
    "    y_list.append(int(y))\n",
    "# 리스트의 count메소드를 이용해서 그 값이 1인 요소를 출력하도록함\n",
    "for x in x_list:\n",
    "    if x_list.count(x) == 1:\n",
    "        ans.append(x)\n",
    "for y in y_list:\n",
    "    if y_list.count(y) == 1:\n",
    "        ans.append(y)\n",
    "        \n",
    "print(ans[0], ans[1], sep=' ')\n",
    "\n",
    "# 비트연산자를 이용해서 XOR연산을 하면 한번 나온 점을 찾을 수 있다. \n",
    "# XOR의 경우 같으면 0 같지 않으면 1을 출력하므로 0과 연산하면 자기 자신이 나오고 같은 수 끼리 연산하면 0이 나온다\n",
    "# 따라서 두 점은 같고 한 점만 다르므로 XOR연산을 세 번 수행하면 한 점의 값만 남게된다."
   ]
  },
  {
   "cell_type": "markdown",
   "id": "8be70f0d",
   "metadata": {},
   "source": [
    "<div class=\"alert alert-block alert-info\">\n",
    "<b>4153번: 직각삼각형</b>\n",
    "    \n",
    "- 문제\n",
    "    \n",
    "    과거 이집트인들은 각 변들의 길이가 3, 4, 5인 삼각형이 직각 삼각형인것을 알아냈다. 주어진 세변의 길이로 삼각형이 직각인지 아닌지 구분하시오.\n",
    "\n",
    "- 입력\n",
    "\n",
    "    입력은 여러개의 테스트케이스로 주어지며 마지막줄에는 0 0 0이 입력된다. 각 테스트케이스는 모두 30,000보다 작은 양의 정수로 주어지며, 각 입력은 변의 길이를 의미한다.\n",
    "\n",
    "- 출력\n",
    "\n",
    "    각 입력에 대해 직각 삼각형이 맞다면 \"right\", 아니라면 \"wrong\"을 출력한다.\n",
    "</div>"
   ]
  },
  {
   "cell_type": "code",
   "execution_count": 180,
   "id": "e2bdfef2",
   "metadata": {
    "ExecuteTime": {
     "end_time": "2022-05-01T16:30:49.376316Z",
     "start_time": "2022-05-01T16:30:29.443647Z"
    }
   },
   "outputs": [
    {
     "name": "stdout",
     "output_type": "stream",
     "text": [
      "5 6 10\n",
      "3 4 5\n",
      "8 9 2\n",
      "4 3 5\n",
      "0 0 0\n",
      "wrong\n",
      "right\n",
      "wrong\n",
      "right\n"
     ]
    }
   ],
   "source": [
    "nums = [0]\n",
    "while nums[-1] != [0, 0, 0]:\n",
    "    x = list(map(int, input().split()))\n",
    "    nums.append(x)\n",
    "\n",
    "for i in range(1, len(nums) - 1):\n",
    "    a = min(nums[i])\n",
    "    nums[i].remove(a)\n",
    "    c = max(nums[i])\n",
    "    nums[i].remove(c)\n",
    "    b = nums[i][0]\n",
    "    if a ** 2 + b ** 2 == c ** 2:\n",
    "        print('right')\n",
    "    else:\n",
    "        print('wrong')"
   ]
  },
  {
   "cell_type": "markdown",
   "id": "6e0f0ea3",
   "metadata": {},
   "source": [
    "<div class=\"alert alert-block alert-info\">\n",
    "<b>3053번 : 택시 기하학</b>\n",
    "    \n",
    "- 문제\n",
    "\n",
    "    19세기 독일 수학자 헤르만 민코프스키는 비유클리드 기하학 중 택시 기하학을 고안했다.\n",
    "\n",
    "    택시 기하학에서 두 점 T1(x1,y1), T2(x2,y2) 사이의 거리는 다음과 같이 구할 수 있다.\n",
    "\n",
    "    D(T1,T2) = |x1-x2| + |y1-y2|\n",
    "\n",
    "    두 점 사이의 거리를 제외한 나머지 정의는 유클리드 기하학에서의 정의와 같다.\n",
    "\n",
    "    따라서 택시 기하학에서 원의 정의는 유클리드 기하학에서 원의 정의와 같다.\n",
    "\n",
    "    원: 평면 상의 어떤 점에서 거리가 일정한 점들의 집합\n",
    "\n",
    "    반지름 R이 주어졌을 때, 유클리드 기하학에서 원의 넓이와, 택시 기하학에서 원의 넓이를 구하는 프로그램을 작성하시오.\n",
    "\n",
    "- 입력\n",
    "    \n",
    "    첫째 줄에 반지름 R이 주어진다. R은 10,000보다 작거나 같은 자연수이다.\n",
    "\n",
    "- 출력\n",
    "    \n",
    "    첫째 줄에는 유클리드 기하학에서 반지름이 R인 원의 넓이를, 둘째 줄에는 택시 기하학에서 반지름이 R인 원의 넓이를 출력한다. 정답과의 오차는 0.0001까지 허용한다.\n",
    "</div>"
   ]
  },
  {
   "cell_type": "code",
   "execution_count": 191,
   "id": "5b1afd2d",
   "metadata": {
    "ExecuteTime": {
     "end_time": "2022-05-01T16:43:25.619135Z",
     "start_time": "2022-05-01T16:43:24.408578Z"
    }
   },
   "outputs": [
    {
     "name": "stdout",
     "output_type": "stream",
     "text": [
      "42\n",
      "5541.769441\n",
      "3528.000000\n"
     ]
    }
   ],
   "source": [
    "# 택시 기하학에서 |x| + |y| = R 로 둘러싸인 면적의 넓이이다. 따라서 원의 넓이는 2R^2\n",
    "r = int(input())\n",
    "pi = 3.14159265359\n",
    "print(f'{pi * r ** 2:.6f}', f'{2 * r ** 2:.6f}', sep='\\n')\n"
   ]
  },
  {
   "cell_type": "markdown",
   "id": "bc194f3c",
   "metadata": {},
   "source": [
    "<div class=\"alert alert-block alert-info\">\n",
    "    \n",
    "<b>1002번 : 터렛</b>\n",
    "    \n",
    "- 문제\n",
    "\n",
    "    조규현과 백승환은 터렛에 근무하는 직원이다. 하지만 워낙 존재감이 없어서 인구수는 차지하지 않는다. 다음은 조규현과 백승환의 사진이다.\n",
    "    \n",
    "    이석원은 조규현과 백승환에게 상대편 마린(류재명)의 위치를 계산하라는 명령을 내렸다. 조규현과 백승환은 각각 자신의 터렛 위치에서 현재 적까지의 거리를 계산했다.\n",
    "    \n",
    "    조규현의 좌표 (x1, y1)와 백승환의 좌표 (x2, y2)가 주어지고, 조규현이 계산한 류재명과의 거리 r1과 백승환이 계산한 류재명과의 거리 r2가 주어졌을 때, 류재명이 있을 수 있는 좌표의 수를 출력하는 프로그램을 작성하시오.\n",
    "\n",
    "- 입력\n",
    "\n",
    "    첫째 줄에 테스트 케이스의 개수 T가 주어진다. 각 테스트 케이스는 다음과 같이 이루어져 있다.\n",
    "\n",
    "    한 줄에 x1, y1, r1, x2, y2, r2가 주어진다. x1, y1, x2, y2는 -10,000보다 크거나 같고, 10,000보다 작거나 같은 정수이고, r1, r2는 10,000보다 작거나 같은 자연수이다.\n",
    "\n",
    "- 출력\n",
    "    \n",
    "    각 테스트 케이스마다 류재명이 있을 수 있는 위치의 수를 출력한다. 만약 류재명이 있을 수 있는 위치의 개수가 무한대일 경우에는 -1을 출력한다.\n",
    "</div>"
   ]
  },
  {
   "cell_type": "code",
   "execution_count": 195,
   "id": "d6b77308",
   "metadata": {
    "ExecuteTime": {
     "end_time": "2022-05-01T17:02:01.416297Z",
     "start_time": "2022-05-01T17:01:45.176169Z"
    }
   },
   "outputs": [
    {
     "name": "stdout",
     "output_type": "stream",
     "text": [
      "3\n",
      "0 0 13 40 0 37\n",
      "0 0 3 0 7 4\n",
      "1 1 1 1 1 5\n",
      "2\n",
      "1\n",
      "0\n"
     ]
    }
   ],
   "source": [
    "N = int(input())\n",
    "coord_list = []\n",
    "for _ in range(N):\n",
    "    coord_list.append(list(map(int, input().split)))\n",
    "        \n",
    "for coord in coord_list:\n",
    "    x1, y1, r1, x2, y2, r2 = coord\n",
    "    dist = (abs(x1 - x2) ** 2 + abs(y1 - y2) ** 2) ** 0.5\n",
    "    if dist == 0:                              # 동심원인 경우\n",
    "        if r1 == r2:\n",
    "            print(-1)\n",
    "        else:\n",
    "            print(0)\n",
    "    else:                                      # 동심원이 아닌 경우\n",
    "        if dist < r1 + r2:                     # 동심원이 아니면서 두 원의 반지름 합이 두 원의 중심 거리보다 큰 경우\n",
    "            if abs(r2 - r1) > dist:            # 한 원이 다른 한 원의 내부에 교점 없이 존재하거나\n",
    "                print(0)                       # 한 원이 다른 한 원의 내부에 교점 하나로 존재하거나\n",
    "            elif abs(r2 - r1) == dist:         \n",
    "                print(1)\n",
    "            else:                              # 두 점에서 만난다\n",
    "                print(2)\n",
    "        elif dist == r1 + r2:                  # 두 원의 반지름 합이 두 원의 중심 거리와 같으면 한 점에서 만나고\n",
    "            print(1)\n",
    "        else:                                  # 두 원의 반지름 합이 두 원의 중심 거리보다 작으면 만나지 않는다.\n",
    "            print(0)"
   ]
  }
 ],
 "metadata": {
  "hide_input": false,
  "kernelspec": {
   "display_name": "Python 3",
   "language": "python",
   "name": "python3"
  },
  "language_info": {
   "codemirror_mode": {
    "name": "ipython",
    "version": 3
   },
   "file_extension": ".py",
   "mimetype": "text/x-python",
   "name": "python",
   "nbconvert_exporter": "python",
   "pygments_lexer": "ipython3",
   "version": "3.8.8"
  },
  "toc": {
   "base_numbering": 1,
   "nav_menu": {},
   "number_sections": true,
   "sideBar": true,
   "skip_h1_title": false,
   "title_cell": "Table of Contents",
   "title_sidebar": "Contents",
   "toc_cell": false,
   "toc_position": {},
   "toc_section_display": true,
   "toc_window_display": false
  },
  "varInspector": {
   "cols": {
    "lenName": 16,
    "lenType": 16,
    "lenVar": 40
   },
   "kernels_config": {
    "python": {
     "delete_cmd_postfix": "",
     "delete_cmd_prefix": "del ",
     "library": "var_list.py",
     "varRefreshCmd": "print(var_dic_list())"
    },
    "r": {
     "delete_cmd_postfix": ") ",
     "delete_cmd_prefix": "rm(",
     "library": "var_list.r",
     "varRefreshCmd": "cat(var_dic_list()) "
    }
   },
   "types_to_exclude": [
    "module",
    "function",
    "builtin_function_or_method",
    "instance",
    "_Feature"
   ],
   "window_display": false
  }
 },
 "nbformat": 4,
 "nbformat_minor": 5
}
