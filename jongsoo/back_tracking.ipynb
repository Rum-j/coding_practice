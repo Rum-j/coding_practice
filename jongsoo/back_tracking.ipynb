{
 "cells": [
  {
   "cell_type": "markdown",
   "id": "0616feaf",
   "metadata": {},
   "source": [
    "<div class=\"alert alert-block alert-info\">\n",
    "<b>15649번: N과 M (1)</b><br>\n",
    "<ul>\n",
    "    <li>문제</li>\n",
    "    <p>자연수 N과 M이 주어졌을 때, 아래 조건을 만족하는 길이가 M인 수열을 모두 구하는 프로그램을 작성하시오.</p>\n",
    "    <ul>    \n",
    "        <li>1부터 N까지 자연수 중에서 중복 없이 M개를 고른 수열</li>\n",
    "    </ul>\n",
    "    <li>입력</li>\n",
    "    <p>첫째 줄에 자연수 N과 M이 주어진다. (1 ≤ M ≤ N ≤ 8)</p>\n",
    "    <li>출력</li>\n",
    "    <p>한 줄에 하나씩 문제의 조건을 만족하는 수열을 출력한다. 중복되는 수열을 여러 번 출력하면 안되며, 각 수열은 공백으로 구분해서 출력해야 한다.</p>\n",
    "    <p>수열은 사전 순으로 증가하는 순서로 출력해야 한다.</p>\n",
    "</ul>\n",
    "</div>"
   ]
  },
  {
   "cell_type": "code",
   "execution_count": 1,
   "id": "f5b88fbd",
   "metadata": {
    "ExecuteTime": {
     "end_time": "2022-05-23T15:15:54.888891Z",
     "start_time": "2022-05-23T15:15:54.874860Z"
    },
    "code_folding": [
     1
    ]
   },
   "outputs": [],
   "source": [
    "def is_available(N, candidate, current_col):\n",
    "    if len(candidate) == 0:\n",
    "        return True\n",
    "    \n",
    "    if current_col in candidate:\n",
    "        return False\n",
    "    return True\n",
    "\n",
    "\n",
    "\n",
    "def DFS(N, M, current_candidate, current_row, final_answer):\n",
    "    if current_row == M:\n",
    "        final_answer.append(current_candidate[:])\n",
    "        return \n",
    "    \n",
    "    for current_col in range(1, N + 1): \n",
    "        if is_available(N, current_candidate, current_col):\n",
    "            current_candidate.append(current_col)\n",
    "            DFS(N, M, current_candidate, current_row + 1, final_answer)\n",
    "            current_candidate.pop()\n",
    "        \n",
    "\n",
    "\n",
    "def solve_N_M(N, M):\n",
    "    final_result = []\n",
    "    DFS(N, M, [], 0, final_result)\n",
    "    return final_result\n",
    "\n",
    "N, M = list(map(int, input().split()))\n",
    "for answer in solve_N_M(N, M):\n",
    "    print(*answer)"
   ]
  },
  {
   "cell_type": "markdown",
   "id": "c4b04841",
   "metadata": {},
   "source": [
    "<div class=\"alert alert-block alert-info\">\n",
    "<b>15650번: N과 M (2)</b><br>\n",
    "<ul>\n",
    "    <li>문제</li>\n",
    "    <p>자연수 N과 M이 주어졌을 때, 아래 조건을 만족하는 길이가 M인 수열을 모두 구하는 프로그램을 작성하시오.</p>\n",
    "    <ul>    \n",
    "        <li>1부터 N까지 자연수 중에서 중복 없이 M개를 고른 수열</li>\n",
    "        <li>고른 수열은 오름차순이어야 한다.</li>\n",
    "    </ul>\n",
    "    <li>입력</li>\n",
    "    <p>첫째 줄에 자연수 N과 M이 주어진다. (1 ≤ M ≤ N ≤ 8)</p>\n",
    "    <li>출력</li>\n",
    "    <p>한 줄에 하나씩 문제의 조건을 만족하는 수열을 출력한다. 중복되는 수열을 여러 번 출력하면 안되며, 각 수열은 공백으로 구분해서 출력해야 한다.</p>\n",
    "    <p>수열은 사전 순으로 증가하는 순서로 출력해야 한다.</p>\n",
    "</ul>\n",
    "</div>"
   ]
  },
  {
   "cell_type": "code",
   "execution_count": 5,
   "id": "1897e607",
   "metadata": {
    "ExecuteTime": {
     "end_time": "2022-05-23T15:19:24.546241Z",
     "start_time": "2022-05-23T15:19:24.525304Z"
    }
   },
   "outputs": [],
   "source": [
    "def is_available(N, candidate, current_col):\n",
    "    if len(candidate) == 0:\n",
    "        return True\n",
    "    \n",
    "    if current_col <= candidate[-1]:\n",
    "        return False\n",
    "    return True\n",
    "\n",
    "\n",
    "\n",
    "def DFS(N, M, current_candidate, current_row, final_answer):\n",
    "    if current_row == M:\n",
    "        final_answer.append(current_candidate[:])\n",
    "        return \n",
    "    \n",
    "    for current_col in range(1, N + 1): \n",
    "        if is_available(N, current_candidate, current_col):\n",
    "            current_candidate.append(current_col)\n",
    "            DFS(N, M, current_candidate, current_row + 1, final_answer)\n",
    "            current_candidate.pop()\n",
    "        \n",
    "\n",
    "\n",
    "def solve_N_M(N, M):\n",
    "    final_result = []\n",
    "    DFS(N, M, [], 0, final_result)\n",
    "    return final_result\n",
    "\n",
    "N, M = list(map(int, input().split()))\n",
    "for answer in solve_N_M(N, M):\n",
    "    print(*answer)"
   ]
  },
  {
   "cell_type": "markdown",
   "id": "656a8c37",
   "metadata": {},
   "source": [
    "<div class=\"alert alert-block alert-info\">\n",
    "<b>15651번: N과 M (3)</b><br>\n",
    "<ul>\n",
    "    <li>문제</li>\n",
    "    <p>자연수 N과 M이 주어졌을 때, 아래 조건을 만족하는 길이가 M인 수열을 모두 구하는 프로그램을 작성하시오.</p>\n",
    "    <ul>    \n",
    "        <li>1부터 N까지 자연수 중에서 중복 없이 M개를 고른 수열</li>\n",
    "        <li>같은 수를 여러 번 골라도 된다.</li>\n",
    "    </ul>\n",
    "    <li>입력</li>\n",
    "    <p>첫째 줄에 자연수 N과 M이 주어진다. (1 ≤ M ≤ N ≤ 8)</p>\n",
    "    <li>출력</li>\n",
    "    <p>한 줄에 하나씩 문제의 조건을 만족하는 수열을 출력한다. 중복되는 수열을 여러 번 출력하면 안되며, 각 수열은 공백으로 구분해서 출력해야 한다.</p>\n",
    "    <p>수열은 사전 순으로 증가하는 순서로 출력해야 한다.</p>\n",
    "</ul>\n",
    "</div>"
   ]
  },
  {
   "cell_type": "code",
   "execution_count": 12,
   "id": "432b9196",
   "metadata": {
    "ExecuteTime": {
     "end_time": "2022-05-23T15:22:43.862817Z",
     "start_time": "2022-05-23T15:22:43.848857Z"
    }
   },
   "outputs": [],
   "source": [
    "def is_available(N, candidate, current_col):\n",
    "    return True\n",
    "\n",
    "\n",
    "\n",
    "def DFS(N, M, current_candidate, current_row, final_answer):\n",
    "    if current_row == M:\n",
    "        final_answer.append(current_candidate[:])\n",
    "        return \n",
    "    \n",
    "    for current_col in range(1, N + 1): \n",
    "        if is_available(N, current_candidate, current_col):\n",
    "            current_candidate.append(current_col)\n",
    "            DFS(N, M, current_candidate, current_row + 1, final_answer)\n",
    "            current_candidate.pop()\n",
    "        \n",
    "\n",
    "\n",
    "def solve_N_M(N, M):\n",
    "    final_result = []\n",
    "    DFS(N, M, [], 0, final_result)\n",
    "    return final_result\n",
    "\n",
    "N, M = list(map(int, input().split()))\n",
    "for answer in solve_N_M(N, M):\n",
    "    print(*answer)"
   ]
  },
  {
   "cell_type": "markdown",
   "id": "583ab178",
   "metadata": {},
   "source": [
    "<div class=\"alert alert-block alert-info\">\n",
    "<b>15652번: N과 M (4)</b><br>\n",
    "<ul>\n",
    "    <li>문제</li>\n",
    "    <p>자연수 N과 M이 주어졌을 때, 아래 조건을 만족하는 길이가 M인 수열을 모두 구하는 프로그램을 작성하시오.</p>\n",
    "    <ul>    \n",
    "        <li>1부터 N까지 자연수 중에서 중복 없이 M개를 고른 수열</li>\n",
    "        <li>같은 수를 여러 번 골라도 된다.</li>\n",
    "        <li>고른 수열은 비내림차순이어야 한다.</li>\n",
    "        <ul>\n",
    "            <li>길이가 K인 수열 A가 A1 ≤ A2 ≤ ... ≤ AK-1 ≤ AK를 만족하면, 비내림차순이라고 한다.</li>\n",
    "        </ul>\n",
    "    </ul>\n",
    "    <li>입력</li>\n",
    "    <p>첫째 줄에 자연수 N과 M이 주어진다. (1 ≤ M ≤ N ≤ 8)</p>\n",
    "    <li>출력</li>\n",
    "    <p>한 줄에 하나씩 문제의 조건을 만족하는 수열을 출력한다. 중복되는 수열을 여러 번 출력하면 안되며, 각 수열은 공백으로 구분해서 출력해야 한다.</p>\n",
    "    <p>수열은 사전 순으로 증가하는 순서로 출력해야 한다.</p>\n",
    "</ul>\n",
    "</div>"
   ]
  },
  {
   "cell_type": "code",
   "execution_count": 15,
   "id": "2e247f27",
   "metadata": {
    "ExecuteTime": {
     "end_time": "2022-05-23T15:25:32.089212Z",
     "start_time": "2022-05-23T15:25:30.832767Z"
    }
   },
   "outputs": [
    {
     "name": "stdout",
     "output_type": "stream",
     "text": [
      "3 3\n",
      "1 1 1\n",
      "1 1 2\n",
      "1 1 3\n",
      "1 2 2\n",
      "1 2 3\n",
      "1 3 3\n",
      "2 2 2\n",
      "2 2 3\n",
      "2 3 3\n",
      "3 3 3\n"
     ]
    }
   ],
   "source": [
    "def is_available(N, candidate, current_col):\n",
    "    if len(candidate) == 0:\n",
    "        return True\n",
    "    \n",
    "    if candidate[-1] > current_col:\n",
    "        return False\n",
    "    return True\n",
    "\n",
    "\n",
    "\n",
    "def DFS(N, M, current_candidate, current_row, final_answer):\n",
    "    if current_row == M:\n",
    "        final_answer.append(current_candidate[:])\n",
    "        return \n",
    "    \n",
    "    for current_col in range(1, N + 1): \n",
    "        if is_available(N, current_candidate, current_col):\n",
    "            current_candidate.append(current_col)\n",
    "            DFS(N, M, current_candidate, current_row + 1, final_answer)\n",
    "            current_candidate.pop()\n",
    "        \n",
    "\n",
    "\n",
    "def solve_N_M(N, M):\n",
    "    final_result = []\n",
    "    DFS(N, M, [], 0, final_result)\n",
    "    return final_result\n",
    "\n",
    "N, M = list(map(int, input().split()))\n",
    "for answer in solve_N_M(N, M):\n",
    "    print(*answer)"
   ]
  },
  {
   "cell_type": "markdown",
   "id": "4df4d9e0",
   "metadata": {},
   "source": [
    "<div class=\"alert alert-block alert-info\">\n",
    "<b>9663번: N-Queen</b><br>\n",
    "<ul>\n",
    "    <li>문제</li>\n",
    "    <p>N-Queen 문제는 크기가 N × N인 체스판 위에 퀸 N개를 서로 공격할 수 없게 놓는 문제이다.</p>\n",
    "    <p>N이 주어졌을 때, 퀸을 놓는 방법의 수를 구하는 프로그램을 작성하시오.</p>\n",
    "    <li>입력</li>\n",
    "    <p>첫째 줄에 N이 주어진다. (1 ≤ N < 15)</p>\n",
    "    <li>출력</li>\n",
    "    <p>첫째 줄에 퀸 N개를 서로 공격할 수 없게 놓는 경우의 수를 출력한다.</p>\n",
    "</ul>\n",
    "</div>"
   ]
  },
  {
   "cell_type": "code",
   "execution_count": 1,
   "id": "c6c75390",
   "metadata": {
    "ExecuteTime": {
     "end_time": "2022-05-24T08:05:49.756023Z",
     "start_time": "2022-05-24T08:05:45.693607Z"
    }
   },
   "outputs": [
    {
     "name": "stdout",
     "output_type": "stream",
     "text": [
      "4\n",
      "2\n"
     ]
    }
   ],
   "source": [
    "def is_available(candidate, current_col):\n",
    "    current_row = len(candidate)\n",
    "    for queen_row in range(current_row):\n",
    "        if candidate[queen_row] == current_col or abs(current_col - candidate[queen_row]) == current_row - queen_row:\n",
    "            return False\n",
    "    return True\n",
    "\n",
    "\n",
    "def DFS(N, current_candidate, current_row, final_answer):\n",
    "    if current_row == N:\n",
    "        final_answer.append(current_candidate.copy())\n",
    "        return\n",
    "    \n",
    "    for current_col in range(N):\n",
    "        if is_available(current_candidate, current_col):\n",
    "            current_candidate.append(current_col)\n",
    "            DFS(N, current_candidate, current_row + 1, final_answer)\n",
    "            current_candidate.pop()\n",
    "\n",
    "    \n",
    "def solve_N_queen(N):\n",
    "    final_answer = []\n",
    "    DFS(N, [], 0, final_answer)\n",
    "    return len(final_answer)\n",
    "\n",
    "\n",
    "N = int(input())\n",
    "print(solve_N_queen(N))"
   ]
  }
 ],
 "metadata": {
  "hide_input": false,
  "kernelspec": {
   "display_name": "Python 3",
   "language": "python",
   "name": "python3"
  },
  "language_info": {
   "codemirror_mode": {
    "name": "ipython",
    "version": 3
   },
   "file_extension": ".py",
   "mimetype": "text/x-python",
   "name": "python",
   "nbconvert_exporter": "python",
   "pygments_lexer": "ipython3",
   "version": "3.8.8"
  },
  "toc": {
   "base_numbering": 1,
   "nav_menu": {},
   "number_sections": true,
   "sideBar": true,
   "skip_h1_title": false,
   "title_cell": "Table of Contents",
   "title_sidebar": "Contents",
   "toc_cell": false,
   "toc_position": {},
   "toc_section_display": true,
   "toc_window_display": false
  },
  "varInspector": {
   "cols": {
    "lenName": 16,
    "lenType": 16,
    "lenVar": 40
   },
   "kernels_config": {
    "python": {
     "delete_cmd_postfix": "",
     "delete_cmd_prefix": "del ",
     "library": "var_list.py",
     "varRefreshCmd": "print(var_dic_list())"
    },
    "r": {
     "delete_cmd_postfix": ") ",
     "delete_cmd_prefix": "rm(",
     "library": "var_list.r",
     "varRefreshCmd": "cat(var_dic_list()) "
    }
   },
   "types_to_exclude": [
    "module",
    "function",
    "builtin_function_or_method",
    "instance",
    "_Feature"
   ],
   "window_display": false
  }
 },
 "nbformat": 4,
 "nbformat_minor": 5
}
