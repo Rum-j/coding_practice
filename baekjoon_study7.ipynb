{
  "cells": [
    {
      "cell_type": "markdown",
      "metadata": {
        "id": "view-in-github",
        "colab_type": "text"
      },
      "source": [
        "<a href=\"https://colab.research.google.com/github/sankeuny/practice/blob/dopractice/baekjoon_study7.ipynb\" target=\"_parent\"><img src=\"https://colab.research.google.com/assets/colab-badge.svg\" alt=\"Open In Colab\"/></a>"
      ]
    },
    {
      "cell_type": "markdown",
      "id": "cce08eaf",
      "metadata": {
        "id": "cce08eaf"
      },
      "source": [
        "## 5. 구간 합 구하기 (#11660)\n",
        "- - -\n",
        "1초, 256MB\n",
        "\n",
        "- - -  \n",
        "\n",
        "### 문제\n",
        "N×N개의 수가 N×N 크기의 표에 채워져 있다. (x1, y1)부터 (x2, y2)까지 합을 구하는 프로그램을 작성하시오. (x, y)는 x행 y열을 의미한다.\n",
        "\n",
        "예를 들어, N = 4이고, 표가 아래와 같이 채워져 있는 경우를 살펴보자.\n",
        "\n",
        "<table>\n",
        "<tr>\n",
        "<td>1</td><td>2</td><td>3</td><td>4</td>\n",
        "</tr>\n",
        "<tr>\n",
        "<td>2</td><td>3</td><td>4</td><td>5</td>\n",
        "</tr>\n",
        "<tr>\n",
        "<td>3</td><td>4</td><td>5</td><td>6</td>\n",
        "</tr>\n",
        "<tr>\n",
        "<td>4</td><td>5</td><td>6</td><td>7</td>\n",
        "</tr>\n",
        "</table>\n",
        "\n",
        "여기서 (2, 2)부터 (3, 4)까지 합을 구하면 3+4+5+4+5+6 = 27이고, (4, 4)부터 (4, 4)까지 합을 구하면 7이다.\n",
        "\n",
        "표에 채워져 있는 수와 합을 구하는 연산이 주어졌을 때, 이를 처리하는 프로그램을 작성하시오.\n",
        "\n",
        "### 입력\n",
        "첫째 줄에 표의 크기 N과 합을 구해야 하는 횟수 M이 주어진다. (1 ≤ N ≤ 1024, 1 ≤ M ≤ 100,000) 둘째 줄부터 N개의 줄에는 표에 채워져 있는 수가 1행부터 차례대로 주어진다. 다음 M개의 줄에는 네 개의 정수 x1, y1, x2, y2 가 주어지며, (x1, y1)부터 (x2, y2)의 합을 구해 출력해야 한다. 표에 채워져 있는 수는 1,000보다 작거나 같은 자연수이다. (x1 ≤ x2, y1 ≤ y2)\n",
        "\n",
        "### 출력\n",
        "총 M줄에 걸쳐 (x1, y1)부터 (x2, y2)까지 합을 구해 출력한다.  \n",
        "\n",
        "- - -  \n",
        "\n",
        "#### 예제 입력 1 \n",
        "```\n",
        "4 3\n",
        "1 2 3 4\n",
        "2 3 4 5\n",
        "3 4 5 6\n",
        "4 5 6 7\n",
        "2 2 3 4\n",
        "3 4 3 4\n",
        "1 1 4 4 \n",
        "```\n",
        "#### 예제 출력 1\n",
        "```\n",
        "27\n",
        "6\n",
        "64\n",
        "```\n",
        "#### 예제 입력 2 \n",
        "```\n",
        "2 4\n",
        "1 2\n",
        "3 4\n",
        "1 1 1 1\n",
        "1 2 1 2\n",
        "2 1 2 1\n",
        "2 2 2 2 \n",
        "```\n",
        "#### 예제 출력 2 \n",
        "```\n",
        "1\n",
        "2\n",
        "3\n",
        "4\n",
        "```"
      ]
    },
    {
      "cell_type": "code",
      "source": [
        "# 1st input: n, m ==> n x n matrix, # of m times to get sum.\n",
        "# 2nd input: row by rows of the matrix... (n times)\n",
        "# 3rd input: the coordinate where calculation starts and ends... (m times)\n",
        "\n",
        "# import sys\n",
        "# input = sys.stdin.readline\n",
        "\n",
        "n, m = map(int, input().split())\n",
        "given_mtrx = [list(map(int, input().split())) for _ in range(n)]\n",
        "target_cdn = [list(map(int, input().split())) for _ in range(m)]\n",
        "# 아직도 알수 없는 시간초과... 왜??\n",
        "\n",
        "# print(n, m)\n",
        "# print(given_mtrx)\n",
        "# print(target_cdn)\n",
        "\n",
        "# default (n+1) x (n+1) => 앞쪽 행렬 탐색을 위해 +1\n",
        "mtrx = [[0]*(n+1) for _ in range(n+1)]\n",
        "\n",
        "# 행과 열별로 구간합을 값으로 하는 이차원 배열\n",
        "for i in range(n):\n",
        "    for j in range(n):\n",
        "        # print(mtrx[i][j + 1], mtrx[i + 1][j], mtrx[i][j], given_mtrx[i][j])\n",
        "        mtrx[i + 1][j + 1] = mtrx[i][j + 1] + mtrx[i + 1][j] - mtrx[i][j] + given_mtrx[i][j]  \n",
        "        # print(mtrx)\n",
        "\n",
        "for num in target_cdn:\n",
        "    x1, y1, x2, y2 = num\n",
        "    # print(x1, y1, x2, y2)\n",
        "    ans = mtrx[x2][y2] - mtrx[x1-1][y2] - mtrx[x2][y1-1] + mtrx[x1-1][y1-1]\n",
        "    print(ans)"
      ],
      "metadata": {
        "id": "P0J7_X-8iwr3",
        "colab": {
          "base_uri": "https://localhost:8080/"
        },
        "outputId": "669a1e45-a730-4f27-895e-02c36a3ee091"
      },
      "id": "P0J7_X-8iwr3",
      "execution_count": 7,
      "outputs": [
        {
          "output_type": "stream",
          "name": "stdout",
          "text": [
            "4 3\n",
            "1 2 3 4\n",
            "2 3 4 5\n",
            "3 4 5 6\n",
            "4 5 6 7\n",
            "2 2 3 4\n",
            "3 4 3 4\n",
            "1 1 4 4\n",
            "27\n",
            "6\n",
            "64\n"
          ]
        }
      ]
    },
    {
      "cell_type": "markdown",
      "id": "be96e15f",
      "metadata": {
        "id": "be96e15f"
      },
      "source": [
        "## 5. 주유소 (#13305)\n",
        "- - -\n",
        "2초, 512MB\n",
        "\n",
        "- - -  \n",
        "\n",
        "### 문제\n",
        "어떤 나라에 N개의 도시가 있다. 이 도시들은 일직선 도로 위에 있다. 편의상 일직선을 수평 방향으로 두자. 제일 왼쪽의 도시에서 제일 오른쪽의 도시로 자동차를 이용하여 이동하려고 한다. 인접한 두 도시 사이의 도로들은 서로 길이가 다를 수 있다. 도로 길이의 단위는 km를 사용한다.\n",
        "\n",
        "처음 출발할 때 자동차에는 기름이 없어서 주유소에서 기름을 넣고 출발하여야 한다. 기름통의 크기는 무제한이어서 얼마든지 많은 기름을 넣을 수 있다. 도로를 이용하여 이동할 때 1km마다 1리터의 기름을 사용한다. 각 도시에는 단 하나의 주유소가 있으며, 도시 마다 주유소의 리터당 가격은 다를 수 있다. 가격의 단위는 원을 사용한다.\n",
        "\n",
        "예를 들어, 이 나라에 다음 그림처럼 4개의 도시가 있다고 하자. 원 안에 있는 숫자는 그 도시에 있는 주유소의 리터당 가격이다. 도로 위에 있는 숫자는 도로의 길이를 표시한 것이다. \n",
        "\n",
        "<center><img src=\"https://onlinejudgeimages.s3-ap-northeast-1.amazonaws.com/problem/13305/1.png\" width=\"300\"></center>\n",
        "\n",
        "제일 왼쪽 도시에서 6리터의 기름을 넣고, 더 이상의 주유 없이 제일 오른쪽 도시까지 이동하면 총 비용은 30원이다. 만약 제일 왼쪽 도시에서 2리터의 기름을 넣고(2×5 = 10원) 다음 번 도시까지 이동한 후 3리터의 기름을 넣고(3×2 = 6원) 다음 도시에서 1리터의 기름을 넣어(1×4 = 4원) 제일 오른쪽 도시로 이동하면, 총 비용은 20원이다. 또 다른 방법으로 제일 왼쪽 도시에서 2리터의 기름을 넣고(2×5 = 10원) 다음 번 도시까지 이동한 후 4리터의 기름을 넣고(4×2 = 8원) 제일 오른쪽 도시까지 이동하면, 총 비용은 18원이다.\n",
        "\n",
        "각 도시에 있는 주유소의 기름 가격과, 각 도시를 연결하는 도로의 길이를 입력으로 받아 제일 왼쪽 도시에서 제일 오른쪽 도시로 이동하는 최소의 비용을 계산하는 프로그램을 작성하시오.\n",
        "\n",
        "### 입력\n",
        "표준 입력으로 다음 정보가 주어진다. 첫 번째 줄에는 도시의 개수를 나타내는 정수 N(2 ≤ N ≤ 100,000)이 주어진다. 다음 줄에는 인접한 두 도시를 연결하는 도로의 길이가 제일 왼쪽 도로부터 N-1개의 자연수로 주어진다. 다음 줄에는 주유소의 리터당 가격이 제일 왼쪽 도시부터 순서대로 N개의 자연수로 주어진다. 제일 왼쪽 도시부터 제일 오른쪽 도시까지의 거리는 1이상 1,000,000,000 이하의 자연수이다. 리터당 가격은 1 이상 1,000,000,000 이하의 자연수이다. \n",
        "\n",
        "### 출력\n",
        "표준 출력으로 제일 왼쪽 도시에서 제일 오른쪽 도시로 가는 최소 비용을 출력한다. \n",
        "\n",
        "### 서브태스크\n",
        "|번호|배점|제한|\n",
        "|--|--|:--|\n",
        "|1|17|모든 주유소의 리터당 가격은 1원이다.|\n",
        "|2|41|2 ≤ N ≤ 1,000, 제일 왼쪽 도시부터 제일 오른쪽 도시까지의 거리는 최대 10,000, 리터 당 가격은 최대 10,000이다.|\n",
        "|3|42|원래의 제약조건 이외에 아무 제약조건이 없다.|\n",
        "\n",
        "- - -  \n",
        "\n",
        "#### 예제 입력 1 \n",
        "```\n",
        "4\n",
        "2 3 1\n",
        "5 2 4 1\n",
        "``` \n",
        "#### 예제 출력 1\n",
        "```\n",
        "18\n",
        "```\n",
        "#### 예제 입력 2 \n",
        "```\n",
        "4\n",
        "3 3 4\n",
        "1 1 1 1\n",
        "``` \n",
        "#### 예제 출력 2\n",
        "```\n",
        "10\n",
        "```"
      ]
    },
    {
      "cell_type": "code",
      "execution_count": 12,
      "id": "478da9e8",
      "metadata": {
        "id": "478da9e8",
        "colab": {
          "base_uri": "https://localhost:8080/"
        },
        "outputId": "73ed6979-499f-426d-fbe7-592f71f4f527"
      },
      "outputs": [
        {
          "output_type": "stream",
          "name": "stdout",
          "text": [
            "4\n",
            "2 3 1\n",
            "5 2 4 1\n",
            "10\n",
            "[2, 2, 4, 1]\n",
            "16\n",
            "18\n",
            "18\n"
          ]
        }
      ],
      "source": [
        "n=int(input()) #도시의 개수\n",
        "km=list(map(int,input().split())) #도로의 길이\n",
        "price=list(map(int,input().split())) #가격\n",
        "\n",
        "total=0 # default\n",
        "\n",
        "# 가격 중 최소값을 찾아 대체하고 누적분으로 합계\n",
        "for i in range(n-1):\n",
        "    if price[0]>price[i]:\n",
        "        price[0]=price[i]\n",
        "    total+=(price[0]*km[i])\n",
        "\n",
        "print(total)"
      ]
    },
    {
      "cell_type": "markdown",
      "source": [
        "\n",
        "### 접근 방법\n",
        "- 가격을 최소화하기 위해, 가장 싼 곳에서 가장 많이 구매해야한다. 따라서 가격의 최솟값을 찾아야 한다.\n",
        "-가장 싼 곳에서 가야할 km만큼의 기름을 구매한다. 이를 비용에 더해주면 된다.\n",
        "    - minPrice에는 임의의 가격 값을 지정한다. total은 비용을 저장할 변수이다.\n",
        "    - 반복문으로 최소값을 구해준다.\n",
        "가격은 도시 수(n)만큼 존재하고, 최종 목적지에서는 기름을 더이상 충전하지 않아도 되므로 총 n-1번 반복해주면 된다.\n",
        "    - if문으로 기름의 최저가를 구해주면 되고, 가격 배열을 전부 돌아 최저가를 찾게된다면 if문을 종료한다.\n",
        "    - if문을 종료하고 나서, total+=(minPrice*km[i])로 총 가격을 구한다."
      ],
      "metadata": {
        "id": "3wICE4JjNwaf"
      },
      "id": "3wICE4JjNwaf"
    }
  ],
  "metadata": {
    "kernelspec": {
      "display_name": "Python 3 (ipykernel)",
      "language": "python",
      "name": "python3"
    },
    "language_info": {
      "codemirror_mode": {
        "name": "ipython",
        "version": 3
      },
      "file_extension": ".py",
      "mimetype": "text/x-python",
      "name": "python",
      "nbconvert_exporter": "python",
      "pygments_lexer": "ipython3",
      "version": "3.8.13"
    },
    "toc": {
      "base_numbering": 1,
      "nav_menu": {},
      "number_sections": false,
      "sideBar": true,
      "skip_h1_title": false,
      "title_cell": "Table of Contents",
      "title_sidebar": "Contents",
      "toc_cell": false,
      "toc_position": {},
      "toc_section_display": true,
      "toc_window_display": true
    },
    "varInspector": {
      "cols": {
        "lenName": 16,
        "lenType": 16,
        "lenVar": 40
      },
      "kernels_config": {
        "python": {
          "delete_cmd_postfix": "",
          "delete_cmd_prefix": "del ",
          "library": "var_list.py",
          "varRefreshCmd": "print(var_dic_list())"
        },
        "r": {
          "delete_cmd_postfix": ") ",
          "delete_cmd_prefix": "rm(",
          "library": "var_list.r",
          "varRefreshCmd": "cat(var_dic_list()) "
        }
      },
      "types_to_exclude": [
        "module",
        "function",
        "builtin_function_or_method",
        "instance",
        "_Feature"
      ],
      "window_display": false
    },
    "colab": {
      "name": "baekjoon_study7.ipynb",
      "provenance": [],
      "collapsed_sections": [],
      "include_colab_link": true
    }
  },
  "nbformat": 4,
  "nbformat_minor": 5
}