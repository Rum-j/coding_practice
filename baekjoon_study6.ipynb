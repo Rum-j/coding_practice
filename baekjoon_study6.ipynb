{
  "cells": [
    {
      "cell_type": "markdown",
      "id": "cce08eaf",
      "metadata": {
        "id": "cce08eaf"
      },
      "source": [
        "## 1. 피보나치 함수 (#1003)\n",
        "- - -\n",
        "0.25초, 128MB\n",
        "\n",
        "- - -  \n",
        "\n",
        "### 문제\n",
        "다음 소스는 N번째 피보나치 수를 구하는 C++ 함수이다.\n",
        "\n",
        "```python\n",
        "int fibonacci(int n) {\n",
        "    if (n == 0) {\n",
        "        printf(\"0\");\n",
        "        return 0;\n",
        "    } else if (n == 1) {\n",
        "        printf(\"1\");\n",
        "        return 1;\n",
        "    } else {\n",
        "        return fibonacci(n‐1) + fibonacci(n‐2);\n",
        "    }\n",
        "}\n",
        "```\n",
        "fibonacci(3)을 호출하면 다음과 같은 일이 일어난다.\n",
        "\n",
        "fibonacci(3)은 fibonacci(2)와 fibonacci(1) (첫 번째 호출)을 호출한다.\n",
        "fibonacci(2)는 fibonacci(1) (두 번째 호출)과 fibonacci(0)을 호출한다.\n",
        "두 번째 호출한 fibonacci(1)은 1을 출력하고 1을 리턴한다.\n",
        "fibonacci(0)은 0을 출력하고, 0을 리턴한다.\n",
        "fibonacci(2)는 fibonacci(1)과 fibonacci(0)의 결과를 얻고, 1을 리턴한다.\n",
        "첫 번째 호출한 fibonacci(1)은 1을 출력하고, 1을 리턴한다.\n",
        "fibonacci(3)은 fibonacci(2)와 fibonacci(1)의 결과를 얻고, 2를 리턴한다.\n",
        "1은 2번 출력되고, 0은 1번 출력된다. N이 주어졌을 때, fibonacci(N)을 호출했을 때, 0과 1이 각각 몇 번 출력되는지 구하는 프로그램을 작성하시오.\n",
        "\n",
        "### 입력\n",
        "첫째 줄에 테스트 케이스의 개수 T가 주어진다.\n",
        "\n",
        "각 테스트 케이스는 한 줄로 이루어져 있고, N이 주어진다. N은 40보다 작거나 같은 자연수 또는 0이다.\n",
        "\n",
        "### 출력\n",
        "각 테스트 케이스마다 0이 출력되는 횟수와 1이 출력되는 횟수를 공백으로 구분해서 출력한다.  \n",
        "- - -  \n",
        "\n",
        "#### 예제 입력 1 \n",
        "```\n",
        "3  \n",
        "1  \n",
        "3  \n",
        "0  \n",
        "```\n",
        "#### 예제 출력 1\n",
        "```\n",
        "1 0  \n",
        "0 1  \n",
        "1 2 \n",
        "```\n",
        "#### 예제 입력 2 \n",
        "```\n",
        "2  \n",
        "6  \n",
        "22  \n",
        "```\n",
        "#### 예제 출력 2 \n",
        "```\n",
        "5 8  \n",
        "10946 17711\n",
        "```"
      ]
    },
    {
      "cell_type": "code",
      "source": [
        "def fibonacci(n):\n",
        "    if n==0:\n",
        "        print(0)\n",
        "        return 0\n",
        "    elif n==1:\n",
        "        print(1)\n",
        "        return 1\n",
        "    else:\n",
        "        return fibonacci(n-1)+fibonacci(n-2)\n",
        "\n",
        "n = int(input())\n",
        "fibonacci(n)\n",
        "\n",
        "#  입력 0   1   2   3   4   5   6   7   8   9   10  ...\n",
        "# 0출력 1   0   1   1   2   3   5   8   13  21  34  ...\n",
        "# 1출력 0   1   1   2   3   5   8   13  21  34  55  ...\n",
        "#               --> 여기부터 시작\n"
      ],
      "metadata": {
        "id": "P0J7_X-8iwr3",
        "colab": {
          "base_uri": "https://localhost:8080/"
        },
        "outputId": "ae7b6869-1934-4646-dbb8-10cd055ae451"
      },
      "id": "P0J7_X-8iwr3",
      "execution_count": null,
      "outputs": [
        {
          "output_type": "stream",
          "name": "stdout",
          "text": [
            "3\n",
            "1\n",
            "0\n",
            "1\n"
          ]
        },
        {
          "output_type": "execute_result",
          "data": {
            "text/plain": [
              "2"
            ]
          },
          "metadata": {},
          "execution_count": 25
        }
      ]
    },
    {
      "cell_type": "code",
      "source": [
        "# 피보나치 1, 1, 2, 3, 5, 8, 13, 21 .....\n",
        "\n",
        "t = int(input())\n",
        " \n",
        "for _ in range(t):  # t 만큼 돌기 (총 입출력 횟수)\n",
        "    cnt_0 = [1,0]   # 초기 값 설정\n",
        "    cnt_1 = [0,1]\n",
        "    n = int(input())  # 입력값 n\n",
        "    if n>1:\n",
        "        for i in range(n-1):\n",
        "            cnt_0.append(cnt_1[-1])  # 0출력 리스트 만들기\n",
        "            cnt_1.append(cnt_0[-2]+cnt_1[-1])  # 1출력 리스트 만들기\n",
        " \n",
        "    print(cnt_0[n], cnt_1[n])"
      ],
      "metadata": {
        "colab": {
          "base_uri": "https://localhost:8080/"
        },
        "id": "_3dqp6-8A8Kp",
        "outputId": "18e4dff7-0a50-4669-92ee-20b0040ae4a0"
      },
      "id": "_3dqp6-8A8Kp",
      "execution_count": null,
      "outputs": [
        {
          "output_type": "stream",
          "name": "stdout",
          "text": [
            "3\n",
            "1\n",
            "0 1\n",
            "3\n",
            "1 2\n",
            "0\n",
            "1 0\n"
          ]
        }
      ]
    },
    {
      "cell_type": "markdown",
      "id": "be96e15f",
      "metadata": {
        "id": "be96e15f"
      },
      "source": [
        "## 6. RGB거리 (#1149)\n",
        "- - -\n",
        "0.5초, 128MB\n",
        "\n",
        "- - -  \n",
        "\n",
        "### 문제\n",
        "RGB거리에는 집이 N개 있다. 거리는 선분으로 나타낼 수 있고, 1번 집부터 N번 집이 순서대로 있다.\n",
        "\n",
        "집은 빨강, 초록, 파랑 중 하나의 색으로 칠해야 한다. 각각의 집을 빨강, 초록, 파랑으로 칠하는 비용이 주어졌을 때, 아래 규칙을 만족하면서 모든 집을 칠하는 비용의 최솟값을 구해보자.\n",
        "\n",
        "- 1번 집의 색은 2번 집의 색과 같지 않아야 한다.\n",
        "- N번 집의 색은 N-1번 집의 색과 같지 않아야 한다.\n",
        "- i(2 ≤ i ≤ N-1)번 집의 색은 i-1번, i+1번 집의 색과 같지 않아야 한다.\n",
        "\n",
        "### 입력\n",
        "첫째 줄에 집의 수 N(2 ≤ N ≤ 1,000)이 주어진다. 둘째 줄부터 N개의 줄에는 각 집을 빨강, 초록, 파랑으로 칠하는 비용이 1번 집부터 한 줄에 하나씩 주어진다. 집을 칠하는 비용은 1,000보다 작거나 같은 자연수이다.\n",
        "\n",
        "### 출력\n",
        "첫째 줄에 모든 집을 칠하는 비용의 최솟값을 출력한다.\n",
        "\n",
        "- - -  \n",
        "\n",
        "#### 예제 입력 1 \n",
        "```\n",
        "3  \n",
        "26 40 83  \n",
        "49 60 57  \n",
        "13 89 99\n",
        "``` \n",
        "#### 예제 출력 1\n",
        "```\n",
        "96\n",
        "```\n",
        "#### 예제 입력 2 \n",
        "```\n",
        "3  \n",
        "1 100 100  \n",
        "100 1 100  \n",
        "100 100 1\n",
        "``` \n",
        "#### 예제 출력 2\n",
        "```\n",
        "3\n",
        "```  \n",
        "#### 예제 입력 3 \n",
        "```\n",
        "3  \n",
        "1 100 100  \n",
        "100 100 100  \n",
        "1 100 100\n",
        "``` \n",
        "#### 예제 출력 3\n",
        "```\n",
        "102\n",
        "```\n",
        "#### 예제 입력 4 \n",
        "```\n",
        "6  \n",
        "30 19 5  \n",
        "64 77 64  \n",
        "15 19 97  \n",
        "4 71 57  \n",
        "90 86 84  \n",
        "93 32 91\n",
        "``` \n",
        "#### 예제 출력 4\n",
        "```\n",
        "208\n",
        "```\n",
        "#### 예제 입력 5 \n",
        "```\n",
        "8  \n",
        "71 39 44  \n",
        "32 83 55  \n",
        "51 37 63  \n",
        "89 29 100  \n",
        "83 58 11  \n",
        "65 13 15  \n",
        "47 25 29  \n",
        "60 66 19\n",
        "``` \n",
        "#### 예제 출력 5\n",
        "```\n",
        "253\n",
        "```"
      ]
    },
    {
      "cell_type": "code",
      "execution_count": null,
      "id": "478da9e8",
      "metadata": {
        "id": "478da9e8",
        "colab": {
          "base_uri": "https://localhost:8080/"
        },
        "outputId": "98b2cab0-f212-4e16-a7d7-bc5825f0444f"
      },
      "outputs": [
        {
          "output_type": "stream",
          "name": "stdout",
          "text": [
            "8\n",
            "71 39 44\n",
            "32 83 55\n",
            "51 37 63\n",
            "89 29 100\n",
            "83 58 11\n",
            "65 13 15\n",
            "47 25 29\n",
            "60 66 19\n",
            "253\n"
          ]
        }
      ],
      "source": [
        "n = int(input())\n",
        "cost_list = [list(map(int, input().split())) for _ in range(n)] # 색상별 비용 리스트 생성\n",
        "for i in range(1, n):  # 첫줄 기준으로 둘째줄 부터 비교 후 합산\n",
        "    cost_list[i][0] += min(cost_list[i-1][1], cost_list[i-1][2]) # R을 윗줄 G, B중 작은 값과 더해줌\n",
        "    cost_list[i][1] += min(cost_list[i-1][0], cost_list[i-1][2]) # G를 윗줄 R, B중 작은 값과 더해줌\n",
        "    cost_list[i][2] += min(cost_list[i-1][0], cost_list[i-1][1]) # B를 윗줄 R, G중 작은 값과 더해줌\n",
        "print(min(cost_list[-1]))  # 리스트 마지막 중 최소값 출력"
      ]
    },
    {
      "cell_type": "markdown",
      "source": [
        "## 11. 포도주 시식 (#2156)\n",
        "- - -\n",
        "2초, 128MB\n",
        "\n",
        "- - -  \n",
        "\n",
        "### 문제\n",
        "효주는 포도주 시식회에 갔다. 그 곳에 갔더니, 테이블 위에 다양한 포도주가 들어있는 포도주 잔이 일렬로 놓여 있었다. 효주는 포도주 시식을 하려고 하는데, 여기에는 다음과 같은 두 가지 규칙이 있다.\n",
        "\n",
        "1. 포도주 잔을 선택하면 그 잔에 들어있는 포도주는 모두 마셔야 하고, 마신 후에는 원래 위치에 다시 놓아야 한다.\n",
        "2. 연속으로 놓여 있는 3잔을 모두 마실 수는 없다.  \n",
        "\n",
        "효주는 될 수 있는 대로 많은 양의 포도주를 맛보기 위해서 어떤 포도주 잔을 선택해야 할지 고민하고 있다. 1부터 n까지의 번호가 붙어 있는 n개의 포도주 잔이 순서대로 테이블 위에 놓여 있고, 각 포도주 잔에 들어있는 포도주의 양이 주어졌을 때, 효주를 도와 가장 많은 양의 포도주를 마실 수 있도록 하는 프로그램을 작성하시오. \n",
        "\n",
        "예를 들어 6개의 포도주 잔이 있고, 각각의 잔에 순서대로 6, 10, 13, 9, 8, 1 만큼의 포도주가 들어 있을 때, 첫 번째, 두 번째, 네 번째, 다섯 번째 포도주 잔을 선택하면 총 포도주 양이 33으로 최대로 마실 수 있다.\n",
        "\n",
        "### 입력\n",
        "첫째 줄에 포도주 잔의 개수 n이 주어진다. (1 ≤ n ≤ 10,000) 둘째 줄부터 n+1번째 줄까지 포도주 잔에 들어있는 포도주의 양이 순서대로 주어진다. 포도주의 양은 1,000 이하의 음이 아닌 정수이다.\n",
        "\n",
        "### 출력\n",
        "첫째 줄에 최대로 마실 수 있는 포도주의 양을 출력한다.\n",
        "\n",
        "- - -  \n",
        "\n",
        "#### 예제 입력 1 \n",
        "```\n",
        "6\n",
        "6\n",
        "10\n",
        "13\n",
        "9\n",
        "8\n",
        "1\n",
        "``` \n",
        "#### 예제 출력 1\n",
        "```\n",
        "33\n",
        "```"
      ],
      "metadata": {
        "id": "UrtpDJOFdPmV"
      },
      "id": "UrtpDJOFdPmV"
    },
    {
      "cell_type": "code",
      "source": [
        "n = int(input())                            # 잔 개수 입력\n",
        "wine = [int(input()) for _ in range(n)]     # 주어진 양 입력\n",
        "drink = [0 for _ in range(n)]               # 마시는 양 init.\n",
        "\n",
        "if n < 2:                                   # 잔 1, 2개 경우 하나 먹어야 max\n",
        "    drink[0] = wine[0]\n",
        "elif n < 3:                                \n",
        "    drink[0] = wine[0]\n",
        "    drink[1] = wine[0] + wine[1]\n",
        "else:                                       # 세개 중 두개 골라 max\n",
        "    drink[0] = wine[0]\n",
        "    drink[1] = wine[0] + wine[1]\n",
        "    drink[2] = max(wine[0] + wine[1], wine[0] + wine[2], wine[1] + wine[2])\n",
        "\n",
        "for i in range(3, n):                       # 비교를 위한 3개를 먹을 수 있는 가장 적은 잔의 수가 4잔 부터이니 4번째 부터 시작 \n",
        "    drink[i] = max(drink[i-1], drink[i-2] + wine[i], drink[i-3] + wine[i-1] + wine[i])\n",
        "\n",
        "print(max(drink))"
      ],
      "metadata": {
        "id": "-ure8MEkeDFw",
        "colab": {
          "base_uri": "https://localhost:8080/"
        },
        "outputId": "4a478ad2-9fe0-4ad0-baa9-3018c6330324"
      },
      "id": "-ure8MEkeDFw",
      "execution_count": 27,
      "outputs": [
        {
          "output_type": "stream",
          "name": "stdout",
          "text": [
            "6\n",
            "6\n",
            "10\n",
            "13\n",
            "9\n",
            "8\n",
            "1\n",
            "33\n"
          ]
        }
      ]
    },
    {
      "cell_type": "markdown",
      "source": [
        "## 16. 평범한 배낭 (#12865)\n",
        "- - -\n",
        "2초, 512MB\n",
        "\n",
        "- - -  \n",
        "\n",
        "### 문제\n",
        "이 문제는 아주 평범한 배낭에 관한 문제이다.\n",
        "\n",
        "한 달 후면 국가의 부름을 받게 되는 준서는 여행을 가려고 한다. 세상과의 단절을 슬퍼하며 최대한 즐기기 위한 여행이기 때문에, 가지고 다닐 배낭 또한 최대한 가치 있게 싸려고 한다.\n",
        "\n",
        "준서가 여행에 필요하다고 생각하는 N개의 물건이 있다. 각 물건은 무게 W와 가치 V를 가지는데, 해당 물건을 배낭에 넣어서 가면 준서가 V만큼 즐길 수 있다. 아직 행군을 해본 적이 없는 준서는 최대 K만큼의 무게만을 넣을 수 있는 배낭만 들고 다닐 수 있다. 준서가 최대한 즐거운 여행을 하기 위해 배낭에 넣을 수 있는 물건들의 가치의 최댓값을 알려주자.\n",
        "\n",
        "### 입력\n",
        "첫 줄에 물품의 수 N(1 ≤ N ≤ 100)과 준서가 버틸 수 있는 무게 K(1 ≤ K ≤ 100,000)가 주어진다. 두 번째 줄부터 N개의 줄에 거쳐 각 물건의 무게 W(1 ≤ W ≤ 100,000)와 해당 물건의 가치 V(0 ≤ V ≤ 1,000)가 주어진다.\n",
        "\n",
        "입력으로 주어지는 모든 수는 정수이다.\n",
        "\n",
        "### 출력\n",
        "한 줄에 배낭에 넣을 수 있는 물건들의 가치합의 최댓값을 출력한다.\n",
        "\n",
        "- - -  \n",
        "\n",
        "#### 예제 입력 1 \n",
        "```\n",
        "4 7\n",
        "6 13\n",
        "4 8\n",
        "3 6\n",
        "5 12\n",
        "``` \n",
        "#### 예제 출력 1\n",
        "```\n",
        "14\n",
        "```"
      ],
      "metadata": {
        "id": "02NrBZ00eEIj"
      },
      "id": "02NrBZ00eEIj"
    },
    {
      "cell_type": "code",
      "source": [
        "n, k = map(int, input().split())\n",
        "\n",
        "dict_bag = {0 : 0}                      # 가방 초기 설정\n",
        "\n",
        "for i in range(n):                      # 물건 갯수 만큼 돌아보자\n",
        "    temp = {}                           # 비교를 위한 임시 저장공간\n",
        "    w, v = map(int, input().split())    # 무게와 가치 입력\n",
        "    for i, j in dict_bag.items():       # 현재 가방 안 물건 탐색\n",
        "        if w+i <= k:                    # 물건들의 무게 합이 k가 넘으면 스킵, k가 넘지 않는 경우만 진행\n",
        "            temp[w+i] = max(dict_bag.get(w+i, 0), v+j)      # 누적 무게가 k가 넘지 않는 케이스만 temp에 담아둠\n",
        "    dict_bag.update(temp)                                   # 가방 업데이트, 키가 없으면 추가 키가 있으면 값 갱신\n",
        "\n",
        "print(max(dict_bag.values()))           # 최대 가치 출력"
      ],
      "metadata": {
        "id": "PD6q4gm5obbK"
      },
      "id": "PD6q4gm5obbK",
      "execution_count": null,
      "outputs": []
    }
  ],
  "metadata": {
    "kernelspec": {
      "display_name": "Python 3 (ipykernel)",
      "language": "python",
      "name": "python3"
    },
    "language_info": {
      "codemirror_mode": {
        "name": "ipython",
        "version": 3
      },
      "file_extension": ".py",
      "mimetype": "text/x-python",
      "name": "python",
      "nbconvert_exporter": "python",
      "pygments_lexer": "ipython3",
      "version": "3.8.13"
    },
    "toc": {
      "base_numbering": 1,
      "nav_menu": {},
      "number_sections": false,
      "sideBar": true,
      "skip_h1_title": false,
      "title_cell": "Table of Contents",
      "title_sidebar": "Contents",
      "toc_cell": false,
      "toc_position": {},
      "toc_section_display": true,
      "toc_window_display": true
    },
    "varInspector": {
      "cols": {
        "lenName": 16,
        "lenType": 16,
        "lenVar": 40
      },
      "kernels_config": {
        "python": {
          "delete_cmd_postfix": "",
          "delete_cmd_prefix": "del ",
          "library": "var_list.py",
          "varRefreshCmd": "print(var_dic_list())"
        },
        "r": {
          "delete_cmd_postfix": ") ",
          "delete_cmd_prefix": "rm(",
          "library": "var_list.r",
          "varRefreshCmd": "cat(var_dic_list()) "
        }
      },
      "types_to_exclude": [
        "module",
        "function",
        "builtin_function_or_method",
        "instance",
        "_Feature"
      ],
      "window_display": false
    },
    "colab": {
      "name": "baekjoon_study6.ipynb",
      "provenance": [],
      "collapsed_sections": []
    }
  },
  "nbformat": 4,
  "nbformat_minor": 5
}